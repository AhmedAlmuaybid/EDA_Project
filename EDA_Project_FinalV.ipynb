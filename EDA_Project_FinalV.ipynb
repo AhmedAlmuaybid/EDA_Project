{
 "cells": [
  {
   "cell_type": "markdown",
   "metadata": {},
   "source": [
    "# EDA Project"
   ]
  },
  {
   "cell_type": "code",
   "execution_count": 1168,
   "metadata": {},
   "outputs": [],
   "source": [
    "# \n",
    "import pandas as pd\n",
    "import numpy as np\n",
    "import datetime\n",
    "import seaborn as sns\n",
    "import matplotlib.pyplot as plt\n",
    "%matplotlib inline"
   ]
  },
  {
   "cell_type": "markdown",
   "metadata": {},
   "source": [
    "### Import  Data"
   ]
  },
  {
   "cell_type": "code",
   "execution_count": 71,
   "metadata": {},
   "outputs": [],
   "source": [
    "# Select MTA data -weekly\n",
    "\n",
    "def get_data(week_nums):\n",
    "    url = \"http://web.mta.info/developers/data/nyct/turnstile/turnstile_{}.txt\"\n",
    "    dfs = []\n",
    "    for week_num in week_nums:\n",
    "        file_url= url.format(week_num)\n",
    "        dfs.append(pd.read_csv(file_url, parse_dates=[['DATE', 'TIME']],keep_date_col=True))\n",
    "    return pd.concat(dfs)"
   ]
  },
  {
   "cell_type": "code",
   "execution_count": 1417,
   "metadata": {},
   "outputs": [],
   "source": [
    "from pathlib import Path\n",
    "path_1 = Path(r'C:\\Users\\ahmad\\Documents\\SDAIA\\EDA_Proj')\n",
    "cols_list=[4,6,7]\n",
    "STATION_NAME_BOROUGH = pd.read_csv(path_1.joinpath('nyc-transit-data-turnstiles_station_list_-_2020-03-31-21-17-47.csv')\\\n",
    "                                   , header=None, index_col=0, usecols=cols_list).reset_index()"
   ]
  },
  {
   "cell_type": "code",
   "execution_count": 1418,
   "metadata": {},
   "outputs": [],
   "source": [
    "Projected_Population = pd.read_csv(path_1.joinpath('Projected_Population_2010-2040_-_Summary (1).csv')\\\n",
    "                                   , index_col=0).reset_index()"
   ]
  },
  {
   "cell_type": "code",
   "execution_count": 1419,
   "metadata": {},
   "outputs": [
    {
     "data": {
      "text/plain": [
       "Index(['Age Group', 'Borough', '2010', '% of Total Borough Population - 2010',\n",
       "       '2020', '% of Total Borough Population - 2020', '2030',\n",
       "       '% of Total Borough Population - 2030', '2040',\n",
       "       '% of Total Borough Population - 2040', 'Change in Number - 2010-2020',\n",
       "       'Change in Percent - 2010-2020', 'Change in Number - 2020-2030 ',\n",
       "       'Change in Percent - 2020-2030', 'Change in Number - 2030-2040 ',\n",
       "       'Change in Percent - 2030-2040', 'Change in Number - 2010-2040 ',\n",
       "       'Change in Percent - 2010-2040'],\n",
       "      dtype='object')"
      ]
     },
     "execution_count": 1419,
     "metadata": {},
     "output_type": "execute_result"
    }
   ],
   "source": [
    "Projected_Population.columns"
   ]
  },
  {
   "cell_type": "code",
   "execution_count": 1420,
   "metadata": {},
   "outputs": [],
   "source": [
    "Projected_Population.drop(['2010','% of Total Borough Population - 2010', '% of Total Borough Population - 2020','% of Total Borough Population - 2030',\\\n",
    "       '% of Total Borough Population - 2040','Change in Number - 2010-2020',\\\n",
    "       'Change in Percent - 2010-2020','2040',\\\n",
    "        'Change in Number - 2010-2040 ',\\\n",
    "       'Change in Percent - 2010-2040'], axis=1, inplace= True)"
   ]
  },
  {
   "cell_type": "code",
   "execution_count": 1421,
   "metadata": {},
   "outputs": [
    {
     "data": {
      "text/plain": [
       "0     New York City\n",
       "1             Bronx\n",
       "2          Brooklyn\n",
       "3         Manhattan\n",
       "4            Queens\n",
       "5     Staten Island\n",
       "6     New York City\n",
       "7             Bronx\n",
       "8          Brooklyn\n",
       "9         Manhattan\n",
       "10           Queens\n",
       "11    Staten Island\n",
       "12    New York City\n",
       "13            Bronx\n",
       "14         Brooklyn\n",
       "15        Manhattan\n",
       "16           Queens\n",
       "17    Staten Island\n",
       "Name: Borough, dtype: object"
      ]
     },
     "execution_count": 1421,
     "metadata": {},
     "output_type": "execute_result"
    }
   ],
   "source": [
    "Projected_Population.Borough.apply(lambda x:x.strip())"
   ]
  },
  {
   "cell_type": "markdown",
   "metadata": {},
   "source": [
    "See general information on our datasets"
   ]
  },
  {
   "cell_type": "code",
   "execution_count": 1422,
   "metadata": {},
   "outputs": [],
   "source": [
    "from sqlalchemy import create_engine\n",
    "engine = create_engine('sqlite://', echo = False)"
   ]
  },
  {
   "cell_type": "code",
   "execution_count": 1423,
   "metadata": {},
   "outputs": [],
   "source": [
    "Projected_Population.to_sql('Population', con = engine)"
   ]
  },
  {
   "cell_type": "code",
   "execution_count": 1427,
   "metadata": {},
   "outputs": [
    {
     "data": {
      "text/html": [
       "<div>\n",
       "<style scoped>\n",
       "    .dataframe tbody tr th:only-of-type {\n",
       "        vertical-align: middle;\n",
       "    }\n",
       "\n",
       "    .dataframe tbody tr th {\n",
       "        vertical-align: top;\n",
       "    }\n",
       "\n",
       "    .dataframe thead th {\n",
       "        text-align: right;\n",
       "    }\n",
       "</style>\n",
       "<table border=\"1\" class=\"dataframe\">\n",
       "  <thead>\n",
       "    <tr style=\"text-align: right;\">\n",
       "      <th></th>\n",
       "      <th>index</th>\n",
       "      <th>Age Group</th>\n",
       "      <th>Borough</th>\n",
       "      <th>2020</th>\n",
       "      <th>2030</th>\n",
       "      <th>Change in Number - 2020-2030</th>\n",
       "      <th>Change in Percent - 2020-2030</th>\n",
       "      <th>Change in Number - 2030-2040</th>\n",
       "      <th>Change in Percent - 2030-2040</th>\n",
       "    </tr>\n",
       "  </thead>\n",
       "  <tbody>\n",
       "    <tr>\n",
       "      <th>0</th>\n",
       "      <td>1</td>\n",
       "      <td>Total</td>\n",
       "      <td>Bronx</td>\n",
       "      <td>1446788</td>\n",
       "      <td>1518998</td>\n",
       "      <td>72210</td>\n",
       "      <td>4.99</td>\n",
       "      <td>60247</td>\n",
       "      <td>3.97</td>\n",
       "    </tr>\n",
       "    <tr>\n",
       "      <th>1</th>\n",
       "      <td>2</td>\n",
       "      <td>Total</td>\n",
       "      <td>Brooklyn</td>\n",
       "      <td>2648452</td>\n",
       "      <td>2754009</td>\n",
       "      <td>105557</td>\n",
       "      <td>3.99</td>\n",
       "      <td>86516</td>\n",
       "      <td>3.14</td>\n",
       "    </tr>\n",
       "    <tr>\n",
       "      <th>2</th>\n",
       "      <td>3</td>\n",
       "      <td>Total</td>\n",
       "      <td>Manhattan</td>\n",
       "      <td>1638281</td>\n",
       "      <td>1676720</td>\n",
       "      <td>38439</td>\n",
       "      <td>2.00</td>\n",
       "      <td>14897</td>\n",
       "      <td>0.89</td>\n",
       "    </tr>\n",
       "    <tr>\n",
       "      <th>3</th>\n",
       "      <td>4</td>\n",
       "      <td>Total</td>\n",
       "      <td>Queens</td>\n",
       "      <td>2330295</td>\n",
       "      <td>2373551</td>\n",
       "      <td>43256</td>\n",
       "      <td>1.86</td>\n",
       "      <td>39098</td>\n",
       "      <td>2.00</td>\n",
       "    </tr>\n",
       "    <tr>\n",
       "      <th>4</th>\n",
       "      <td>5</td>\n",
       "      <td>Total</td>\n",
       "      <td>Staten Island</td>\n",
       "      <td>487155</td>\n",
       "      <td>497749</td>\n",
       "      <td>10594</td>\n",
       "      <td>2.17</td>\n",
       "      <td>3360</td>\n",
       "      <td>0.68</td>\n",
       "    </tr>\n",
       "  </tbody>\n",
       "</table>\n",
       "</div>"
      ],
      "text/plain": [
       "   index Age Group           Borough     2020     2030  \\\n",
       "0      1     Total             Bronx  1446788  1518998   \n",
       "1      2     Total          Brooklyn  2648452  2754009   \n",
       "2      3     Total         Manhattan  1638281  1676720   \n",
       "3      4     Total            Queens  2330295  2373551   \n",
       "4      5     Total     Staten Island   487155   497749   \n",
       "\n",
       "   Change in Number - 2020-2030   Change in Percent - 2020-2030  \\\n",
       "0                          72210                           4.99   \n",
       "1                         105557                           3.99   \n",
       "2                          38439                           2.00   \n",
       "3                          43256                           1.86   \n",
       "4                          10594                           2.17   \n",
       "\n",
       "   Change in Number - 2030-2040   Change in Percent - 2030-2040  \n",
       "0                          60247                           3.97  \n",
       "1                          86516                           3.14  \n",
       "2                          14897                           0.89  \n",
       "3                          39098                           2.00  \n",
       "4                           3360                           0.68  "
      ]
     },
     "execution_count": 1427,
     "metadata": {},
     "output_type": "execute_result"
    }
   ],
   "source": [
    "Projected_Population_sql = pd.read_sql(\"SELECT * FROM Population  WHERE Borough = '   Bronx' OR Borough = '   Brooklyn' OR Borough = '   Manhattan' OR Borough = '   Queens' OR Borough = '   Staten Island' LIMIT 5 ;\" , engine)\n",
    "Projected_Population_sql"
   ]
  },
  {
   "cell_type": "code",
   "execution_count": 1323,
   "metadata": {
    "scrolled": true
   },
   "outputs": [
    {
     "data": {
      "text/html": [
       "<div>\n",
       "<style scoped>\n",
       "    .dataframe tbody tr th:only-of-type {\n",
       "        vertical-align: middle;\n",
       "    }\n",
       "\n",
       "    .dataframe tbody tr th {\n",
       "        vertical-align: top;\n",
       "    }\n",
       "\n",
       "    .dataframe thead th {\n",
       "        text-align: right;\n",
       "    }\n",
       "</style>\n",
       "<table border=\"1\" class=\"dataframe\">\n",
       "  <thead>\n",
       "    <tr style=\"text-align: right;\">\n",
       "      <th></th>\n",
       "      <th>STATION</th>\n",
       "      <th>BOROUGH</th>\n",
       "      <th>BOROUGH_FULL_NAME</th>\n",
       "    </tr>\n",
       "  </thead>\n",
       "  <tbody>\n",
       "    <tr>\n",
       "      <th>0</th>\n",
       "      <td>ASTORIA DITMARS</td>\n",
       "      <td>Q</td>\n",
       "      <td>QUEENS</td>\n",
       "    </tr>\n",
       "    <tr>\n",
       "      <th>1</th>\n",
       "      <td>ASTORIA BLVD</td>\n",
       "      <td>Q</td>\n",
       "      <td>QUEENS</td>\n",
       "    </tr>\n",
       "    <tr>\n",
       "      <th>2</th>\n",
       "      <td>30 AV</td>\n",
       "      <td>Q</td>\n",
       "      <td>QUEENS</td>\n",
       "    </tr>\n",
       "    <tr>\n",
       "      <th>3</th>\n",
       "      <td>BROADWAY</td>\n",
       "      <td>Q</td>\n",
       "      <td>QUEENS</td>\n",
       "    </tr>\n",
       "    <tr>\n",
       "      <th>4</th>\n",
       "      <td>36 AV</td>\n",
       "      <td>Q</td>\n",
       "      <td>QUEENS</td>\n",
       "    </tr>\n",
       "    <tr>\n",
       "      <th>5</th>\n",
       "      <td>39 AV</td>\n",
       "      <td>Q</td>\n",
       "      <td>QUEENS</td>\n",
       "    </tr>\n",
       "    <tr>\n",
       "      <th>6</th>\n",
       "      <td>5 AV/59 ST</td>\n",
       "      <td>M</td>\n",
       "      <td>MANHATTAN</td>\n",
       "    </tr>\n",
       "    <tr>\n",
       "      <th>7</th>\n",
       "      <td>5 AV/59 ST</td>\n",
       "      <td>M</td>\n",
       "      <td>MANHATTAN</td>\n",
       "    </tr>\n",
       "    <tr>\n",
       "      <th>8</th>\n",
       "      <td>57 ST-7 AV</td>\n",
       "      <td>M</td>\n",
       "      <td>MANHATTAN</td>\n",
       "    </tr>\n",
       "    <tr>\n",
       "      <th>9</th>\n",
       "      <td>49 ST</td>\n",
       "      <td>M</td>\n",
       "      <td>MANHATTAN</td>\n",
       "    </tr>\n",
       "  </tbody>\n",
       "</table>\n",
       "</div>"
      ],
      "text/plain": [
       "           STATION BOROUGH BOROUGH_FULL_NAME\n",
       "0  ASTORIA DITMARS       Q            QUEENS\n",
       "1     ASTORIA BLVD       Q            QUEENS\n",
       "2            30 AV       Q            QUEENS\n",
       "3         BROADWAY       Q            QUEENS\n",
       "4            36 AV       Q            QUEENS\n",
       "5            39 AV       Q            QUEENS\n",
       "6       5 AV/59 ST       M         MANHATTAN\n",
       "7       5 AV/59 ST       M         MANHATTAN\n",
       "8       57 ST-7 AV       M         MANHATTAN\n",
       "9            49 ST       M         MANHATTAN"
      ]
     },
     "execution_count": 1323,
     "metadata": {},
     "output_type": "execute_result"
    }
   ],
   "source": [
    "STATION_NAME_BOROUGH.head(10)"
   ]
  },
  {
   "cell_type": "code",
   "execution_count": 240,
   "metadata": {},
   "outputs": [],
   "source": [
    "STATION_NAME_BOROUGH.rename(columns={4: 'DIVISION', 6: 'STATION', 7:'BOROUGH'}, inplace=True)"
   ]
  },
  {
   "cell_type": "code",
   "execution_count": 203,
   "metadata": {},
   "outputs": [
    {
     "data": {
      "text/html": [
       "<div>\n",
       "<style scoped>\n",
       "    .dataframe tbody tr th:only-of-type {\n",
       "        vertical-align: middle;\n",
       "    }\n",
       "\n",
       "    .dataframe tbody tr th {\n",
       "        vertical-align: top;\n",
       "    }\n",
       "\n",
       "    .dataframe thead th {\n",
       "        text-align: right;\n",
       "    }\n",
       "</style>\n",
       "<table border=\"1\" class=\"dataframe\">\n",
       "  <thead>\n",
       "    <tr style=\"text-align: right;\">\n",
       "      <th></th>\n",
       "      <th>DIVISION</th>\n",
       "      <th>STATION</th>\n",
       "      <th>BOROUGH</th>\n",
       "    </tr>\n",
       "  </thead>\n",
       "  <tbody>\n",
       "    <tr>\n",
       "      <th>0</th>\n",
       "      <td>division</td>\n",
       "      <td>stop_name</td>\n",
       "      <td>borough</td>\n",
       "    </tr>\n",
       "    <tr>\n",
       "      <th>1</th>\n",
       "      <td>BMT</td>\n",
       "      <td>Astoria - Ditmars Blvd</td>\n",
       "      <td>Q</td>\n",
       "    </tr>\n",
       "    <tr>\n",
       "      <th>2</th>\n",
       "      <td>BMT</td>\n",
       "      <td>Astoria Blvd</td>\n",
       "      <td>Q</td>\n",
       "    </tr>\n",
       "    <tr>\n",
       "      <th>3</th>\n",
       "      <td>BMT</td>\n",
       "      <td>30 Av</td>\n",
       "      <td>Q</td>\n",
       "    </tr>\n",
       "    <tr>\n",
       "      <th>4</th>\n",
       "      <td>BMT</td>\n",
       "      <td>Broadway</td>\n",
       "      <td>Q</td>\n",
       "    </tr>\n",
       "    <tr>\n",
       "      <th>5</th>\n",
       "      <td>BMT</td>\n",
       "      <td>36 Av</td>\n",
       "      <td>Q</td>\n",
       "    </tr>\n",
       "    <tr>\n",
       "      <th>6</th>\n",
       "      <td>BMT</td>\n",
       "      <td>39 Av</td>\n",
       "      <td>Q</td>\n",
       "    </tr>\n",
       "    <tr>\n",
       "      <th>7</th>\n",
       "      <td>BMT</td>\n",
       "      <td>Lexington Av/59 St</td>\n",
       "      <td>M</td>\n",
       "    </tr>\n",
       "    <tr>\n",
       "      <th>8</th>\n",
       "      <td>BMT</td>\n",
       "      <td>5 Av/59 St</td>\n",
       "      <td>M</td>\n",
       "    </tr>\n",
       "    <tr>\n",
       "      <th>9</th>\n",
       "      <td>BMT</td>\n",
       "      <td>57 St - 7 Av</td>\n",
       "      <td>M</td>\n",
       "    </tr>\n",
       "  </tbody>\n",
       "</table>\n",
       "</div>"
      ],
      "text/plain": [
       "   DIVISION                 STATION  BOROUGH\n",
       "0  division               stop_name  borough\n",
       "1       BMT  Astoria - Ditmars Blvd        Q\n",
       "2       BMT            Astoria Blvd        Q\n",
       "3       BMT                   30 Av        Q\n",
       "4       BMT                Broadway        Q\n",
       "5       BMT                   36 Av        Q\n",
       "6       BMT                   39 Av        Q\n",
       "7       BMT      Lexington Av/59 St        M\n",
       "8       BMT              5 Av/59 St        M\n",
       "9       BMT            57 St - 7 Av        M"
      ]
     },
     "execution_count": 203,
     "metadata": {},
     "output_type": "execute_result"
    }
   ],
   "source": [
    "STATION_NAME_BOROUGH.head(10)"
   ]
  },
  {
   "cell_type": "code",
   "execution_count": 241,
   "metadata": {},
   "outputs": [],
   "source": [
    "STATION_NAME_BOROUGH.drop(0, inplace= True)"
   ]
  },
  {
   "cell_type": "code",
   "execution_count": 242,
   "metadata": {},
   "outputs": [],
   "source": [
    "STATION_NAME_BOROUGH.reset_index(drop = True, inplace= True)"
   ]
  },
  {
   "cell_type": "code",
   "execution_count": 213,
   "metadata": {},
   "outputs": [
    {
     "data": {
      "text/html": [
       "<div>\n",
       "<style scoped>\n",
       "    .dataframe tbody tr th:only-of-type {\n",
       "        vertical-align: middle;\n",
       "    }\n",
       "\n",
       "    .dataframe tbody tr th {\n",
       "        vertical-align: top;\n",
       "    }\n",
       "\n",
       "    .dataframe thead th {\n",
       "        text-align: right;\n",
       "    }\n",
       "</style>\n",
       "<table border=\"1\" class=\"dataframe\">\n",
       "  <thead>\n",
       "    <tr style=\"text-align: right;\">\n",
       "      <th></th>\n",
       "      <th>DIVISION</th>\n",
       "      <th>STATION</th>\n",
       "      <th>BOROUGH</th>\n",
       "    </tr>\n",
       "  </thead>\n",
       "  <tbody>\n",
       "    <tr>\n",
       "      <th>0</th>\n",
       "      <td>BMT</td>\n",
       "      <td>Astoria - Ditmars Blvd</td>\n",
       "      <td>Q</td>\n",
       "    </tr>\n",
       "    <tr>\n",
       "      <th>1</th>\n",
       "      <td>BMT</td>\n",
       "      <td>Astoria Blvd</td>\n",
       "      <td>Q</td>\n",
       "    </tr>\n",
       "    <tr>\n",
       "      <th>2</th>\n",
       "      <td>BMT</td>\n",
       "      <td>30 Av</td>\n",
       "      <td>Q</td>\n",
       "    </tr>\n",
       "    <tr>\n",
       "      <th>3</th>\n",
       "      <td>BMT</td>\n",
       "      <td>Broadway</td>\n",
       "      <td>Q</td>\n",
       "    </tr>\n",
       "    <tr>\n",
       "      <th>4</th>\n",
       "      <td>BMT</td>\n",
       "      <td>36 Av</td>\n",
       "      <td>Q</td>\n",
       "    </tr>\n",
       "  </tbody>\n",
       "</table>\n",
       "</div>"
      ],
      "text/plain": [
       "  DIVISION                 STATION BOROUGH\n",
       "0      BMT  Astoria - Ditmars Blvd       Q\n",
       "1      BMT            Astoria Blvd       Q\n",
       "2      BMT                   30 Av       Q\n",
       "3      BMT                Broadway       Q\n",
       "4      BMT                   36 Av       Q"
      ]
     },
     "execution_count": 213,
     "metadata": {},
     "output_type": "execute_result"
    }
   ],
   "source": [
    "STATION_NAME_BOROUGH.head()"
   ]
  },
  {
   "cell_type": "code",
   "execution_count": 243,
   "metadata": {},
   "outputs": [
    {
     "data": {
      "text/plain": [
       "387"
      ]
     },
     "execution_count": 243,
     "metadata": {},
     "output_type": "execute_result"
    }
   ],
   "source": [
    "len(STATION_NAME_BOROUGH.STATION.unique())"
   ]
  },
  {
   "cell_type": "code",
   "execution_count": 244,
   "metadata": {
    "collapsed": true
   },
   "outputs": [
    {
     "data": {
      "text/plain": [
       "array(['Astoria - Ditmars Blvd', 'Astoria Blvd', '30 Av', 'Broadway',\n",
       "       '36 Av', '39 Av', 'Lexington Av/59 St', '5 Av/59 St',\n",
       "       '57 St - 7 Av', '49 St', 'Times Sq - 42 St', '34 St - Herald Sq',\n",
       "       '28 St', '23 St', '14 St - Union Sq', '8 St - NYU', 'Prince St',\n",
       "       'Canal St', 'City Hall', 'Cortlandt St', 'Rector St',\n",
       "       'Whitehall St', 'Court St', 'Jay St - MetroTech', 'DeKalb Av',\n",
       "       'Atlantic Av - Barclays Ctr', 'Union St', '9 St', 'Prospect Av',\n",
       "       '25 St', '36 St', '45 St', '53 St', '59 St', 'Bay Ridge Av',\n",
       "       '77 St', '86 St', 'Bay Ridge - 95 St', '7 Av', 'Prospect Park',\n",
       "       'Parkside Av', 'Church Av', 'Beverley Rd', 'Cortelyou Rd',\n",
       "       'Newkirk Plaza', 'Avenue H', 'Avenue J', 'Avenue M', 'Kings Hwy',\n",
       "       'Avenue U', 'Neck Rd', 'Sheepshead Bay', 'Brighton Beach',\n",
       "       'Ocean Pkwy', 'W 8 St - NY Aquarium',\n",
       "       'Coney Island - Stillwell Av', '9 Av', 'Fort Hamilton Pkwy',\n",
       "       '50 St', '55 St', '62 St', '71 St', '79 St', '18 Av', '20 Av',\n",
       "       'Bay Pkwy', '25 Av', 'Bay 50 St', '8 Av', 'New Utrecht Av',\n",
       "       '121 St', '111 St', '104 St', 'Woodhaven Blvd',\n",
       "       '85 St - Forest Pkwy', '75 St', 'Cypress Hills', 'Crescent St',\n",
       "       'Norwood Av', 'Cleveland St', 'Van Siclen Av', 'Alabama Av',\n",
       "       'Broadway Jct', 'Chauncey St', 'Halsey St', 'Gates Av',\n",
       "       'Kosciuszko St', 'Myrtle Av', 'Flushing Av', 'Lorimer St',\n",
       "       'Hewes St', 'Marcy Av', 'Essex St', 'Bowery', 'Chambers St',\n",
       "       'Fulton St', 'Broad St', 'Middle Village - Metropolitan Av',\n",
       "       'Fresh Pond Rd', 'Forest Av', 'Seneca Av', 'Myrtle - Wyckoff Avs',\n",
       "       'Knickerbocker Av', 'Central Av', '6 Av', 'Union Sq - 14 St',\n",
       "       '3 Av', '1 Av', 'Bedford Av', 'Graham Av', 'Grand St',\n",
       "       'Montrose Av', 'Morgan Av', 'Jefferson St', 'Wilson Av',\n",
       "       'Bushwick Av - Aberdeen St', 'Atlantic Av', 'Sutter Av',\n",
       "       'Livonia Av', 'New Lots Av', 'E 105 St',\n",
       "       'Canarsie - Rockaway Pkwy', 'Franklin Av', 'Park Pl',\n",
       "       'Botanic Garden', 'Inwood - 207 St', 'Dyckman St', '190 St',\n",
       "       '181 St', '175 St', '168 St', '163 St - Amsterdam Av', '155 St',\n",
       "       '145 St', '135 St', '125 St', '116 St', 'Cathedral Pkwy (110 St)',\n",
       "       '103 St', '96 St', '81 St - Museum of Natural History', '72 St',\n",
       "       '59 St - Columbus Circle', '42 St - Port Authority Bus Terminal',\n",
       "       '34 St - Penn Station', '14 St', 'W 4 St', 'Spring St',\n",
       "       'World Trade Center', 'High St', 'Hoyt - Schermerhorn Sts',\n",
       "       'Lafayette Av', 'Clinton - Washington Avs', 'Nostrand Av',\n",
       "       'Kingston - Throop Avs', 'Utica Av', 'Ralph Av', 'Rockaway Av',\n",
       "       'Liberty Av', 'Shepherd Av', 'Euclid Av', 'Grant Av', '80 St',\n",
       "       '88 St', 'Rockaway Blvd', 'Ozone Park - Lefferts Blvd',\n",
       "       'Aqueduct Racetrack', 'Aqueduct - N Conduit Av',\n",
       "       'Howard Beach - JFK Airport', 'Broad Channel', 'Beach 90 St',\n",
       "       'Beach 98 St', 'Beach 105 St', 'Rockaway Park - Beach 116 St',\n",
       "       'Beach 67 St', 'Beach 60 St', 'Beach 44 St', 'Beach 36 St',\n",
       "       'Beach 25 St', 'Far Rockaway - Mott Av', 'Norwood - 205 St',\n",
       "       'Bedford Park Blvd', 'Kingsbridge Rd', 'Fordham Rd', '182-183 Sts',\n",
       "       'Tremont Av', '174-175 Sts', '170 St', '167 St',\n",
       "       '161 St - Yankee Stadium', '21 St - Queensbridge',\n",
       "       'Roosevelt Island', 'Lexington Av/63 St', '57 St',\n",
       "       '47-50 Sts - Rockefeller Ctr', '42 St - Bryant Pk',\n",
       "       'Broadway-Lafayette St', '2 Av', 'Delancey St', 'East Broadway',\n",
       "       'York St', 'Bergen St', 'Carroll St', 'Smith - 9 Sts', '4 Av',\n",
       "       '15 St - Prospect Park', 'Ditmas Av', 'Avenue I', 'Avenue N',\n",
       "       'Avenue P', 'Avenue X', 'Neptune Av', 'Jamaica - 179 St', '169 St',\n",
       "       'Parsons Blvd', 'Sutphin Blvd', 'Briarwood - Van Wyck Blvd',\n",
       "       'Kew Gardens - Union Tpke', '75 Av', 'Forest Hills - 71 Av',\n",
       "       '67 Av', '63 Dr - Rego Park', 'Grand Av - Newtown', 'Elmhurst Av',\n",
       "       'Jackson Hts - Roosevelt Av', '65 St', 'Northern Blvd', '46 St',\n",
       "       'Steinway St', 'Queens Plaza', 'Court Sq', 'Lexington Av/53 St',\n",
       "       '5 Av/53 St', 'Jamaica Center - Parsons/Archer',\n",
       "       'Sutphin Blvd - Archer Av - JFK Airport', 'Jamaica - Van Wyck',\n",
       "       '21 St', 'Greenpoint Av', 'Nassau Av', 'Metropolitan Av',\n",
       "       'Myrtle - Willoughby Avs', 'Bedford - Nostrand Avs', 'Classon Av',\n",
       "       'Van Cortlandt Park - 242 St', '238 St', '231 St',\n",
       "       'Marble Hill - 225 St', '215 St', '207 St', '191 St',\n",
       "       '168 St - Washington Hts', '157 St', '137 St - City College',\n",
       "       '116 St - Columbia University', 'Cathedral Pkwy',\n",
       "       '66 St - Lincoln Center', '18 St', 'Christopher St - Sheridan Sq',\n",
       "       'Houston St', 'Franklin St', 'WTC Cortlandt', 'South Ferry',\n",
       "       'Wall St', 'Clark St', 'Borough Hall', 'Hoyt St', 'Nevins St',\n",
       "       'Grand Army Plaza', 'Eastern Pkwy - Brooklyn Museum',\n",
       "       'Kingston Av', 'Crown Hts - Utica Av', 'Sutter Av - Rutland Rd',\n",
       "       'Saratoga Av', 'Junius St', 'Pennsylvania Av', 'President St',\n",
       "       'Sterling St', 'Winthrop St', 'Beverly Rd', 'Newkirk Av',\n",
       "       'Flatbush Av - Brooklyn College', 'Pelham Bay Park', 'Buhre Av',\n",
       "       'Middletown Rd', 'Westchester Sq - E Tremont Av', 'Zerega Av',\n",
       "       'Castle Hill Av', 'Parkchester', 'St Lawrence Av',\n",
       "       'Morrison Av- Sound View', 'Elder Av', 'Whitlock Av',\n",
       "       'Hunts Point Av', 'Longwood Av', 'E 149 St',\n",
       "       \"E 143 St - St Mary's St\", 'Cypress Av', 'Brook Av',\n",
       "       '3 Av - 138 St', 'Woodlawn', 'Mosholu Pkwy',\n",
       "       'Bedford Park Blvd - Lehman College', '183 St', 'Burnside Av',\n",
       "       '176 St', 'Mt Eden Av', '149 St - Grand Concourse',\n",
       "       '138 St - Grand Concourse', '110 St', '68 St - Hunter College',\n",
       "       '51 St', 'Grand Central - 42 St', '33 St', 'Astor Pl',\n",
       "       'Bleecker St', 'Brooklyn Bridge - City Hall', 'Bowling Green',\n",
       "       'Wakefield - 241 St', 'Nereid Av', '233 St', '225 St', '219 St',\n",
       "       'Gun Hill Rd', 'Burke Av', 'Allerton Av', 'Pelham Pkwy',\n",
       "       'Bronx Park East', 'E 180 St', 'West Farms Sq - E Tremont Av',\n",
       "       '174 St', 'Freeman St', 'Simpson St', 'Intervale Av', 'Jackson Av',\n",
       "       '3 Av - 149 St', 'Harlem - 148 St', 'Central Park North (110 St)',\n",
       "       'Eastchester - Dyre Av', 'Baychester Av', 'Morris Park',\n",
       "       'Flushing - Main St', 'Mets - Willets Point',\n",
       "       '103 St - Corona Plaza', 'Junction Blvd', '90 St - Elmhurst Av',\n",
       "       '82 St - Jackson Hts', '74 St - Broadway', '69 St',\n",
       "       'Woodside - 61 St', '52 St', '40 St', 'Queensboro Plaza',\n",
       "       'Hunters Point Av', 'Vernon Blvd - Jackson Av', '5 Av',\n",
       "       '34 St - 11 Av', 'St George', 'Tompkinsville', 'Stapleton',\n",
       "       'Clifton', 'Grasmere', 'Old Town', 'Dongan Hills', 'Jefferson Av',\n",
       "       'Grant City', 'New Dorp', 'Oakwood Heights', 'Bay Terrace',\n",
       "       'Great Kills', 'Eltingville', 'Annadale', 'Huguenot',\n",
       "       \"Prince's Bay\", 'Pleasant Plains', 'Richmond Valley',\n",
       "       'Tottenville', 'Arthur Kill', 'Roosevelt Island Tram - Eastbound',\n",
       "       'Roosevelt Island Tram - Westbound', 'Exchange Pl', 'Harrison',\n",
       "       'Pavonia/Newport', 'Christopher St', 'Newark Penn Station',\n",
       "       'Hoboken', 'Grove St', 'Journal Sq'], dtype=object)"
      ]
     },
     "execution_count": 244,
     "metadata": {},
     "output_type": "execute_result"
    }
   ],
   "source": [
    "STATION_NAME_BOROUGH.STATION.unique()"
   ]
  },
  {
   "cell_type": "code",
   "execution_count": 245,
   "metadata": {},
   "outputs": [
    {
     "name": "stdout",
     "output_type": "stream",
     "text": [
      "<class 'pandas.core.frame.DataFrame'>\n",
      "RangeIndex: 511 entries, 0 to 510\n",
      "Data columns (total 3 columns):\n",
      " #   Column    Non-Null Count  Dtype \n",
      "---  ------    --------------  ----- \n",
      " 0   DIVISION  511 non-null    object\n",
      " 1   STATION   511 non-null    object\n",
      " 2   BOROUGH   496 non-null    object\n",
      "dtypes: object(3)\n",
      "memory usage: 12.1+ KB\n"
     ]
    }
   ],
   "source": [
    "STATION_NAME_BOROUGH.info()"
   ]
  },
  {
   "cell_type": "code",
   "execution_count": 246,
   "metadata": {},
   "outputs": [
    {
     "data": {
      "text/plain": [
       "DIVISION     0\n",
       "STATION      0\n",
       "BOROUGH     15\n",
       "dtype: int64"
      ]
     },
     "execution_count": 246,
     "metadata": {},
     "output_type": "execute_result"
    }
   ],
   "source": [
    "#Befor\n",
    "STATION_NAME_BOROUGH.isna().sum()"
   ]
  },
  {
   "cell_type": "code",
   "execution_count": 247,
   "metadata": {},
   "outputs": [
    {
     "data": {
      "text/plain": [
       "Index(['DIVISION', 'STATION', 'BOROUGH'], dtype='object')"
      ]
     },
     "execution_count": 247,
     "metadata": {},
     "output_type": "execute_result"
    }
   ],
   "source": [
    "STATION_NAME_BOROUGH.columns = [column.strip() for column in STATION_NAME_BOROUGH.columns]\n",
    "STATION_NAME_BOROUGH.columns"
   ]
  },
  {
   "cell_type": "code",
   "execution_count": 248,
   "metadata": {},
   "outputs": [],
   "source": [
    "#Drop null values\n",
    "STATION_NAME_BOROUGH.dropna(subset=[\"BOROUGH\"], axis=0, inplace=True)"
   ]
  },
  {
   "cell_type": "code",
   "execution_count": 249,
   "metadata": {},
   "outputs": [
    {
     "data": {
      "text/plain": [
       "DIVISION    0\n",
       "STATION     0\n",
       "BOROUGH     0\n",
       "dtype: int64"
      ]
     },
     "execution_count": 249,
     "metadata": {},
     "output_type": "execute_result"
    }
   ],
   "source": [
    "#After\n",
    "STATION_NAME_BOROUGH.isna().sum()"
   ]
  },
  {
   "cell_type": "code",
   "execution_count": 250,
   "metadata": {},
   "outputs": [],
   "source": [
    "STATION_NAME_BOROUGH['STATION'] = STATION_NAME_BOROUGH['STATION'].str.upper()"
   ]
  },
  {
   "cell_type": "code",
   "execution_count": 251,
   "metadata": {},
   "outputs": [
    {
     "data": {
      "text/html": [
       "<div>\n",
       "<style scoped>\n",
       "    .dataframe tbody tr th:only-of-type {\n",
       "        vertical-align: middle;\n",
       "    }\n",
       "\n",
       "    .dataframe tbody tr th {\n",
       "        vertical-align: top;\n",
       "    }\n",
       "\n",
       "    .dataframe thead th {\n",
       "        text-align: right;\n",
       "    }\n",
       "</style>\n",
       "<table border=\"1\" class=\"dataframe\">\n",
       "  <thead>\n",
       "    <tr style=\"text-align: right;\">\n",
       "      <th></th>\n",
       "      <th>DIVISION</th>\n",
       "      <th>STATION</th>\n",
       "      <th>BOROUGH</th>\n",
       "    </tr>\n",
       "  </thead>\n",
       "  <tbody>\n",
       "    <tr>\n",
       "      <th>0</th>\n",
       "      <td>BMT</td>\n",
       "      <td>ASTORIA - DITMARS BLVD</td>\n",
       "      <td>Q</td>\n",
       "    </tr>\n",
       "    <tr>\n",
       "      <th>1</th>\n",
       "      <td>BMT</td>\n",
       "      <td>ASTORIA BLVD</td>\n",
       "      <td>Q</td>\n",
       "    </tr>\n",
       "    <tr>\n",
       "      <th>2</th>\n",
       "      <td>BMT</td>\n",
       "      <td>30 AV</td>\n",
       "      <td>Q</td>\n",
       "    </tr>\n",
       "    <tr>\n",
       "      <th>3</th>\n",
       "      <td>BMT</td>\n",
       "      <td>BROADWAY</td>\n",
       "      <td>Q</td>\n",
       "    </tr>\n",
       "    <tr>\n",
       "      <th>4</th>\n",
       "      <td>BMT</td>\n",
       "      <td>36 AV</td>\n",
       "      <td>Q</td>\n",
       "    </tr>\n",
       "  </tbody>\n",
       "</table>\n",
       "</div>"
      ],
      "text/plain": [
       "  DIVISION                 STATION BOROUGH\n",
       "0      BMT  ASTORIA - DITMARS BLVD       Q\n",
       "1      BMT            ASTORIA BLVD       Q\n",
       "2      BMT                   30 AV       Q\n",
       "3      BMT                BROADWAY       Q\n",
       "4      BMT                   36 AV       Q"
      ]
     },
     "execution_count": 251,
     "metadata": {},
     "output_type": "execute_result"
    }
   ],
   "source": [
    "STATION_NAME_BOROUGH.head()"
   ]
  },
  {
   "cell_type": "code",
   "execution_count": 419,
   "metadata": {},
   "outputs": [
    {
     "data": {
      "text/plain": [
       "array(['Q', 'M', 'Bk', 'Bx', 'SI'], dtype=object)"
      ]
     },
     "execution_count": 419,
     "metadata": {},
     "output_type": "execute_result"
    }
   ],
   "source": [
    "STATION_NAME_BOROUGH['BOROUGH'].unique()"
   ]
  },
  {
   "cell_type": "code",
   "execution_count": 420,
   "metadata": {},
   "outputs": [],
   "source": [
    "#The Bronx, Brooklyn, Manhattan, Queens, and Staten Island\n",
    "BOROUGH_dict = {'Q':'QUEENS' , 'M':'MANHATTAN' , 'Bk':'BROOKLYN' , 'Bx':'THE BRONX' , 'SI':'STATEN ISLAND'}\n",
    "STATION_NAME_BOROUGH['BOROUGH_FULL_NAME'] = STATION_NAME_BOROUGH['BOROUGH'].map(BOROUGH_dict)"
   ]
  },
  {
   "cell_type": "code",
   "execution_count": 835,
   "metadata": {},
   "outputs": [
    {
     "data": {
      "text/html": [
       "<div>\n",
       "<style scoped>\n",
       "    .dataframe tbody tr th:only-of-type {\n",
       "        vertical-align: middle;\n",
       "    }\n",
       "\n",
       "    .dataframe tbody tr th {\n",
       "        vertical-align: top;\n",
       "    }\n",
       "\n",
       "    .dataframe thead th {\n",
       "        text-align: right;\n",
       "    }\n",
       "</style>\n",
       "<table border=\"1\" class=\"dataframe\">\n",
       "  <thead>\n",
       "    <tr style=\"text-align: right;\">\n",
       "      <th></th>\n",
       "      <th>DIVISION</th>\n",
       "      <th>STATION</th>\n",
       "      <th>BOROUGH</th>\n",
       "      <th>BOROUGH_FULL_NAME</th>\n",
       "    </tr>\n",
       "  </thead>\n",
       "  <tbody>\n",
       "    <tr>\n",
       "      <th>396</th>\n",
       "      <td>IRT</td>\n",
       "      <td>96 ST</td>\n",
       "      <td>M</td>\n",
       "      <td>MANHATTAN</td>\n",
       "    </tr>\n",
       "    <tr>\n",
       "      <th>397</th>\n",
       "      <td>IRT</td>\n",
       "      <td>86 ST</td>\n",
       "      <td>M</td>\n",
       "      <td>MANHATTAN</td>\n",
       "    </tr>\n",
       "    <tr>\n",
       "      <th>398</th>\n",
       "      <td>IRT</td>\n",
       "      <td>77 ST</td>\n",
       "      <td>M</td>\n",
       "      <td>MANHATTAN</td>\n",
       "    </tr>\n",
       "    <tr>\n",
       "      <th>399</th>\n",
       "      <td>IRT</td>\n",
       "      <td>68 ST-HUNTER COLLEGE</td>\n",
       "      <td>M</td>\n",
       "      <td>MANHATTAN</td>\n",
       "    </tr>\n",
       "    <tr>\n",
       "      <th>400</th>\n",
       "      <td>IRT</td>\n",
       "      <td>59 ST</td>\n",
       "      <td>M</td>\n",
       "      <td>MANHATTAN</td>\n",
       "    </tr>\n",
       "    <tr>\n",
       "      <th>...</th>\n",
       "      <td>...</td>\n",
       "      <td>...</td>\n",
       "      <td>...</td>\n",
       "      <td>...</td>\n",
       "    </tr>\n",
       "    <tr>\n",
       "      <th>491</th>\n",
       "      <td>SIR</td>\n",
       "      <td>PRINCE'S BAY</td>\n",
       "      <td>SI</td>\n",
       "      <td>STATEN ISLAND</td>\n",
       "    </tr>\n",
       "    <tr>\n",
       "      <th>492</th>\n",
       "      <td>SIR</td>\n",
       "      <td>PLEASANT PLAINS</td>\n",
       "      <td>SI</td>\n",
       "      <td>STATEN ISLAND</td>\n",
       "    </tr>\n",
       "    <tr>\n",
       "      <th>493</th>\n",
       "      <td>SIR</td>\n",
       "      <td>RICHMOND VALLEY</td>\n",
       "      <td>SI</td>\n",
       "      <td>STATEN ISLAND</td>\n",
       "    </tr>\n",
       "    <tr>\n",
       "      <th>494</th>\n",
       "      <td>SIR</td>\n",
       "      <td>TOTTENVILLE</td>\n",
       "      <td>SI</td>\n",
       "      <td>STATEN ISLAND</td>\n",
       "    </tr>\n",
       "    <tr>\n",
       "      <th>495</th>\n",
       "      <td>SIR</td>\n",
       "      <td>ARTHUR KILL</td>\n",
       "      <td>SI</td>\n",
       "      <td>STATEN ISLAND</td>\n",
       "    </tr>\n",
       "  </tbody>\n",
       "</table>\n",
       "<p>100 rows × 4 columns</p>\n",
       "</div>"
      ],
      "text/plain": [
       "    DIVISION               STATION BOROUGH BOROUGH_FULL_NAME\n",
       "396      IRT                 96 ST       M         MANHATTAN\n",
       "397      IRT                 86 ST       M         MANHATTAN\n",
       "398      IRT                 77 ST       M         MANHATTAN\n",
       "399      IRT  68 ST-HUNTER COLLEGE       M         MANHATTAN\n",
       "400      IRT                 59 ST       M         MANHATTAN\n",
       "..       ...                   ...     ...               ...\n",
       "491      SIR          PRINCE'S BAY      SI     STATEN ISLAND\n",
       "492      SIR       PLEASANT PLAINS      SI     STATEN ISLAND\n",
       "493      SIR       RICHMOND VALLEY      SI     STATEN ISLAND\n",
       "494      SIR           TOTTENVILLE      SI     STATEN ISLAND\n",
       "495      SIR           ARTHUR KILL      SI     STATEN ISLAND\n",
       "\n",
       "[100 rows x 4 columns]"
      ]
     },
     "execution_count": 835,
     "metadata": {},
     "output_type": "execute_result"
    }
   ],
   "source": [
    "STATION_NAME_BOROUGH.tail(100)"
   ]
  },
  {
   "cell_type": "code",
   "execution_count": 72,
   "metadata": {},
   "outputs": [],
   "source": [
    "#generat week_numbers frin get_data funcation\n",
    "\n",
    "#enter the last two digit of the year (ex. 2019 == 19, 2018== 18)\n",
    "#months should allways be two digit (ex. september == 09)\n",
    "#def get_week_numbers(year, month_start, month_end):\n",
    "#    week_numbers = []\n",
    "    "
   ]
  },
  {
   "cell_type": "code",
   "execution_count": 76,
   "metadata": {},
   "outputs": [],
   "source": [
    "#           [2018/9                      2018/10                            2018/11]\n",
    "week_nums = [180901,180908,180915,180922,180929,181006,181013,181020,181027,181103,181110,181117,181124]\n",
    "turnstiles_df = get_data(week_nums)"
   ]
  },
  {
   "cell_type": "code",
   "execution_count": 77,
   "metadata": {},
   "outputs": [
    {
     "data": {
      "text/html": [
       "<div>\n",
       "<style scoped>\n",
       "    .dataframe tbody tr th:only-of-type {\n",
       "        vertical-align: middle;\n",
       "    }\n",
       "\n",
       "    .dataframe tbody tr th {\n",
       "        vertical-align: top;\n",
       "    }\n",
       "\n",
       "    .dataframe thead th {\n",
       "        text-align: right;\n",
       "    }\n",
       "</style>\n",
       "<table border=\"1\" class=\"dataframe\">\n",
       "  <thead>\n",
       "    <tr style=\"text-align: right;\">\n",
       "      <th></th>\n",
       "      <th>DATE_TIME</th>\n",
       "      <th>C/A</th>\n",
       "      <th>UNIT</th>\n",
       "      <th>SCP</th>\n",
       "      <th>STATION</th>\n",
       "      <th>LINENAME</th>\n",
       "      <th>DIVISION</th>\n",
       "      <th>DATE</th>\n",
       "      <th>TIME</th>\n",
       "      <th>DESC</th>\n",
       "      <th>ENTRIES</th>\n",
       "      <th>EXITS</th>\n",
       "    </tr>\n",
       "  </thead>\n",
       "  <tbody>\n",
       "    <tr>\n",
       "      <th>0</th>\n",
       "      <td>2018-08-25 00:00:00</td>\n",
       "      <td>A002</td>\n",
       "      <td>R051</td>\n",
       "      <td>02-00-00</td>\n",
       "      <td>59 ST</td>\n",
       "      <td>NQR456W</td>\n",
       "      <td>BMT</td>\n",
       "      <td>08/25/2018</td>\n",
       "      <td>00:00:00</td>\n",
       "      <td>REGULAR</td>\n",
       "      <td>6736067</td>\n",
       "      <td>2283184</td>\n",
       "    </tr>\n",
       "    <tr>\n",
       "      <th>1</th>\n",
       "      <td>2018-08-25 04:00:00</td>\n",
       "      <td>A002</td>\n",
       "      <td>R051</td>\n",
       "      <td>02-00-00</td>\n",
       "      <td>59 ST</td>\n",
       "      <td>NQR456W</td>\n",
       "      <td>BMT</td>\n",
       "      <td>08/25/2018</td>\n",
       "      <td>04:00:00</td>\n",
       "      <td>REGULAR</td>\n",
       "      <td>6736087</td>\n",
       "      <td>2283188</td>\n",
       "    </tr>\n",
       "    <tr>\n",
       "      <th>2</th>\n",
       "      <td>2018-08-25 08:00:00</td>\n",
       "      <td>A002</td>\n",
       "      <td>R051</td>\n",
       "      <td>02-00-00</td>\n",
       "      <td>59 ST</td>\n",
       "      <td>NQR456W</td>\n",
       "      <td>BMT</td>\n",
       "      <td>08/25/2018</td>\n",
       "      <td>08:00:00</td>\n",
       "      <td>REGULAR</td>\n",
       "      <td>6736105</td>\n",
       "      <td>2283229</td>\n",
       "    </tr>\n",
       "    <tr>\n",
       "      <th>3</th>\n",
       "      <td>2018-08-25 12:00:00</td>\n",
       "      <td>A002</td>\n",
       "      <td>R051</td>\n",
       "      <td>02-00-00</td>\n",
       "      <td>59 ST</td>\n",
       "      <td>NQR456W</td>\n",
       "      <td>BMT</td>\n",
       "      <td>08/25/2018</td>\n",
       "      <td>12:00:00</td>\n",
       "      <td>REGULAR</td>\n",
       "      <td>6736180</td>\n",
       "      <td>2283314</td>\n",
       "    </tr>\n",
       "    <tr>\n",
       "      <th>4</th>\n",
       "      <td>2018-08-25 16:00:00</td>\n",
       "      <td>A002</td>\n",
       "      <td>R051</td>\n",
       "      <td>02-00-00</td>\n",
       "      <td>59 ST</td>\n",
       "      <td>NQR456W</td>\n",
       "      <td>BMT</td>\n",
       "      <td>08/25/2018</td>\n",
       "      <td>16:00:00</td>\n",
       "      <td>REGULAR</td>\n",
       "      <td>6736349</td>\n",
       "      <td>2283384</td>\n",
       "    </tr>\n",
       "  </tbody>\n",
       "</table>\n",
       "</div>"
      ],
      "text/plain": [
       "            DATE_TIME   C/A  UNIT       SCP STATION LINENAME DIVISION  \\\n",
       "0 2018-08-25 00:00:00  A002  R051  02-00-00   59 ST  NQR456W      BMT   \n",
       "1 2018-08-25 04:00:00  A002  R051  02-00-00   59 ST  NQR456W      BMT   \n",
       "2 2018-08-25 08:00:00  A002  R051  02-00-00   59 ST  NQR456W      BMT   \n",
       "3 2018-08-25 12:00:00  A002  R051  02-00-00   59 ST  NQR456W      BMT   \n",
       "4 2018-08-25 16:00:00  A002  R051  02-00-00   59 ST  NQR456W      BMT   \n",
       "\n",
       "         DATE      TIME     DESC  ENTRIES  \\\n",
       "0  08/25/2018  00:00:00  REGULAR  6736067   \n",
       "1  08/25/2018  04:00:00  REGULAR  6736087   \n",
       "2  08/25/2018  08:00:00  REGULAR  6736105   \n",
       "3  08/25/2018  12:00:00  REGULAR  6736180   \n",
       "4  08/25/2018  16:00:00  REGULAR  6736349   \n",
       "\n",
       "   EXITS                                                                 \n",
       "0                                            2283184                     \n",
       "1                                            2283188                     \n",
       "2                                            2283229                     \n",
       "3                                            2283314                     \n",
       "4                                            2283384                     "
      ]
     },
     "execution_count": 77,
     "metadata": {},
     "output_type": "execute_result"
    }
   ],
   "source": [
    "turnstiles_df.head()"
   ]
  },
  {
   "cell_type": "code",
   "execution_count": 78,
   "metadata": {},
   "outputs": [
    {
     "name": "stdout",
     "output_type": "stream",
     "text": [
      "<class 'pandas.core.frame.DataFrame'>\n",
      "Int64Index: 2585375 entries, 0 to 198721\n",
      "Data columns (total 12 columns):\n",
      " #   Column                                                                Dtype         \n",
      "---  ------                                                                -----         \n",
      " 0   DATE_TIME                                                             datetime64[ns]\n",
      " 1   C/A                                                                   object        \n",
      " 2   UNIT                                                                  object        \n",
      " 3   SCP                                                                   object        \n",
      " 4   STATION                                                               object        \n",
      " 5   LINENAME                                                              object        \n",
      " 6   DIVISION                                                              object        \n",
      " 7   DATE                                                                  object        \n",
      " 8   TIME                                                                  object        \n",
      " 9   DESC                                                                  object        \n",
      " 10  ENTRIES                                                               int64         \n",
      " 11  EXITS                                                                 int64         \n",
      "dtypes: datetime64[ns](1), int64(2), object(9)\n",
      "memory usage: 256.4+ MB\n"
     ]
    }
   ],
   "source": [
    "turnstiles_df.info()"
   ]
  },
  {
   "cell_type": "code",
   "execution_count": 79,
   "metadata": {},
   "outputs": [
    {
     "data": {
      "text/html": [
       "<div>\n",
       "<style scoped>\n",
       "    .dataframe tbody tr th:only-of-type {\n",
       "        vertical-align: middle;\n",
       "    }\n",
       "\n",
       "    .dataframe tbody tr th {\n",
       "        vertical-align: top;\n",
       "    }\n",
       "\n",
       "    .dataframe thead th {\n",
       "        text-align: right;\n",
       "    }\n",
       "</style>\n",
       "<table border=\"1\" class=\"dataframe\">\n",
       "  <thead>\n",
       "    <tr style=\"text-align: right;\">\n",
       "      <th></th>\n",
       "      <th>ENTRIES</th>\n",
       "      <th>EXITS</th>\n",
       "    </tr>\n",
       "  </thead>\n",
       "  <tbody>\n",
       "    <tr>\n",
       "      <th>count</th>\n",
       "      <td>2.585375e+06</td>\n",
       "      <td>2.585375e+06</td>\n",
       "    </tr>\n",
       "    <tr>\n",
       "      <th>mean</th>\n",
       "      <td>3.913806e+07</td>\n",
       "      <td>3.215483e+07</td>\n",
       "    </tr>\n",
       "    <tr>\n",
       "      <th>std</th>\n",
       "      <td>2.032854e+08</td>\n",
       "      <td>1.886973e+08</td>\n",
       "    </tr>\n",
       "    <tr>\n",
       "      <th>min</th>\n",
       "      <td>0.000000e+00</td>\n",
       "      <td>0.000000e+00</td>\n",
       "    </tr>\n",
       "    <tr>\n",
       "      <th>25%</th>\n",
       "      <td>4.821025e+05</td>\n",
       "      <td>2.258095e+05</td>\n",
       "    </tr>\n",
       "    <tr>\n",
       "      <th>50%</th>\n",
       "      <td>2.440346e+06</td>\n",
       "      <td>1.376932e+06</td>\n",
       "    </tr>\n",
       "    <tr>\n",
       "      <th>75%</th>\n",
       "      <td>6.917721e+06</td>\n",
       "      <td>4.776678e+06</td>\n",
       "    </tr>\n",
       "    <tr>\n",
       "      <th>max</th>\n",
       "      <td>2.129771e+09</td>\n",
       "      <td>2.062565e+09</td>\n",
       "    </tr>\n",
       "  </tbody>\n",
       "</table>\n",
       "</div>"
      ],
      "text/plain": [
       "            ENTRIES  \\\n",
       "count  2.585375e+06   \n",
       "mean   3.913806e+07   \n",
       "std    2.032854e+08   \n",
       "min    0.000000e+00   \n",
       "25%    4.821025e+05   \n",
       "50%    2.440346e+06   \n",
       "75%    6.917721e+06   \n",
       "max    2.129771e+09   \n",
       "\n",
       "       EXITS                                                                 \n",
       "count                                       2.585375e+06                     \n",
       "mean                                        3.215483e+07                     \n",
       "std                                         1.886973e+08                     \n",
       "min                                         0.000000e+00                     \n",
       "25%                                         2.258095e+05                     \n",
       "50%                                         1.376932e+06                     \n",
       "75%                                         4.776678e+06                     \n",
       "max                                         2.062565e+09                     "
      ]
     },
     "execution_count": 79,
     "metadata": {},
     "output_type": "execute_result"
    }
   ],
   "source": [
    "turnstiles_df.describe()"
   ]
  },
  {
   "cell_type": "code",
   "execution_count": 80,
   "metadata": {},
   "outputs": [
    {
     "data": {
      "text/html": [
       "<div>\n",
       "<style scoped>\n",
       "    .dataframe tbody tr th:only-of-type {\n",
       "        vertical-align: middle;\n",
       "    }\n",
       "\n",
       "    .dataframe tbody tr th {\n",
       "        vertical-align: top;\n",
       "    }\n",
       "\n",
       "    .dataframe thead th {\n",
       "        text-align: right;\n",
       "    }\n",
       "</style>\n",
       "<table border=\"1\" class=\"dataframe\">\n",
       "  <thead>\n",
       "    <tr style=\"text-align: right;\">\n",
       "      <th></th>\n",
       "      <th>DATE_TIME</th>\n",
       "      <th>C/A</th>\n",
       "      <th>UNIT</th>\n",
       "      <th>SCP</th>\n",
       "      <th>STATION</th>\n",
       "      <th>LINENAME</th>\n",
       "      <th>DIVISION</th>\n",
       "      <th>DATE</th>\n",
       "      <th>TIME</th>\n",
       "      <th>DESC</th>\n",
       "      <th>ENTRIES</th>\n",
       "      <th>EXITS</th>\n",
       "    </tr>\n",
       "  </thead>\n",
       "  <tbody>\n",
       "    <tr>\n",
       "      <th>0</th>\n",
       "      <td>2018-08-25 00:00:00</td>\n",
       "      <td>A002</td>\n",
       "      <td>R051</td>\n",
       "      <td>02-00-00</td>\n",
       "      <td>59 ST</td>\n",
       "      <td>NQR456W</td>\n",
       "      <td>BMT</td>\n",
       "      <td>08/25/2018</td>\n",
       "      <td>00:00:00</td>\n",
       "      <td>REGULAR</td>\n",
       "      <td>6736067</td>\n",
       "      <td>2283184</td>\n",
       "    </tr>\n",
       "    <tr>\n",
       "      <th>1</th>\n",
       "      <td>2018-08-25 04:00:00</td>\n",
       "      <td>A002</td>\n",
       "      <td>R051</td>\n",
       "      <td>02-00-00</td>\n",
       "      <td>59 ST</td>\n",
       "      <td>NQR456W</td>\n",
       "      <td>BMT</td>\n",
       "      <td>08/25/2018</td>\n",
       "      <td>04:00:00</td>\n",
       "      <td>REGULAR</td>\n",
       "      <td>6736087</td>\n",
       "      <td>2283188</td>\n",
       "    </tr>\n",
       "    <tr>\n",
       "      <th>2</th>\n",
       "      <td>2018-08-25 08:00:00</td>\n",
       "      <td>A002</td>\n",
       "      <td>R051</td>\n",
       "      <td>02-00-00</td>\n",
       "      <td>59 ST</td>\n",
       "      <td>NQR456W</td>\n",
       "      <td>BMT</td>\n",
       "      <td>08/25/2018</td>\n",
       "      <td>08:00:00</td>\n",
       "      <td>REGULAR</td>\n",
       "      <td>6736105</td>\n",
       "      <td>2283229</td>\n",
       "    </tr>\n",
       "    <tr>\n",
       "      <th>3</th>\n",
       "      <td>2018-08-25 12:00:00</td>\n",
       "      <td>A002</td>\n",
       "      <td>R051</td>\n",
       "      <td>02-00-00</td>\n",
       "      <td>59 ST</td>\n",
       "      <td>NQR456W</td>\n",
       "      <td>BMT</td>\n",
       "      <td>08/25/2018</td>\n",
       "      <td>12:00:00</td>\n",
       "      <td>REGULAR</td>\n",
       "      <td>6736180</td>\n",
       "      <td>2283314</td>\n",
       "    </tr>\n",
       "    <tr>\n",
       "      <th>4</th>\n",
       "      <td>2018-08-25 16:00:00</td>\n",
       "      <td>A002</td>\n",
       "      <td>R051</td>\n",
       "      <td>02-00-00</td>\n",
       "      <td>59 ST</td>\n",
       "      <td>NQR456W</td>\n",
       "      <td>BMT</td>\n",
       "      <td>08/25/2018</td>\n",
       "      <td>16:00:00</td>\n",
       "      <td>REGULAR</td>\n",
       "      <td>6736349</td>\n",
       "      <td>2283384</td>\n",
       "    </tr>\n",
       "  </tbody>\n",
       "</table>\n",
       "</div>"
      ],
      "text/plain": [
       "            DATE_TIME   C/A  UNIT       SCP STATION LINENAME DIVISION  \\\n",
       "0 2018-08-25 00:00:00  A002  R051  02-00-00   59 ST  NQR456W      BMT   \n",
       "1 2018-08-25 04:00:00  A002  R051  02-00-00   59 ST  NQR456W      BMT   \n",
       "2 2018-08-25 08:00:00  A002  R051  02-00-00   59 ST  NQR456W      BMT   \n",
       "3 2018-08-25 12:00:00  A002  R051  02-00-00   59 ST  NQR456W      BMT   \n",
       "4 2018-08-25 16:00:00  A002  R051  02-00-00   59 ST  NQR456W      BMT   \n",
       "\n",
       "         DATE      TIME     DESC  ENTRIES  \\\n",
       "0  08/25/2018  00:00:00  REGULAR  6736067   \n",
       "1  08/25/2018  04:00:00  REGULAR  6736087   \n",
       "2  08/25/2018  08:00:00  REGULAR  6736105   \n",
       "3  08/25/2018  12:00:00  REGULAR  6736180   \n",
       "4  08/25/2018  16:00:00  REGULAR  6736349   \n",
       "\n",
       "   EXITS                                                                 \n",
       "0                                            2283184                     \n",
       "1                                            2283188                     \n",
       "2                                            2283229                     \n",
       "3                                            2283314                     \n",
       "4                                            2283384                     "
      ]
     },
     "execution_count": 80,
     "metadata": {},
     "output_type": "execute_result"
    }
   ],
   "source": [
    "turnstiles_df.head()"
   ]
  },
  {
   "cell_type": "code",
   "execution_count": 81,
   "metadata": {},
   "outputs": [
    {
     "data": {
      "text/plain": [
       "(2585375, 12)"
      ]
     },
     "execution_count": 81,
     "metadata": {},
     "output_type": "execute_result"
    }
   ],
   "source": [
    "turnstiles_df.shape"
   ]
  },
  {
   "cell_type": "code",
   "execution_count": 1132,
   "metadata": {},
   "outputs": [
    {
     "data": {
      "text/plain": [
       "DATE_TIME        0\n",
       "C/A              0\n",
       "UNIT             0\n",
       "SCP              0\n",
       "STATION          0\n",
       "LINENAME         0\n",
       "DIVISION         0\n",
       "DATE             0\n",
       "TIME             0\n",
       "DESC             0\n",
       "ENTRIES          0\n",
       "EXITS            0\n",
       "TURNSTILE        0\n",
       "Match_STATION    0\n",
       "dtype: int64"
      ]
     },
     "execution_count": 1132,
     "metadata": {},
     "output_type": "execute_result"
    }
   ],
   "source": [
    "turnstiles_df.isna().sum()"
   ]
  },
  {
   "cell_type": "code",
   "execution_count": 85,
   "metadata": {},
   "outputs": [],
   "source": [
    "#Creat new columns to select single turnstile\n",
    "turnstiles_df['TURNSTILE'] = turnstiles_df['C/A'] + ' ' + turnstiles_df['UNIT'] + ' ' + turnstiles_df['SCP']"
   ]
  },
  {
   "cell_type": "code",
   "execution_count": 86,
   "metadata": {},
   "outputs": [
    {
     "data": {
      "text/html": [
       "<div>\n",
       "<style scoped>\n",
       "    .dataframe tbody tr th:only-of-type {\n",
       "        vertical-align: middle;\n",
       "    }\n",
       "\n",
       "    .dataframe tbody tr th {\n",
       "        vertical-align: top;\n",
       "    }\n",
       "\n",
       "    .dataframe thead th {\n",
       "        text-align: right;\n",
       "    }\n",
       "</style>\n",
       "<table border=\"1\" class=\"dataframe\">\n",
       "  <thead>\n",
       "    <tr style=\"text-align: right;\">\n",
       "      <th></th>\n",
       "      <th>DATE_TIME</th>\n",
       "      <th>C/A</th>\n",
       "      <th>UNIT</th>\n",
       "      <th>SCP</th>\n",
       "      <th>STATION</th>\n",
       "      <th>LINENAME</th>\n",
       "      <th>DIVISION</th>\n",
       "      <th>DATE</th>\n",
       "      <th>TIME</th>\n",
       "      <th>DESC</th>\n",
       "      <th>ENTRIES</th>\n",
       "      <th>EXITS</th>\n",
       "      <th>TURNSTILE</th>\n",
       "    </tr>\n",
       "  </thead>\n",
       "  <tbody>\n",
       "    <tr>\n",
       "      <th>0</th>\n",
       "      <td>2018-08-25 00:00:00</td>\n",
       "      <td>A002</td>\n",
       "      <td>R051</td>\n",
       "      <td>02-00-00</td>\n",
       "      <td>59 ST</td>\n",
       "      <td>NQR456W</td>\n",
       "      <td>BMT</td>\n",
       "      <td>08/25/2018</td>\n",
       "      <td>00:00:00</td>\n",
       "      <td>REGULAR</td>\n",
       "      <td>6736067</td>\n",
       "      <td>2283184</td>\n",
       "      <td>A002 R051 02-00-00</td>\n",
       "    </tr>\n",
       "    <tr>\n",
       "      <th>1</th>\n",
       "      <td>2018-08-25 04:00:00</td>\n",
       "      <td>A002</td>\n",
       "      <td>R051</td>\n",
       "      <td>02-00-00</td>\n",
       "      <td>59 ST</td>\n",
       "      <td>NQR456W</td>\n",
       "      <td>BMT</td>\n",
       "      <td>08/25/2018</td>\n",
       "      <td>04:00:00</td>\n",
       "      <td>REGULAR</td>\n",
       "      <td>6736087</td>\n",
       "      <td>2283188</td>\n",
       "      <td>A002 R051 02-00-00</td>\n",
       "    </tr>\n",
       "    <tr>\n",
       "      <th>2</th>\n",
       "      <td>2018-08-25 08:00:00</td>\n",
       "      <td>A002</td>\n",
       "      <td>R051</td>\n",
       "      <td>02-00-00</td>\n",
       "      <td>59 ST</td>\n",
       "      <td>NQR456W</td>\n",
       "      <td>BMT</td>\n",
       "      <td>08/25/2018</td>\n",
       "      <td>08:00:00</td>\n",
       "      <td>REGULAR</td>\n",
       "      <td>6736105</td>\n",
       "      <td>2283229</td>\n",
       "      <td>A002 R051 02-00-00</td>\n",
       "    </tr>\n",
       "    <tr>\n",
       "      <th>3</th>\n",
       "      <td>2018-08-25 12:00:00</td>\n",
       "      <td>A002</td>\n",
       "      <td>R051</td>\n",
       "      <td>02-00-00</td>\n",
       "      <td>59 ST</td>\n",
       "      <td>NQR456W</td>\n",
       "      <td>BMT</td>\n",
       "      <td>08/25/2018</td>\n",
       "      <td>12:00:00</td>\n",
       "      <td>REGULAR</td>\n",
       "      <td>6736180</td>\n",
       "      <td>2283314</td>\n",
       "      <td>A002 R051 02-00-00</td>\n",
       "    </tr>\n",
       "    <tr>\n",
       "      <th>4</th>\n",
       "      <td>2018-08-25 16:00:00</td>\n",
       "      <td>A002</td>\n",
       "      <td>R051</td>\n",
       "      <td>02-00-00</td>\n",
       "      <td>59 ST</td>\n",
       "      <td>NQR456W</td>\n",
       "      <td>BMT</td>\n",
       "      <td>08/25/2018</td>\n",
       "      <td>16:00:00</td>\n",
       "      <td>REGULAR</td>\n",
       "      <td>6736349</td>\n",
       "      <td>2283384</td>\n",
       "      <td>A002 R051 02-00-00</td>\n",
       "    </tr>\n",
       "  </tbody>\n",
       "</table>\n",
       "</div>"
      ],
      "text/plain": [
       "            DATE_TIME   C/A  UNIT       SCP STATION LINENAME DIVISION  \\\n",
       "0 2018-08-25 00:00:00  A002  R051  02-00-00   59 ST  NQR456W      BMT   \n",
       "1 2018-08-25 04:00:00  A002  R051  02-00-00   59 ST  NQR456W      BMT   \n",
       "2 2018-08-25 08:00:00  A002  R051  02-00-00   59 ST  NQR456W      BMT   \n",
       "3 2018-08-25 12:00:00  A002  R051  02-00-00   59 ST  NQR456W      BMT   \n",
       "4 2018-08-25 16:00:00  A002  R051  02-00-00   59 ST  NQR456W      BMT   \n",
       "\n",
       "         DATE      TIME     DESC  ENTRIES  \\\n",
       "0  08/25/2018  00:00:00  REGULAR  6736067   \n",
       "1  08/25/2018  04:00:00  REGULAR  6736087   \n",
       "2  08/25/2018  08:00:00  REGULAR  6736105   \n",
       "3  08/25/2018  12:00:00  REGULAR  6736180   \n",
       "4  08/25/2018  16:00:00  REGULAR  6736349   \n",
       "\n",
       "   EXITS                                                                 \\\n",
       "0                                            2283184                      \n",
       "1                                            2283188                      \n",
       "2                                            2283229                      \n",
       "3                                            2283314                      \n",
       "4                                            2283384                      \n",
       "\n",
       "            TURNSTILE  \n",
       "0  A002 R051 02-00-00  \n",
       "1  A002 R051 02-00-00  \n",
       "2  A002 R051 02-00-00  \n",
       "3  A002 R051 02-00-00  \n",
       "4  A002 R051 02-00-00  "
      ]
     },
     "execution_count": 86,
     "metadata": {},
     "output_type": "execute_result"
    }
   ],
   "source": [
    "turnstiles_df.head()"
   ]
  },
  {
   "cell_type": "code",
   "execution_count": 1133,
   "metadata": {},
   "outputs": [
    {
     "data": {
      "text/plain": [
       "Index(['DATE_TIME', 'C/A', 'UNIT', 'SCP', 'STATION', 'LINENAME', 'DIVISION',\n",
       "       'DATE', 'TIME', 'DESC', 'ENTRIES', 'EXITS', 'TURNSTILE',\n",
       "       'Match_STATION'],\n",
       "      dtype='object')"
      ]
     },
     "execution_count": 1133,
     "metadata": {},
     "output_type": "execute_result"
    }
   ],
   "source": [
    "turnstiles_df.columns = [column.strip() for column in turnstiles_df.columns]\n",
    "turnstiles_df.columns"
   ]
  },
  {
   "cell_type": "code",
   "execution_count": 88,
   "metadata": {},
   "outputs": [
    {
     "data": {
      "text/html": [
       "<div>\n",
       "<style scoped>\n",
       "    .dataframe tbody tr th:only-of-type {\n",
       "        vertical-align: middle;\n",
       "    }\n",
       "\n",
       "    .dataframe tbody tr th {\n",
       "        vertical-align: top;\n",
       "    }\n",
       "\n",
       "    .dataframe thead th {\n",
       "        text-align: right;\n",
       "    }\n",
       "</style>\n",
       "<table border=\"1\" class=\"dataframe\">\n",
       "  <thead>\n",
       "    <tr style=\"text-align: right;\">\n",
       "      <th></th>\n",
       "      <th>C/A</th>\n",
       "      <th>UNIT</th>\n",
       "      <th>SCP</th>\n",
       "      <th>STATION</th>\n",
       "      <th>DATE_TIME</th>\n",
       "      <th>ENTRIES</th>\n",
       "    </tr>\n",
       "  </thead>\n",
       "  <tbody>\n",
       "    <tr>\n",
       "      <th>2255268</th>\n",
       "      <td>R417</td>\n",
       "      <td>R222</td>\n",
       "      <td>00-00-01</td>\n",
       "      <td>PARKCHESTER</td>\n",
       "      <td>2018-10-16 05:00:00</td>\n",
       "      <td>2</td>\n",
       "    </tr>\n",
       "    <tr>\n",
       "      <th>1075361</th>\n",
       "      <td>N332</td>\n",
       "      <td>R219</td>\n",
       "      <td>01-06-00</td>\n",
       "      <td>67 AV</td>\n",
       "      <td>2018-10-27 04:00:00</td>\n",
       "      <td>2</td>\n",
       "    </tr>\n",
       "    <tr>\n",
       "      <th>2509467</th>\n",
       "      <td>R627</td>\n",
       "      <td>R063</td>\n",
       "      <td>00-03-02</td>\n",
       "      <td>SUTTER AV-RUTLD</td>\n",
       "      <td>2018-11-22 07:00:00</td>\n",
       "      <td>2</td>\n",
       "    </tr>\n",
       "    <tr>\n",
       "      <th>1074273</th>\n",
       "      <td>N332</td>\n",
       "      <td>R219</td>\n",
       "      <td>01-05-00</td>\n",
       "      <td>67 AV</td>\n",
       "      <td>2018-10-27 04:00:00</td>\n",
       "      <td>2</td>\n",
       "    </tr>\n",
       "    <tr>\n",
       "      <th>1074816</th>\n",
       "      <td>N332</td>\n",
       "      <td>R219</td>\n",
       "      <td>01-05-01</td>\n",
       "      <td>67 AV</td>\n",
       "      <td>2018-10-27 04:00:00</td>\n",
       "      <td>2</td>\n",
       "    </tr>\n",
       "  </tbody>\n",
       "</table>\n",
       "</div>"
      ],
      "text/plain": [
       "          C/A  UNIT       SCP          STATION           DATE_TIME  ENTRIES\n",
       "2255268  R417  R222  00-00-01      PARKCHESTER 2018-10-16 05:00:00        2\n",
       "1075361  N332  R219  01-06-00            67 AV 2018-10-27 04:00:00        2\n",
       "2509467  R627  R063  00-03-02  SUTTER AV-RUTLD 2018-11-22 07:00:00        2\n",
       "1074273  N332  R219  01-05-00            67 AV 2018-10-27 04:00:00        2\n",
       "1074816  N332  R219  01-05-01            67 AV 2018-10-27 04:00:00        2"
      ]
     },
     "execution_count": 88,
     "metadata": {},
     "output_type": "execute_result"
    }
   ],
   "source": [
    "(turnstiles_df\n",
    " .groupby([\"C/A\", \"UNIT\", \"SCP\", \"STATION\", \"DATE_TIME\"])\n",
    " .ENTRIES.count()\n",
    " .reset_index()\n",
    " .sort_values(\"ENTRIES\", ascending=False)).head(5)"
   ]
  },
  {
   "cell_type": "code",
   "execution_count": 89,
   "metadata": {},
   "outputs": [],
   "source": [
    "turnstiles_df.drop_duplicates(subset=[\"C/A\", \"UNIT\", \"SCP\", \"STATION\", \"DATE_TIME\"], inplace=True)"
   ]
  },
  {
   "cell_type": "code",
   "execution_count": 1134,
   "metadata": {},
   "outputs": [],
   "source": [
    "turnstiles_df.sort_values([\"C/A\", \"UNIT\", \"SCP\", \"STATION\", \"DATE_TIME\"], \n",
    "                          inplace=True, ascending=True)"
   ]
  },
  {
   "cell_type": "code",
   "execution_count": 1135,
   "metadata": {},
   "outputs": [
    {
     "data": {
      "text/html": [
       "<div>\n",
       "<style scoped>\n",
       "    .dataframe tbody tr th:only-of-type {\n",
       "        vertical-align: middle;\n",
       "    }\n",
       "\n",
       "    .dataframe tbody tr th {\n",
       "        vertical-align: top;\n",
       "    }\n",
       "\n",
       "    .dataframe thead th {\n",
       "        text-align: right;\n",
       "    }\n",
       "</style>\n",
       "<table border=\"1\" class=\"dataframe\">\n",
       "  <thead>\n",
       "    <tr style=\"text-align: right;\">\n",
       "      <th></th>\n",
       "      <th>DATE_TIME</th>\n",
       "      <th>C/A</th>\n",
       "      <th>UNIT</th>\n",
       "      <th>SCP</th>\n",
       "      <th>STATION</th>\n",
       "      <th>LINENAME</th>\n",
       "      <th>DIVISION</th>\n",
       "      <th>DATE</th>\n",
       "      <th>TIME</th>\n",
       "      <th>DESC</th>\n",
       "      <th>ENTRIES</th>\n",
       "      <th>EXITS</th>\n",
       "      <th>TURNSTILE</th>\n",
       "      <th>Match_STATION</th>\n",
       "    </tr>\n",
       "  </thead>\n",
       "  <tbody>\n",
       "    <tr>\n",
       "      <th>0</th>\n",
       "      <td>2018-08-25 00:00:00</td>\n",
       "      <td>A002</td>\n",
       "      <td>R051</td>\n",
       "      <td>02-00-00</td>\n",
       "      <td>59 ST</td>\n",
       "      <td>NQR456W</td>\n",
       "      <td>BMT</td>\n",
       "      <td>08/25/2018</td>\n",
       "      <td>00:00:00</td>\n",
       "      <td>REGULAR</td>\n",
       "      <td>6736067</td>\n",
       "      <td>2283184</td>\n",
       "      <td>A002 R051 02-00-00</td>\n",
       "      <td>True</td>\n",
       "    </tr>\n",
       "    <tr>\n",
       "      <th>1</th>\n",
       "      <td>2018-08-25 04:00:00</td>\n",
       "      <td>A002</td>\n",
       "      <td>R051</td>\n",
       "      <td>02-00-00</td>\n",
       "      <td>59 ST</td>\n",
       "      <td>NQR456W</td>\n",
       "      <td>BMT</td>\n",
       "      <td>08/25/2018</td>\n",
       "      <td>04:00:00</td>\n",
       "      <td>REGULAR</td>\n",
       "      <td>6736087</td>\n",
       "      <td>2283188</td>\n",
       "      <td>A002 R051 02-00-00</td>\n",
       "      <td>True</td>\n",
       "    </tr>\n",
       "    <tr>\n",
       "      <th>2</th>\n",
       "      <td>2018-08-25 08:00:00</td>\n",
       "      <td>A002</td>\n",
       "      <td>R051</td>\n",
       "      <td>02-00-00</td>\n",
       "      <td>59 ST</td>\n",
       "      <td>NQR456W</td>\n",
       "      <td>BMT</td>\n",
       "      <td>08/25/2018</td>\n",
       "      <td>08:00:00</td>\n",
       "      <td>REGULAR</td>\n",
       "      <td>6736105</td>\n",
       "      <td>2283229</td>\n",
       "      <td>A002 R051 02-00-00</td>\n",
       "      <td>True</td>\n",
       "    </tr>\n",
       "    <tr>\n",
       "      <th>3</th>\n",
       "      <td>2018-08-25 12:00:00</td>\n",
       "      <td>A002</td>\n",
       "      <td>R051</td>\n",
       "      <td>02-00-00</td>\n",
       "      <td>59 ST</td>\n",
       "      <td>NQR456W</td>\n",
       "      <td>BMT</td>\n",
       "      <td>08/25/2018</td>\n",
       "      <td>12:00:00</td>\n",
       "      <td>REGULAR</td>\n",
       "      <td>6736180</td>\n",
       "      <td>2283314</td>\n",
       "      <td>A002 R051 02-00-00</td>\n",
       "      <td>True</td>\n",
       "    </tr>\n",
       "    <tr>\n",
       "      <th>4</th>\n",
       "      <td>2018-08-25 16:00:00</td>\n",
       "      <td>A002</td>\n",
       "      <td>R051</td>\n",
       "      <td>02-00-00</td>\n",
       "      <td>59 ST</td>\n",
       "      <td>NQR456W</td>\n",
       "      <td>BMT</td>\n",
       "      <td>08/25/2018</td>\n",
       "      <td>16:00:00</td>\n",
       "      <td>REGULAR</td>\n",
       "      <td>6736349</td>\n",
       "      <td>2283384</td>\n",
       "      <td>A002 R051 02-00-00</td>\n",
       "      <td>True</td>\n",
       "    </tr>\n",
       "    <tr>\n",
       "      <th>...</th>\n",
       "      <td>...</td>\n",
       "      <td>...</td>\n",
       "      <td>...</td>\n",
       "      <td>...</td>\n",
       "      <td>...</td>\n",
       "      <td>...</td>\n",
       "      <td>...</td>\n",
       "      <td>...</td>\n",
       "      <td>...</td>\n",
       "      <td>...</td>\n",
       "      <td>...</td>\n",
       "      <td>...</td>\n",
       "      <td>...</td>\n",
       "      <td>...</td>\n",
       "    </tr>\n",
       "    <tr>\n",
       "      <th>198717</th>\n",
       "      <td>2018-11-23 04:00:00</td>\n",
       "      <td>TRAM2</td>\n",
       "      <td>R469</td>\n",
       "      <td>00-05-01</td>\n",
       "      <td>ROOSEVELT ISLND</td>\n",
       "      <td>R</td>\n",
       "      <td>RIT</td>\n",
       "      <td>11/23/2018</td>\n",
       "      <td>04:00:00</td>\n",
       "      <td>RECOVR AUD</td>\n",
       "      <td>5554</td>\n",
       "      <td>365</td>\n",
       "      <td>TRAM2 R469 00-05-01</td>\n",
       "      <td>True</td>\n",
       "    </tr>\n",
       "    <tr>\n",
       "      <th>198718</th>\n",
       "      <td>2018-11-23 08:00:00</td>\n",
       "      <td>TRAM2</td>\n",
       "      <td>R469</td>\n",
       "      <td>00-05-01</td>\n",
       "      <td>ROOSEVELT ISLND</td>\n",
       "      <td>R</td>\n",
       "      <td>RIT</td>\n",
       "      <td>11/23/2018</td>\n",
       "      <td>08:00:00</td>\n",
       "      <td>REGULAR</td>\n",
       "      <td>5554</td>\n",
       "      <td>365</td>\n",
       "      <td>TRAM2 R469 00-05-01</td>\n",
       "      <td>True</td>\n",
       "    </tr>\n",
       "    <tr>\n",
       "      <th>198719</th>\n",
       "      <td>2018-11-23 12:00:00</td>\n",
       "      <td>TRAM2</td>\n",
       "      <td>R469</td>\n",
       "      <td>00-05-01</td>\n",
       "      <td>ROOSEVELT ISLND</td>\n",
       "      <td>R</td>\n",
       "      <td>RIT</td>\n",
       "      <td>11/23/2018</td>\n",
       "      <td>12:00:00</td>\n",
       "      <td>REGULAR</td>\n",
       "      <td>5554</td>\n",
       "      <td>365</td>\n",
       "      <td>TRAM2 R469 00-05-01</td>\n",
       "      <td>True</td>\n",
       "    </tr>\n",
       "    <tr>\n",
       "      <th>198720</th>\n",
       "      <td>2018-11-23 16:00:00</td>\n",
       "      <td>TRAM2</td>\n",
       "      <td>R469</td>\n",
       "      <td>00-05-01</td>\n",
       "      <td>ROOSEVELT ISLND</td>\n",
       "      <td>R</td>\n",
       "      <td>RIT</td>\n",
       "      <td>11/23/2018</td>\n",
       "      <td>16:00:00</td>\n",
       "      <td>REGULAR</td>\n",
       "      <td>5554</td>\n",
       "      <td>365</td>\n",
       "      <td>TRAM2 R469 00-05-01</td>\n",
       "      <td>True</td>\n",
       "    </tr>\n",
       "    <tr>\n",
       "      <th>198721</th>\n",
       "      <td>2018-11-23 20:00:00</td>\n",
       "      <td>TRAM2</td>\n",
       "      <td>R469</td>\n",
       "      <td>00-05-01</td>\n",
       "      <td>ROOSEVELT ISLND</td>\n",
       "      <td>R</td>\n",
       "      <td>RIT</td>\n",
       "      <td>11/23/2018</td>\n",
       "      <td>20:00:00</td>\n",
       "      <td>REGULAR</td>\n",
       "      <td>5554</td>\n",
       "      <td>365</td>\n",
       "      <td>TRAM2 R469 00-05-01</td>\n",
       "      <td>True</td>\n",
       "    </tr>\n",
       "  </tbody>\n",
       "</table>\n",
       "<p>2585366 rows × 14 columns</p>\n",
       "</div>"
      ],
      "text/plain": [
       "                 DATE_TIME    C/A  UNIT       SCP          STATION LINENAME  \\\n",
       "0      2018-08-25 00:00:00   A002  R051  02-00-00            59 ST  NQR456W   \n",
       "1      2018-08-25 04:00:00   A002  R051  02-00-00            59 ST  NQR456W   \n",
       "2      2018-08-25 08:00:00   A002  R051  02-00-00            59 ST  NQR456W   \n",
       "3      2018-08-25 12:00:00   A002  R051  02-00-00            59 ST  NQR456W   \n",
       "4      2018-08-25 16:00:00   A002  R051  02-00-00            59 ST  NQR456W   \n",
       "...                    ...    ...   ...       ...              ...      ...   \n",
       "198717 2018-11-23 04:00:00  TRAM2  R469  00-05-01  ROOSEVELT ISLND        R   \n",
       "198718 2018-11-23 08:00:00  TRAM2  R469  00-05-01  ROOSEVELT ISLND        R   \n",
       "198719 2018-11-23 12:00:00  TRAM2  R469  00-05-01  ROOSEVELT ISLND        R   \n",
       "198720 2018-11-23 16:00:00  TRAM2  R469  00-05-01  ROOSEVELT ISLND        R   \n",
       "198721 2018-11-23 20:00:00  TRAM2  R469  00-05-01  ROOSEVELT ISLND        R   \n",
       "\n",
       "       DIVISION        DATE      TIME        DESC  ENTRIES    EXITS  \\\n",
       "0           BMT  08/25/2018  00:00:00     REGULAR  6736067  2283184   \n",
       "1           BMT  08/25/2018  04:00:00     REGULAR  6736087  2283188   \n",
       "2           BMT  08/25/2018  08:00:00     REGULAR  6736105  2283229   \n",
       "3           BMT  08/25/2018  12:00:00     REGULAR  6736180  2283314   \n",
       "4           BMT  08/25/2018  16:00:00     REGULAR  6736349  2283384   \n",
       "...         ...         ...       ...         ...      ...      ...   \n",
       "198717      RIT  11/23/2018  04:00:00  RECOVR AUD     5554      365   \n",
       "198718      RIT  11/23/2018  08:00:00     REGULAR     5554      365   \n",
       "198719      RIT  11/23/2018  12:00:00     REGULAR     5554      365   \n",
       "198720      RIT  11/23/2018  16:00:00     REGULAR     5554      365   \n",
       "198721      RIT  11/23/2018  20:00:00     REGULAR     5554      365   \n",
       "\n",
       "                  TURNSTILE  Match_STATION  \n",
       "0        A002 R051 02-00-00           True  \n",
       "1        A002 R051 02-00-00           True  \n",
       "2        A002 R051 02-00-00           True  \n",
       "3        A002 R051 02-00-00           True  \n",
       "4        A002 R051 02-00-00           True  \n",
       "...                     ...            ...  \n",
       "198717  TRAM2 R469 00-05-01           True  \n",
       "198718  TRAM2 R469 00-05-01           True  \n",
       "198719  TRAM2 R469 00-05-01           True  \n",
       "198720  TRAM2 R469 00-05-01           True  \n",
       "198721  TRAM2 R469 00-05-01           True  \n",
       "\n",
       "[2585366 rows x 14 columns]"
      ]
     },
     "execution_count": 1135,
     "metadata": {},
     "output_type": "execute_result"
    }
   ],
   "source": [
    "turnstiles_df"
   ]
  },
  {
   "cell_type": "code",
   "execution_count": 1136,
   "metadata": {},
   "outputs": [
    {
     "data": {
      "text/html": [
       "<div>\n",
       "<style scoped>\n",
       "    .dataframe tbody tr th:only-of-type {\n",
       "        vertical-align: middle;\n",
       "    }\n",
       "\n",
       "    .dataframe tbody tr th {\n",
       "        vertical-align: top;\n",
       "    }\n",
       "\n",
       "    .dataframe thead th {\n",
       "        text-align: right;\n",
       "    }\n",
       "</style>\n",
       "<table border=\"1\" class=\"dataframe\">\n",
       "  <thead>\n",
       "    <tr style=\"text-align: right;\">\n",
       "      <th></th>\n",
       "      <th>C/A</th>\n",
       "      <th>UNIT</th>\n",
       "      <th>SCP</th>\n",
       "      <th>STATION</th>\n",
       "      <th>DATE_TIME</th>\n",
       "      <th>ENTRIES</th>\n",
       "    </tr>\n",
       "  </thead>\n",
       "  <tbody>\n",
       "    <tr>\n",
       "      <th>0</th>\n",
       "      <td>A002</td>\n",
       "      <td>R051</td>\n",
       "      <td>02-00-00</td>\n",
       "      <td>59 ST</td>\n",
       "      <td>2018-08-25 00:00:00</td>\n",
       "      <td>1</td>\n",
       "    </tr>\n",
       "    <tr>\n",
       "      <th>1723581</th>\n",
       "      <td>R142</td>\n",
       "      <td>R293</td>\n",
       "      <td>01-06-00</td>\n",
       "      <td>34 ST-PENN STA</td>\n",
       "      <td>2018-10-19 10:00:00</td>\n",
       "      <td>1</td>\n",
       "    </tr>\n",
       "    <tr>\n",
       "      <th>1723574</th>\n",
       "      <td>R142</td>\n",
       "      <td>R293</td>\n",
       "      <td>01-06-00</td>\n",
       "      <td>34 ST-PENN STA</td>\n",
       "      <td>2018-10-18 10:00:00</td>\n",
       "      <td>1</td>\n",
       "    </tr>\n",
       "    <tr>\n",
       "      <th>1723575</th>\n",
       "      <td>R142</td>\n",
       "      <td>R293</td>\n",
       "      <td>01-06-00</td>\n",
       "      <td>34 ST-PENN STA</td>\n",
       "      <td>2018-10-18 14:00:00</td>\n",
       "      <td>1</td>\n",
       "    </tr>\n",
       "    <tr>\n",
       "      <th>1723576</th>\n",
       "      <td>R142</td>\n",
       "      <td>R293</td>\n",
       "      <td>01-06-00</td>\n",
       "      <td>34 ST-PENN STA</td>\n",
       "      <td>2018-10-18 18:00:00</td>\n",
       "      <td>1</td>\n",
       "    </tr>\n",
       "  </tbody>\n",
       "</table>\n",
       "</div>"
      ],
      "text/plain": [
       "          C/A  UNIT       SCP         STATION           DATE_TIME  ENTRIES\n",
       "0        A002  R051  02-00-00           59 ST 2018-08-25 00:00:00        1\n",
       "1723581  R142  R293  01-06-00  34 ST-PENN STA 2018-10-19 10:00:00        1\n",
       "1723574  R142  R293  01-06-00  34 ST-PENN STA 2018-10-18 10:00:00        1\n",
       "1723575  R142  R293  01-06-00  34 ST-PENN STA 2018-10-18 14:00:00        1\n",
       "1723576  R142  R293  01-06-00  34 ST-PENN STA 2018-10-18 18:00:00        1"
      ]
     },
     "execution_count": 1136,
     "metadata": {},
     "output_type": "execute_result"
    }
   ],
   "source": [
    "(turnstiles_df\n",
    " .groupby([\"C/A\", \"UNIT\", \"SCP\", \"STATION\", \"DATE_TIME\"])\n",
    " .ENTRIES.count()\n",
    " .reset_index()\n",
    " .sort_values(\"ENTRIES\", ascending=False)).head(5)"
   ]
  },
  {
   "cell_type": "code",
   "execution_count": 1137,
   "metadata": {},
   "outputs": [],
   "source": [
    "#maximum ENTRIES value for each day\n",
    "turnstiles_daily = (turnstiles_df\n",
    "                        .groupby([\"C/A\", \"UNIT\", \"SCP\", \"STATION\", \"DATE\"],as_index=False)\n",
    "                        .ENTRIES.first())"
   ]
  },
  {
   "cell_type": "code",
   "execution_count": 94,
   "metadata": {},
   "outputs": [
    {
     "data": {
      "text/html": [
       "<div>\n",
       "<style scoped>\n",
       "    .dataframe tbody tr th:only-of-type {\n",
       "        vertical-align: middle;\n",
       "    }\n",
       "\n",
       "    .dataframe tbody tr th {\n",
       "        vertical-align: top;\n",
       "    }\n",
       "\n",
       "    .dataframe thead th {\n",
       "        text-align: right;\n",
       "    }\n",
       "</style>\n",
       "<table border=\"1\" class=\"dataframe\">\n",
       "  <thead>\n",
       "    <tr style=\"text-align: right;\">\n",
       "      <th></th>\n",
       "      <th>C/A</th>\n",
       "      <th>UNIT</th>\n",
       "      <th>SCP</th>\n",
       "      <th>STATION</th>\n",
       "      <th>DATE</th>\n",
       "      <th>ENTRIES</th>\n",
       "    </tr>\n",
       "  </thead>\n",
       "  <tbody>\n",
       "    <tr>\n",
       "      <th>0</th>\n",
       "      <td>A002</td>\n",
       "      <td>R051</td>\n",
       "      <td>02-00-00</td>\n",
       "      <td>59 ST</td>\n",
       "      <td>08/25/2018</td>\n",
       "      <td>6736067</td>\n",
       "    </tr>\n",
       "    <tr>\n",
       "      <th>1</th>\n",
       "      <td>A002</td>\n",
       "      <td>R051</td>\n",
       "      <td>02-00-00</td>\n",
       "      <td>59 ST</td>\n",
       "      <td>08/26/2018</td>\n",
       "      <td>6736683</td>\n",
       "    </tr>\n",
       "    <tr>\n",
       "      <th>2</th>\n",
       "      <td>A002</td>\n",
       "      <td>R051</td>\n",
       "      <td>02-00-00</td>\n",
       "      <td>59 ST</td>\n",
       "      <td>08/27/2018</td>\n",
       "      <td>6737136</td>\n",
       "    </tr>\n",
       "    <tr>\n",
       "      <th>3</th>\n",
       "      <td>A002</td>\n",
       "      <td>R051</td>\n",
       "      <td>02-00-00</td>\n",
       "      <td>59 ST</td>\n",
       "      <td>08/28/2018</td>\n",
       "      <td>6738430</td>\n",
       "    </tr>\n",
       "    <tr>\n",
       "      <th>4</th>\n",
       "      <td>A002</td>\n",
       "      <td>R051</td>\n",
       "      <td>02-00-00</td>\n",
       "      <td>59 ST</td>\n",
       "      <td>08/29/2018</td>\n",
       "      <td>6739804</td>\n",
       "    </tr>\n",
       "  </tbody>\n",
       "</table>\n",
       "</div>"
      ],
      "text/plain": [
       "    C/A  UNIT       SCP STATION        DATE  ENTRIES\n",
       "0  A002  R051  02-00-00   59 ST  08/25/2018  6736067\n",
       "1  A002  R051  02-00-00   59 ST  08/26/2018  6736683\n",
       "2  A002  R051  02-00-00   59 ST  08/27/2018  6737136\n",
       "3  A002  R051  02-00-00   59 ST  08/28/2018  6738430\n",
       "4  A002  R051  02-00-00   59 ST  08/29/2018  6739804"
      ]
     },
     "execution_count": 94,
     "metadata": {},
     "output_type": "execute_result"
    }
   ],
   "source": [
    "turnstiles_daily.head()"
   ]
  },
  {
   "cell_type": "code",
   "execution_count": 1127,
   "metadata": {},
   "outputs": [
    {
     "data": {
      "text/plain": [
       "2585366"
      ]
     },
     "execution_count": 1127,
     "metadata": {},
     "output_type": "execute_result"
    }
   ],
   "source": [
    "len(turnstiles_df)"
   ]
  },
  {
   "cell_type": "code",
   "execution_count": 1131,
   "metadata": {},
   "outputs": [
    {
     "data": {
      "text/plain": [
       "358"
      ]
     },
     "execution_count": 1131,
     "metadata": {},
     "output_type": "execute_result"
    }
   ],
   "source": [
    "len(turnstiles_daily.STATION.unique())"
   ]
  },
  {
   "cell_type": "markdown",
   "metadata": {},
   "source": [
    "Check if the station exist in `turnstiles_df` with same formatting in `STATION_NAME_BOROUGH`"
   ]
  },
  {
   "cell_type": "code",
   "execution_count": 391,
   "metadata": {
    "collapsed": true
   },
   "outputs": [
    {
     "data": {
      "text/html": [
       "<div>\n",
       "<style scoped>\n",
       "    .dataframe tbody tr th:only-of-type {\n",
       "        vertical-align: middle;\n",
       "    }\n",
       "\n",
       "    .dataframe tbody tr th {\n",
       "        vertical-align: top;\n",
       "    }\n",
       "\n",
       "    .dataframe thead th {\n",
       "        text-align: right;\n",
       "    }\n",
       "</style>\n",
       "<table border=\"1\" class=\"dataframe\">\n",
       "  <thead>\n",
       "    <tr style=\"text-align: right;\">\n",
       "      <th></th>\n",
       "      <th>DATE_TIME</th>\n",
       "      <th>C/A</th>\n",
       "      <th>UNIT</th>\n",
       "      <th>SCP</th>\n",
       "      <th>STATION</th>\n",
       "      <th>LINENAME</th>\n",
       "      <th>DIVISION</th>\n",
       "      <th>DATE</th>\n",
       "      <th>TIME</th>\n",
       "      <th>DESC</th>\n",
       "      <th>ENTRIES</th>\n",
       "      <th>EXITS</th>\n",
       "      <th>TURNSTILE</th>\n",
       "      <th>Match_STATION</th>\n",
       "    </tr>\n",
       "  </thead>\n",
       "  <tbody>\n",
       "    <tr>\n",
       "      <th>197373</th>\n",
       "      <td>2018-08-25 01:00:00</td>\n",
       "      <td>TRAM2</td>\n",
       "      <td>R469</td>\n",
       "      <td>00-00-00</td>\n",
       "      <td>RIT-ROOSEVELT</td>\n",
       "      <td>R</td>\n",
       "      <td>RIT</td>\n",
       "      <td>08/25/2018</td>\n",
       "      <td>01:00:00</td>\n",
       "      <td>REGULAR</td>\n",
       "      <td>4167800</td>\n",
       "      <td>60368</td>\n",
       "      <td>TRAM2 R469 00-00-00</td>\n",
       "      <td>True</td>\n",
       "    </tr>\n",
       "    <tr>\n",
       "      <th>197374</th>\n",
       "      <td>2018-08-25 05:00:00</td>\n",
       "      <td>TRAM2</td>\n",
       "      <td>R469</td>\n",
       "      <td>00-00-00</td>\n",
       "      <td>RIT-ROOSEVELT</td>\n",
       "      <td>R</td>\n",
       "      <td>RIT</td>\n",
       "      <td>08/25/2018</td>\n",
       "      <td>05:00:00</td>\n",
       "      <td>REGULAR</td>\n",
       "      <td>4167809</td>\n",
       "      <td>60368</td>\n",
       "      <td>TRAM2 R469 00-00-00</td>\n",
       "      <td>True</td>\n",
       "    </tr>\n",
       "    <tr>\n",
       "      <th>197375</th>\n",
       "      <td>2018-08-25 09:00:00</td>\n",
       "      <td>TRAM2</td>\n",
       "      <td>R469</td>\n",
       "      <td>00-00-00</td>\n",
       "      <td>RIT-ROOSEVELT</td>\n",
       "      <td>R</td>\n",
       "      <td>RIT</td>\n",
       "      <td>08/25/2018</td>\n",
       "      <td>09:00:00</td>\n",
       "      <td>REGULAR</td>\n",
       "      <td>4167883</td>\n",
       "      <td>60370</td>\n",
       "      <td>TRAM2 R469 00-00-00</td>\n",
       "      <td>True</td>\n",
       "    </tr>\n",
       "    <tr>\n",
       "      <th>197376</th>\n",
       "      <td>2018-08-25 13:00:00</td>\n",
       "      <td>TRAM2</td>\n",
       "      <td>R469</td>\n",
       "      <td>00-00-00</td>\n",
       "      <td>RIT-ROOSEVELT</td>\n",
       "      <td>R</td>\n",
       "      <td>RIT</td>\n",
       "      <td>08/25/2018</td>\n",
       "      <td>13:00:00</td>\n",
       "      <td>REGULAR</td>\n",
       "      <td>4168287</td>\n",
       "      <td>60376</td>\n",
       "      <td>TRAM2 R469 00-00-00</td>\n",
       "      <td>True</td>\n",
       "    </tr>\n",
       "    <tr>\n",
       "      <th>197377</th>\n",
       "      <td>2018-08-25 17:00:00</td>\n",
       "      <td>TRAM2</td>\n",
       "      <td>R469</td>\n",
       "      <td>00-00-00</td>\n",
       "      <td>RIT-ROOSEVELT</td>\n",
       "      <td>R</td>\n",
       "      <td>RIT</td>\n",
       "      <td>08/25/2018</td>\n",
       "      <td>17:00:00</td>\n",
       "      <td>REGULAR</td>\n",
       "      <td>4168894</td>\n",
       "      <td>60382</td>\n",
       "      <td>TRAM2 R469 00-00-00</td>\n",
       "      <td>True</td>\n",
       "    </tr>\n",
       "    <tr>\n",
       "      <th>...</th>\n",
       "      <td>...</td>\n",
       "      <td>...</td>\n",
       "      <td>...</td>\n",
       "      <td>...</td>\n",
       "      <td>...</td>\n",
       "      <td>...</td>\n",
       "      <td>...</td>\n",
       "      <td>...</td>\n",
       "      <td>...</td>\n",
       "      <td>...</td>\n",
       "      <td>...</td>\n",
       "      <td>...</td>\n",
       "      <td>...</td>\n",
       "      <td>...</td>\n",
       "    </tr>\n",
       "    <tr>\n",
       "      <th>198717</th>\n",
       "      <td>2018-11-23 04:00:00</td>\n",
       "      <td>TRAM2</td>\n",
       "      <td>R469</td>\n",
       "      <td>00-05-01</td>\n",
       "      <td>RIT-ROOSEVELT</td>\n",
       "      <td>R</td>\n",
       "      <td>RIT</td>\n",
       "      <td>11/23/2018</td>\n",
       "      <td>04:00:00</td>\n",
       "      <td>RECOVR AUD</td>\n",
       "      <td>5554</td>\n",
       "      <td>365</td>\n",
       "      <td>TRAM2 R469 00-05-01</td>\n",
       "      <td>True</td>\n",
       "    </tr>\n",
       "    <tr>\n",
       "      <th>198718</th>\n",
       "      <td>2018-11-23 08:00:00</td>\n",
       "      <td>TRAM2</td>\n",
       "      <td>R469</td>\n",
       "      <td>00-05-01</td>\n",
       "      <td>RIT-ROOSEVELT</td>\n",
       "      <td>R</td>\n",
       "      <td>RIT</td>\n",
       "      <td>11/23/2018</td>\n",
       "      <td>08:00:00</td>\n",
       "      <td>REGULAR</td>\n",
       "      <td>5554</td>\n",
       "      <td>365</td>\n",
       "      <td>TRAM2 R469 00-05-01</td>\n",
       "      <td>True</td>\n",
       "    </tr>\n",
       "    <tr>\n",
       "      <th>198719</th>\n",
       "      <td>2018-11-23 12:00:00</td>\n",
       "      <td>TRAM2</td>\n",
       "      <td>R469</td>\n",
       "      <td>00-05-01</td>\n",
       "      <td>RIT-ROOSEVELT</td>\n",
       "      <td>R</td>\n",
       "      <td>RIT</td>\n",
       "      <td>11/23/2018</td>\n",
       "      <td>12:00:00</td>\n",
       "      <td>REGULAR</td>\n",
       "      <td>5554</td>\n",
       "      <td>365</td>\n",
       "      <td>TRAM2 R469 00-05-01</td>\n",
       "      <td>True</td>\n",
       "    </tr>\n",
       "    <tr>\n",
       "      <th>198720</th>\n",
       "      <td>2018-11-23 16:00:00</td>\n",
       "      <td>TRAM2</td>\n",
       "      <td>R469</td>\n",
       "      <td>00-05-01</td>\n",
       "      <td>RIT-ROOSEVELT</td>\n",
       "      <td>R</td>\n",
       "      <td>RIT</td>\n",
       "      <td>11/23/2018</td>\n",
       "      <td>16:00:00</td>\n",
       "      <td>REGULAR</td>\n",
       "      <td>5554</td>\n",
       "      <td>365</td>\n",
       "      <td>TRAM2 R469 00-05-01</td>\n",
       "      <td>True</td>\n",
       "    </tr>\n",
       "    <tr>\n",
       "      <th>198721</th>\n",
       "      <td>2018-11-23 20:00:00</td>\n",
       "      <td>TRAM2</td>\n",
       "      <td>R469</td>\n",
       "      <td>00-05-01</td>\n",
       "      <td>RIT-ROOSEVELT</td>\n",
       "      <td>R</td>\n",
       "      <td>RIT</td>\n",
       "      <td>11/23/2018</td>\n",
       "      <td>20:00:00</td>\n",
       "      <td>REGULAR</td>\n",
       "      <td>5554</td>\n",
       "      <td>365</td>\n",
       "      <td>TRAM2 R469 00-05-01</td>\n",
       "      <td>True</td>\n",
       "    </tr>\n",
       "  </tbody>\n",
       "</table>\n",
       "<p>2538 rows × 14 columns</p>\n",
       "</div>"
      ],
      "text/plain": [
       "                 DATE_TIME    C/A  UNIT       SCP        STATION LINENAME  \\\n",
       "197373 2018-08-25 01:00:00  TRAM2  R469  00-00-00  RIT-ROOSEVELT        R   \n",
       "197374 2018-08-25 05:00:00  TRAM2  R469  00-00-00  RIT-ROOSEVELT        R   \n",
       "197375 2018-08-25 09:00:00  TRAM2  R469  00-00-00  RIT-ROOSEVELT        R   \n",
       "197376 2018-08-25 13:00:00  TRAM2  R469  00-00-00  RIT-ROOSEVELT        R   \n",
       "197377 2018-08-25 17:00:00  TRAM2  R469  00-00-00  RIT-ROOSEVELT        R   \n",
       "...                    ...    ...   ...       ...            ...      ...   \n",
       "198717 2018-11-23 04:00:00  TRAM2  R469  00-05-01  RIT-ROOSEVELT        R   \n",
       "198718 2018-11-23 08:00:00  TRAM2  R469  00-05-01  RIT-ROOSEVELT        R   \n",
       "198719 2018-11-23 12:00:00  TRAM2  R469  00-05-01  RIT-ROOSEVELT        R   \n",
       "198720 2018-11-23 16:00:00  TRAM2  R469  00-05-01  RIT-ROOSEVELT        R   \n",
       "198721 2018-11-23 20:00:00  TRAM2  R469  00-05-01  RIT-ROOSEVELT        R   \n",
       "\n",
       "       DIVISION        DATE      TIME        DESC  ENTRIES  EXITS  \\\n",
       "197373      RIT  08/25/2018  01:00:00     REGULAR  4167800  60368   \n",
       "197374      RIT  08/25/2018  05:00:00     REGULAR  4167809  60368   \n",
       "197375      RIT  08/25/2018  09:00:00     REGULAR  4167883  60370   \n",
       "197376      RIT  08/25/2018  13:00:00     REGULAR  4168287  60376   \n",
       "197377      RIT  08/25/2018  17:00:00     REGULAR  4168894  60382   \n",
       "...         ...         ...       ...         ...      ...    ...   \n",
       "198717      RIT  11/23/2018  04:00:00  RECOVR AUD     5554    365   \n",
       "198718      RIT  11/23/2018  08:00:00     REGULAR     5554    365   \n",
       "198719      RIT  11/23/2018  12:00:00     REGULAR     5554    365   \n",
       "198720      RIT  11/23/2018  16:00:00     REGULAR     5554    365   \n",
       "198721      RIT  11/23/2018  20:00:00     REGULAR     5554    365   \n",
       "\n",
       "                  TURNSTILE  Match_STATION  \n",
       "197373  TRAM2 R469 00-00-00           True  \n",
       "197374  TRAM2 R469 00-00-00           True  \n",
       "197375  TRAM2 R469 00-00-00           True  \n",
       "197376  TRAM2 R469 00-00-00           True  \n",
       "197377  TRAM2 R469 00-00-00           True  \n",
       "...                     ...            ...  \n",
       "198717  TRAM2 R469 00-05-01           True  \n",
       "198718  TRAM2 R469 00-05-01           True  \n",
       "198719  TRAM2 R469 00-05-01           True  \n",
       "198720  TRAM2 R469 00-05-01           True  \n",
       "198721  TRAM2 R469 00-05-01           True  \n",
       "\n",
       "[2538 rows x 14 columns]"
      ]
     },
     "execution_count": 391,
     "metadata": {},
     "output_type": "execute_result"
    }
   ],
   "source": [
    "turnstiles_df[turnstiles_df.STATION == \"RIT-ROOSEVELT\"]"
   ]
  },
  {
   "cell_type": "code",
   "execution_count": 788,
   "metadata": {},
   "outputs": [
    {
     "data": {
      "text/html": [
       "<div>\n",
       "<style scoped>\n",
       "    .dataframe tbody tr th:only-of-type {\n",
       "        vertical-align: middle;\n",
       "    }\n",
       "\n",
       "    .dataframe tbody tr th {\n",
       "        vertical-align: top;\n",
       "    }\n",
       "\n",
       "    .dataframe thead th {\n",
       "        text-align: right;\n",
       "    }\n",
       "</style>\n",
       "<table border=\"1\" class=\"dataframe\">\n",
       "  <thead>\n",
       "    <tr style=\"text-align: right;\">\n",
       "      <th></th>\n",
       "      <th>DIVISION</th>\n",
       "      <th>STATION</th>\n",
       "      <th>BOROUGH</th>\n",
       "      <th>BOROUGH_FULL_NAME</th>\n",
       "    </tr>\n",
       "  </thead>\n",
       "  <tbody>\n",
       "    <tr>\n",
       "      <th>280</th>\n",
       "      <td>IND</td>\n",
       "      <td>JAMAICA VAN WK</td>\n",
       "      <td>Q</td>\n",
       "      <td>QUEENS</td>\n",
       "    </tr>\n",
       "  </tbody>\n",
       "</table>\n",
       "</div>"
      ],
      "text/plain": [
       "    DIVISION         STATION BOROUGH BOROUGH_FULL_NAME\n",
       "280      IND  JAMAICA VAN WK       Q            QUEENS"
      ]
     },
     "execution_count": 788,
     "metadata": {},
     "output_type": "execute_result"
    }
   ],
   "source": [
    "STATION_NAME_BOROUGH[STATION_NAME_BOROUGH.STATION == 'JAMAICA VAN WK']"
   ]
  },
  {
   "cell_type": "markdown",
   "metadata": {},
   "source": [
    "Modify `STATION_NAME_BOROUGH` to match `turnstiles_df`"
   ]
  },
  {
   "cell_type": "code",
   "execution_count": 379,
   "metadata": {},
   "outputs": [],
   "source": [
    "#To change the diff \n",
    "STATION_NAME_BOROUGH['STATION'] = STATION_NAME_BOROUGH['STATION'].apply(lambda x:x.replace(' - ', '-'))"
   ]
  },
  {
   "cell_type": "code",
   "execution_count": 1108,
   "metadata": {},
   "outputs": [
    {
     "data": {
      "text/plain": [
       "array(['RICHMOND VALLEY'], dtype=object)"
      ]
     },
     "execution_count": 1108,
     "metadata": {},
     "output_type": "execute_result"
    }
   ],
   "source": [
    "#To fine what is the diff between the two Station col\n",
    "STATION_NAME_BOROUGH[STATION_NAME_BOROUGH['STATION'].str.contains('HM')].STATION.unique()"
   ]
  },
  {
   "cell_type": "code",
   "execution_count": 1103,
   "metadata": {},
   "outputs": [
    {
     "data": {
      "text/plain": [
       "array(['168 ST', '68ST-HUNTER CO'], dtype=object)"
      ]
     },
     "execution_count": 1103,
     "metadata": {},
     "output_type": "execute_result"
    }
   ],
   "source": [
    "#To fine what is the diff between the two Station col\n",
    "turnstiles_df[turnstiles_df['STATION'].str.contains('68')].STATION.unique()"
   ]
  },
  {
   "cell_type": "code",
   "execution_count": 1104,
   "metadata": {},
   "outputs": [],
   "source": [
    "STATION_NAME_BOROUGH['STATION'] = STATION_NAME_BOROUGH['STATION']\\\n",
    ".apply(lambda x:x.replace('168 ST-WASHINGTON HTS','168 ST'))"
   ]
  },
  {
   "cell_type": "code",
   "execution_count": 1106,
   "metadata": {},
   "outputs": [],
   "source": [
    "STATION_NAME_BOROUGH['STATION'] = STATION_NAME_BOROUGH['STATION']\\\n",
    ".apply(lambda x:x.replace('68ST-HUNTER COE','68ST-HUNTER CO'))"
   ]
  },
  {
   "cell_type": "code",
   "execution_count": 1095,
   "metadata": {},
   "outputs": [],
   "source": [
    "STATION_NAME_BOROUGH['STATION'] = STATION_NAME_BOROUGH['STATION']\\\n",
    ".apply(lambda x:x.replace('LEXINGTON AV/63 ST','LEXINGTON AV/63'))"
   ]
  },
  {
   "cell_type": "code",
   "execution_count": 1087,
   "metadata": {},
   "outputs": [],
   "source": [
    "turnstiles_df['STATION'] = turnstiles_df['STATION']\\\n",
    ".apply(lambda x:x.replace('CITY / BUS','FLATBUSH AV-B.C'))"
   ]
  },
  {
   "cell_type": "code",
   "execution_count": 1076,
   "metadata": {},
   "outputs": [],
   "source": [
    "STATION_NAME_BOROUGH['STATION'] = STATION_NAME_BOROUGH['STATION']\\\n",
    ".apply(lambda x:x.replace('47-50 STS-ROCKEFELLER CTR','47-50 STS ROCK'))"
   ]
  },
  {
   "cell_type": "code",
   "execution_count": 1071,
   "metadata": {},
   "outputs": [],
   "source": [
    "STATION_NAME_BOROUGH['STATION'] = STATION_NAME_BOROUGH['STATION']\\\n",
    ".apply(lambda x:x.replace('5 AVE/53 ST','LEXINGTON AV/53'))"
   ]
  },
  {
   "cell_type": "code",
   "execution_count": 1068,
   "metadata": {},
   "outputs": [],
   "source": [
    "STATION_NAME_BOROUGH['STATION'] = STATION_NAME_BOROUGH['STATION']\\\n",
    ".apply(lambda x:x.replace('LEXINGTON AV/53 ST','5 AV/53 ST'))"
   ]
  },
  {
   "cell_type": "code",
   "execution_count": 1065,
   "metadata": {},
   "outputs": [],
   "source": [
    "STATION_NAME_BOROUGH['STATION'] = STATION_NAME_BOROUGH['STATION']\\\n",
    ".apply(lambda x:x.replace('161 ST-YANKEE STADIUM','161/YANKEE STAD'))"
   ]
  },
  {
   "cell_type": "code",
   "execution_count": 1062,
   "metadata": {},
   "outputs": [],
   "source": [
    "STATION_NAME_BOROUGH['STATION'] = STATION_NAME_BOROUGH['STATION']\\\n",
    ".apply(lambda x:x.replace('CLINTON-WASHINGTON AVS','CLINTON-WASH AV'))"
   ]
  },
  {
   "cell_type": "code",
   "execution_count": 1059,
   "metadata": {},
   "outputs": [],
   "source": [
    "STATION_NAME_BOROUGH['STATION'] = STATION_NAME_BOROUGH['STATION']\\\n",
    ".apply(lambda x:x.replace('KINGSTON-THROOP AVS','KINGSTON-THROOP'))"
   ]
  },
  {
   "cell_type": "code",
   "execution_count": 1056,
   "metadata": {},
   "outputs": [],
   "source": [
    "STATION_NAME_BOROUGH['STATION'] = STATION_NAME_BOROUGH['STATION']\\\n",
    ".apply(lambda x:x.replace('WORLD TRADE CENTER','WORLD TRADE CTR'))"
   ]
  },
  {
   "cell_type": "code",
   "execution_count": 1053,
   "metadata": {},
   "outputs": [],
   "source": [
    "STATION_NAME_BOROUGH['STATION'] = STATION_NAME_BOROUGH['STATION']\\\n",
    ".apply(lambda x:x.replace('W 4 ST','W 4 ST-WASH SQ'))"
   ]
  },
  {
   "cell_type": "code",
   "execution_count": 1099,
   "metadata": {},
   "outputs": [],
   "source": [
    "turnstiles_df['STATION'] = turnstiles_df['STATION']\\\n",
    ".apply(lambda x:x.replace('4AV-9 ST','4 AV'))"
   ]
  },
  {
   "cell_type": "code",
   "execution_count": 1098,
   "metadata": {},
   "outputs": [],
   "source": [
    "turnstiles_df['STATION'] = turnstiles_df['STATION']\\\n",
    ".apply(lambda x:x.replace('4 AV-9 ST','4 AV'))"
   ]
  },
  {
   "cell_type": "code",
   "execution_count": 1043,
   "metadata": {},
   "outputs": [],
   "source": [
    "STATION_NAME_BOROUGH['STATION'] = STATION_NAME_BOROUGH['STATION']\\\n",
    ".apply(lambda x:x.replace('3 AV-138 ST','3 AV 138 ST'))"
   ]
  },
  {
   "cell_type": "code",
   "execution_count": 1036,
   "metadata": {},
   "outputs": [],
   "source": [
    "turnstiles_df['STATION'] = turnstiles_df['STATION']\\\n",
    ".apply(lambda x:x.replace('LACKAWANNA','34 ST-HUDSON YD'))"
   ]
  },
  {
   "cell_type": "code",
   "execution_count": 1029,
   "metadata": {},
   "outputs": [],
   "source": [
    "turnstiles_df['STATION'] = turnstiles_df['STATION']\\\n",
    ".apply(lambda x:x.replace('30 ST','30 AV'))"
   ]
  },
  {
   "cell_type": "code",
   "execution_count": 1013,
   "metadata": {},
   "outputs": [],
   "source": [
    "STATION_NAME_BOROUGH['STATION'] = STATION_NAME_BOROUGH['STATION']\\\n",
    ".apply(lambda x:x.replace('25 AVE','25 AV'))"
   ]
  },
  {
   "cell_type": "code",
   "execution_count": 1010,
   "metadata": {},
   "outputs": [],
   "source": [
    "STATION_NAME_BOROUGH['STATION'] = STATION_NAME_BOROUGH['STATION']\\\n",
    ".apply(lambda x:x.replace('E 105 ST','EAST 105 ST'))"
   ]
  },
  {
   "cell_type": "code",
   "execution_count": 1005,
   "metadata": {},
   "outputs": [],
   "source": [
    "STATION_NAME_BOROUGH['STATION'] = STATION_NAME_BOROUGH['STATION']\\\n",
    ".apply(lambda x:x.replace('21 ST-QUEENSBRIDGE','21 ST-QNSBRIDGE'))"
   ]
  },
  {
   "cell_type": "code",
   "execution_count": 999,
   "metadata": {},
   "outputs": [],
   "source": [
    "STATION_NAME_BOROUGH['STATION'] = STATION_NAME_BOROUGH['STATION']\\\n",
    ".apply(lambda x:x.replace('15 ST-PROSPECT PARK','15 ST-PROSPECT'))"
   ]
  },
  {
   "cell_type": "code",
   "execution_count": 975,
   "metadata": {},
   "outputs": [],
   "source": [
    "turnstiles_df['STATION'] = turnstiles_df['STATION']\\\n",
    ".apply(lambda x:x.replace('VAN SICLEN AVE','VAN SICLEN AV'))"
   ]
  },
  {
   "cell_type": "code",
   "execution_count": 968,
   "metadata": {},
   "outputs": [],
   "source": [
    "STATION_NAME_BOROUGH['STATION'] = STATION_NAME_BOROUGH['STATION']\\\n",
    ".apply(lambda x:x.replace('SUTPHIN BLVD-ARCHER AV-JFK AIRPORT','SUTPHIN-ARCHER'))"
   ]
  },
  {
   "cell_type": "code",
   "execution_count": 963,
   "metadata": {},
   "outputs": [],
   "source": [
    "STATION_NAME_BOROUGH['STATION'] = STATION_NAME_BOROUGH['STATION']\\\n",
    ".apply(lambda x:x.replace('FAR ROCKAWAY-MOTT AV','FAR ROCKAWAY'))"
   ]
  },
  {
   "cell_type": "code",
   "execution_count": 959,
   "metadata": {},
   "outputs": [],
   "source": [
    "STATION_NAME_BOROUGH['STATION'] = STATION_NAME_BOROUGH['STATION']\\\n",
    ".apply(lambda x:x.replace('BROADWAY-LAFAYETTE ST',\"B'WAY-LAFAYETTE\"))"
   ]
  },
  {
   "cell_type": "code",
   "execution_count": 954,
   "metadata": {},
   "outputs": [],
   "source": [
    "STATION_NAME_BOROUGH['STATION'] = STATION_NAME_BOROUGH['STATION']\\\n",
    ".apply(lambda x:x.replace('CHRISTOPHER ST-SHERIDAN SQ','CHRISTOPHER ST'))"
   ]
  },
  {
   "cell_type": "code",
   "execution_count": 951,
   "metadata": {},
   "outputs": [],
   "source": [
    "STATION_NAME_BOROUGH['STATION'] = STATION_NAME_BOROUGH['STATION']\\\n",
    ".apply(lambda x:x.replace('HOYT-SCHERMERHORN STS','HOYT-SCHER'))"
   ]
  },
  {
   "cell_type": "code",
   "execution_count": 915,
   "metadata": {},
   "outputs": [],
   "source": [
    "STATION_NAME_BOROUGH['STATION'] = STATION_NAME_BOROUGH['STATION']\\\n",
    ".apply(lambda x:x.replace('66 ST-LINCOLN CENTER','66 ST-LINCOLN'))"
   ]
  },
  {
   "cell_type": "code",
   "execution_count": 964,
   "metadata": {},
   "outputs": [],
   "source": [
    "turnstiles_df['STATION'] = turnstiles_df['STATION']\\\n",
    ".apply(lambda x:x.replace('ROCKAWAY PARK B','ROCKAWAY BLVD'))"
   ]
  },
  {
   "cell_type": "code",
   "execution_count": 942,
   "metadata": {},
   "outputs": [],
   "source": [
    "turnstiles_df['STATION'] = turnstiles_df['STATION']\\\n",
    ".apply(lambda x:x.replace('9TH STREET','9 ST'))"
   ]
  },
  {
   "cell_type": "code",
   "execution_count": 948,
   "metadata": {},
   "outputs": [],
   "source": [
    "turnstiles_df['STATION'] = turnstiles_df['STATION']\\\n",
    ".apply(lambda x:x.replace('TWENTY THIRD ST','23 ST'))"
   ]
  },
  {
   "cell_type": "code",
   "execution_count": 929,
   "metadata": {},
   "outputs": [],
   "source": [
    "turnstiles_df['STATION'] = turnstiles_df['STATION']\\\n",
    ".apply(lambda x:x.replace('THIRTY ST','30 ST'))"
   ]
  },
  {
   "cell_type": "code",
   "execution_count": 912,
   "metadata": {},
   "outputs": [],
   "source": [
    "STATION_NAME_BOROUGH['STATION'] = STATION_NAME_BOROUGH['STATION']\\\n",
    ".apply(lambda x:x.replace('116 ST-COLUMBIA UNIVERSITY','116 ST-COLUMBIA'))"
   ]
  },
  {
   "cell_type": "code",
   "execution_count": 909,
   "metadata": {},
   "outputs": [],
   "source": [
    "STATION_NAME_BOROUGH['STATION'] = STATION_NAME_BOROUGH['STATION']\\\n",
    ".apply(lambda x:x.replace('137 ST-CITY COLLEGE','137 ST CITY COL'))"
   ]
  },
  {
   "cell_type": "code",
   "execution_count": 905,
   "metadata": {},
   "outputs": [],
   "source": [
    "STATION_NAME_BOROUGH['STATION'] = STATION_NAME_BOROUGH['STATION']\\\n",
    ".apply(lambda x:x.replace('MARBLE HILL-225 ST','MARBLE HILL-225'))"
   ]
  },
  {
   "cell_type": "code",
   "execution_count": 900,
   "metadata": {},
   "outputs": [],
   "source": [
    "STATION_NAME_BOROUGH['STATION'] = STATION_NAME_BOROUGH['STATION']\\\n",
    ".apply(lambda x:x.replace('BROOKLYN BRIDGE-CITY HALL','BROOKLYN BRIDGE'))"
   ]
  },
  {
   "cell_type": "code",
   "execution_count": 897,
   "metadata": {},
   "outputs": [],
   "source": [
    "STATION_NAME_BOROUGH['STATION'] = STATION_NAME_BOROUGH['STATION']\\\n",
    ".apply(lambda x:x.replace('GRAND CENTRAL-42 ST','GRD CNTRL-42 ST'))"
   ]
  },
  {
   "cell_type": "code",
   "execution_count": 893,
   "metadata": {},
   "outputs": [],
   "source": [
    "STATION_NAME_BOROUGH['STATION'] = STATION_NAME_BOROUGH['STATION']\\\n",
    ".apply(lambda x:x.replace('68 ST-HUNTER COLLEG','68ST-HUNTER CO'))"
   ]
  },
  {
   "cell_type": "code",
   "execution_count": 886,
   "metadata": {},
   "outputs": [],
   "source": [
    "STATION_NAME_BOROUGH['STATION'] = STATION_NAME_BOROUGH['STATION']\\\n",
    ".apply(lambda x:x.replace(\"CENTRAL PARK NORTH (110 ST)\",'CENTRAL PK N110'))"
   ]
  },
  {
   "cell_type": "code",
   "execution_count": 881,
   "metadata": {},
   "outputs": [],
   "source": [
    "STATION_NAME_BOROUGH['STATION'] = STATION_NAME_BOROUGH['STATION']\\\n",
    ".apply(lambda x:x.replace('HARLEM-148 ST','HARLEM 148 ST'))"
   ]
  },
  {
   "cell_type": "code",
   "execution_count": 878,
   "metadata": {},
   "outputs": [],
   "source": [
    "STATION_NAME_BOROUGH['STATION'] = STATION_NAME_BOROUGH['STATION']\\\n",
    ".apply(lambda x:x.replace('WEST FARMS SQ-E TREMONT AV','WEST FARMS SQ'))"
   ]
  },
  {
   "cell_type": "code",
   "execution_count": 875,
   "metadata": {},
   "outputs": [],
   "source": [
    "STATION_NAME_BOROUGH['STATION'] = STATION_NAME_BOROUGH['STATION']\\\n",
    ".apply(lambda x:x.replace('WAKEFIELD-241 ST','WAKEFIELD/241'))"
   ]
  },
  {
   "cell_type": "code",
   "execution_count": 864,
   "metadata": {},
   "outputs": [],
   "source": [
    "STATION_NAME_BOROUGH['STATION'] = STATION_NAME_BOROUGH['STATION']\\\n",
    ".apply(lambda x:x.replace(\"E 143 ST-ST MARY'S ST\",\"E 143/ST MARY'S\"))"
   ]
  },
  {
   "cell_type": "code",
   "execution_count": 853,
   "metadata": {},
   "outputs": [],
   "source": [
    "STATION_NAME_BOROUGH['STATION'] = STATION_NAME_BOROUGH['STATION']\\\n",
    ".apply(lambda x:x.replace('WESTCHESTER SQ-E TREMONT AV','WESTCHESTER SQ'))"
   ]
  },
  {
   "cell_type": "code",
   "execution_count": 846,
   "metadata": {},
   "outputs": [],
   "source": [
    "turnstiles_df['STATION'] = turnstiles_df['STATION']\\\n",
    ".apply(lambda x:x.replace('33 ST-RAWSON ST','96 ST'))"
   ]
  },
  {
   "cell_type": "code",
   "execution_count": 847,
   "metadata": {},
   "outputs": [],
   "source": [
    "turnstiles_df['STATION'] = turnstiles_df['STATION']\\\n",
    ".apply(lambda x:x.replace('33 ST-RAWSON ST','33 ST'))"
   ]
  },
  {
   "cell_type": "code",
   "execution_count": 836,
   "metadata": {},
   "outputs": [],
   "source": [
    "turnstiles_df['STATION'] = turnstiles_df['STATION']\\\n",
    ".apply(lambda x:x.replace('RIT-MANHATTAN','96 ST'))"
   ]
  },
  {
   "cell_type": "code",
   "execution_count": 831,
   "metadata": {},
   "outputs": [],
   "source": [
    "turnstiles_df['STATION'] = turnstiles_df['STATION']\\\n",
    ".apply(lambda x:x.replace('RIT-ROOSEVELT','ROOSEVELT ISLND'))"
   ]
  },
  {
   "cell_type": "code",
   "execution_count": 821,
   "metadata": {},
   "outputs": [],
   "source": [
    "STATION_NAME_BOROUGH['STATION'] = STATION_NAME_BOROUGH['STATION']\\\n",
    ".apply(lambda x:x.replace('175 ST-ELDERTS','175 ST'))"
   ]
  },
  {
   "cell_type": "code",
   "execution_count": 822,
   "metadata": {},
   "outputs": [],
   "source": [
    "STATION_NAME_BOROUGH['STATION'] = STATION_NAME_BOROUGH['STATION']\\\n",
    ".apply(lambda x:x.replace('174-175 ST-ELDERTSS','175 ST'))"
   ]
  },
  {
   "cell_type": "code",
   "execution_count": 819,
   "metadata": {},
   "outputs": [],
   "source": [
    "STATION_NAME_BOROUGH['STATION'] = STATION_NAME_BOROUGH['STATION']\\\n",
    ".apply(lambda x:x.replace('75 AVE','75 AV'))"
   ]
  },
  {
   "cell_type": "code",
   "execution_count": 809,
   "metadata": {},
   "outputs": [],
   "source": [
    "STATION_NAME_BOROUGH['STATION'] = STATION_NAME_BOROUGH['STATION']\\\n",
    ".apply(lambda x:x.replace('5 AVE/59 ST','5 AV/59 ST'))"
   ]
  },
  {
   "cell_type": "code",
   "execution_count": 793,
   "metadata": {},
   "outputs": [],
   "source": [
    "STATION_NAME_BOROUGH['STATION'] = STATION_NAME_BOROUGH['STATION']\\\n",
    ".apply(lambda x:x.replace('ROOSEVELT ISLAND','ROOSEVELT ISLND'))"
   ]
  },
  {
   "cell_type": "code",
   "execution_count": 804,
   "metadata": {},
   "outputs": [],
   "source": [
    "turnstiles_df['STATION'] = turnstiles_df['STATION']\\\n",
    ".apply(lambda x:x.replace('NEW LOTS AV AV','NEW LOTS AV'))"
   ]
  },
  {
   "cell_type": "code",
   "execution_count": 789,
   "metadata": {},
   "outputs": [],
   "source": [
    "turnstiles_df['STATION'] = turnstiles_df['STATION']\\\n",
    ".apply(lambda x:x.replace('JAMAICA CENTER','JFK JAMAICA CT1'))"
   ]
  },
  {
   "cell_type": "code",
   "execution_count": 783,
   "metadata": {},
   "outputs": [],
   "source": [
    "turnstiles_df['STATION'] = turnstiles_df['STATION']\\\n",
    ".apply(lambda x:x.replace('72 ST-2 AVE','72 ST'))"
   ]
  },
  {
   "cell_type": "code",
   "execution_count": 780,
   "metadata": {},
   "outputs": [],
   "source": [
    "turnstiles_df['STATION'] = turnstiles_df['STATION']\\\n",
    ".apply(lambda x:x.replace('86 ST-2 AVE','86 ST'))"
   ]
  },
  {
   "cell_type": "code",
   "execution_count": 776,
   "metadata": {},
   "outputs": [],
   "source": [
    "turnstiles_df['STATION'] = turnstiles_df['STATION']\\\n",
    ".apply(lambda x:x.replace('96 ST-2 AVE','96 ST'))"
   ]
  },
  {
   "cell_type": "code",
   "execution_count": 771,
   "metadata": {},
   "outputs": [],
   "source": [
    "STATION_NAME_BOROUGH['STATION'] = STATION_NAME_BOROUGH['STATION']\\\n",
    ".apply(lambda x:x.replace('ROCKAWAY PARK-BEACH 116 ST','ORCHARD BEACH'))"
   ]
  },
  {
   "cell_type": "code",
   "execution_count": 766,
   "metadata": {},
   "outputs": [],
   "source": [
    "STATION_NAME_BOROUGH['STATION'] = STATION_NAME_BOROUGH['STATION']\\\n",
    ".apply(lambda x:x.replace('NEW LOTS','NEW LOTS AV'))"
   ]
  },
  {
   "cell_type": "code",
   "execution_count": 757,
   "metadata": {},
   "outputs": [],
   "source": [
    "STATION_NAME_BOROUGH['STATION'] = STATION_NAME_BOROUGH['STATION']\\\n",
    ".apply(lambda x:x.replace('NORWOOD-205 ST','NORWOOD 205 ST'))"
   ]
  },
  {
   "cell_type": "code",
   "execution_count": 752,
   "metadata": {},
   "outputs": [],
   "source": [
    "STATION_NAME_BOROUGH['STATION'] = STATION_NAME_BOROUGH['STATION']\\\n",
    ".apply(lambda x:x.replace('JACKSON HTS-ROOSEVELT AV','JKSN HT-ROOSVLT'))"
   ]
  },
  {
   "cell_type": "code",
   "execution_count": 744,
   "metadata": {},
   "outputs": [],
   "source": [
    "STATION_NAME_BOROUGH['STATION'] = STATION_NAME_BOROUGH['STATION']\\\n",
    ".apply(lambda x:x.replace('138 ST-GRAND CONCOURSE','138/GRAND CONC'))"
   ]
  },
  {
   "cell_type": "code",
   "execution_count": 745,
   "metadata": {},
   "outputs": [],
   "source": [
    "STATION_NAME_BOROUGH['STATION'] = STATION_NAME_BOROUGH['STATION']\\\n",
    ".apply(lambda x:x.replace('149 ST-GRAND CONCOURSE','149/GRAND CONC'))"
   ]
  },
  {
   "cell_type": "code",
   "execution_count": 743,
   "metadata": {},
   "outputs": [],
   "source": [
    "STATION_NAME_BOROUGH['STATION'] = STATION_NAME_BOROUGH['STATION']\\\n",
    ".apply(lambda x:x.replace('GRAND AV-NEWTOWN','GRAND-NEWTOWN'))"
   ]
  },
  {
   "cell_type": "code",
   "execution_count": 739,
   "metadata": {},
   "outputs": [],
   "source": [
    "STATION_NAME_BOROUGH['STATION'] = STATION_NAME_BOROUGH['STATION']\\\n",
    ".apply(lambda x:x.replace('COURT ST','COURT SQ-23 ST'))"
   ]
  },
  {
   "cell_type": "code",
   "execution_count": 736,
   "metadata": {},
   "outputs": [],
   "source": [
    "STATION_NAME_BOROUGH['STATION'] = STATION_NAME_BOROUGH['STATION']\\\n",
    ".apply(lambda x:x.replace('SMITH-9 STS','SMITH-9 ST'))"
   ]
  },
  {
   "cell_type": "code",
   "execution_count": 733,
   "metadata": {},
   "outputs": [],
   "source": [
    "STATION_NAME_BOROUGH['STATION'] = STATION_NAME_BOROUGH['STATION']\\\n",
    ".apply(lambda x:x.replace('OZONE PARK-LEFFERTS BLVD','OZONE PK LEFFRT'))"
   ]
  },
  {
   "cell_type": "code",
   "execution_count": 727,
   "metadata": {},
   "outputs": [],
   "source": [
    "STATION_NAME_BOROUGH['STATION'] = STATION_NAME_BOROUGH['STATION']\\\n",
    ".apply(lambda x:x.replace('AQUEDUCT RACETRACK','AQUEDUCT RACETR'))"
   ]
  },
  {
   "cell_type": "code",
   "execution_count": 728,
   "metadata": {},
   "outputs": [],
   "source": [
    "STATION_NAME_BOROUGH['STATION'] = STATION_NAME_BOROUGH['STATION']\\\n",
    ".apply(lambda x:x.replace('AQUEDUCT-N CONDUIT AV','AQUEDUCT N.COND'))"
   ]
  },
  {
   "cell_type": "code",
   "execution_count": 721,
   "metadata": {},
   "outputs": [],
   "source": [
    "STATION_NAME_BOROUGH['STATION'] = STATION_NAME_BOROUGH['STATION']\\\n",
    ".apply(lambda x:x.replace('BEDFORD-NOSTRAND AVS','BEDFORD-NOSTRAN'))"
   ]
  },
  {
   "cell_type": "code",
   "execution_count": 723,
   "metadata": {},
   "outputs": [],
   "source": [
    "STATION_NAME_BOROUGH['STATION'] = STATION_NAME_BOROUGH['STATION']\\\n",
    ".apply(lambda x:x.replace('BEDFORD PK BLVD-LEHMAN COLLEGE','BEDFORD PK BLVD'))"
   ]
  },
  {
   "cell_type": "code",
   "execution_count": 719,
   "metadata": {},
   "outputs": [],
   "source": [
    "STATION_NAME_BOROUGH['STATION'] = STATION_NAME_BOROUGH['STATION']\\\n",
    ".apply(lambda x:x.replace('BEDFORD PARK BLVD','BEDFORD PK BLVD'))"
   ]
  },
  {
   "cell_type": "code",
   "execution_count": 716,
   "metadata": {},
   "outputs": [],
   "source": [
    "STATION_NAME_BOROUGH['STATION'] = STATION_NAME_BOROUGH['STATION']\\\n",
    ".apply(lambda x:x.replace('KEW GARDENS-UNION TPKE','KEW GARDENS'))"
   ]
  },
  {
   "cell_type": "code",
   "execution_count": 708,
   "metadata": {},
   "outputs": [],
   "source": [
    "STATION_NAME_BOROUGH['STATION'] = STATION_NAME_BOROUGH['STATION']\\\n",
    ".apply(lambda x:x.replace('MYRTLE-WILLOUGHBY AVS','MYRTLE-WILLOUGH'))"
   ]
  },
  {
   "cell_type": "code",
   "execution_count": 705,
   "metadata": {},
   "outputs": [],
   "source": [
    "STATION_NAME_BOROUGH['STATION'] = STATION_NAME_BOROUGH['STATION']\\\n",
    ".apply(lambda x:x.replace('BRIARWOOD-VAN WYCK BLVD','BRIARWOOD'))"
   ]
  },
  {
   "cell_type": "code",
   "execution_count": 689,
   "metadata": {},
   "outputs": [],
   "source": [
    "STATION_NAME_BOROUGH['STATION'] = STATION_NAME_BOROUGH['STATION']\\\n",
    ".apply(lambda x:x.replace('33 ST-RAWSON ST','33 ST'))"
   ]
  },
  {
   "cell_type": "code",
   "execution_count": 684,
   "metadata": {},
   "outputs": [],
   "source": [
    "STATION_NAME_BOROUGH['STATION'] = STATION_NAME_BOROUGH['STATION']\\\n",
    ".apply(lambda x:x.replace('ASTORIA-DITMARS BLVD','ASTORIA DITMARS'))"
   ]
  },
  {
   "cell_type": "code",
   "execution_count": 678,
   "metadata": {},
   "outputs": [],
   "source": [
    "STATION_NAME_BOROUGH['STATION'] = STATION_NAME_BOROUGH['STATION']\\\n",
    ".apply(lambda x:x.replace('QUEENSBORO PLAZA','QUEENSBORO PLZ'))"
   ]
  },
  {
   "cell_type": "code",
   "execution_count": 675,
   "metadata": {},
   "outputs": [],
   "source": [
    "STATION_NAME_BOROUGH['STATION'] = STATION_NAME_BOROUGH['STATION']\\\n",
    ".apply(lambda x:x.replace('HUNTERS POINT AV','HUNTERS PT AV'))"
   ]
  },
  {
   "cell_type": "code",
   "execution_count": 671,
   "metadata": {},
   "outputs": [],
   "source": [
    "STATION_NAME_BOROUGH['STATION'] = STATION_NAME_BOROUGH['STATION']\\\n",
    ".apply(lambda x:x.replace('VERNON BLVD-JACKSON AV','VERNON-JACKSON'))"
   ]
  },
  {
   "cell_type": "code",
   "execution_count": 668,
   "metadata": {},
   "outputs": [],
   "source": [
    "STATION_NAME_BOROUGH['STATION'] = STATION_NAME_BOROUGH['STATION']\\\n",
    ".apply(lambda x:x.replace('5 AV','5 AVE'))"
   ]
  },
  {
   "cell_type": "code",
   "execution_count": 660,
   "metadata": {},
   "outputs": [],
   "source": [
    "STATION_NAME_BOROUGH['STATION'] = STATION_NAME_BOROUGH['STATION']\\\n",
    ".apply(lambda x:x.replace('METS-WILLETS POINT','METS-WILLETS PT'))"
   ]
  },
  {
   "cell_type": "code",
   "execution_count": 657,
   "metadata": {},
   "outputs": [],
   "source": [
    "STATION_NAME_BOROUGH['STATION'] = STATION_NAME_BOROUGH['STATION']\\\n",
    ".apply(lambda x:x.replace('90 ST-ELMHURST AV','90 ST-ELMHURST'))"
   ]
  },
  {
   "cell_type": "code",
   "execution_count": 654,
   "metadata": {},
   "outputs": [],
   "source": [
    "STATION_NAME_BOROUGH['STATION'] = STATION_NAME_BOROUGH['STATION']\\\n",
    ".apply(lambda x:x.replace('82 ST-JACKSON HTS','82 ST-JACKSON H'))"
   ]
  },
  {
   "cell_type": "code",
   "execution_count": 651,
   "metadata": {},
   "outputs": [],
   "source": [
    "STATION_NAME_BOROUGH['STATION'] = STATION_NAME_BOROUGH['STATION']\\\n",
    ".apply(lambda x:x.replace('WOODSIDE-61 ST','61 ST WOODSIDE'))"
   ]
  },
  {
   "cell_type": "code",
   "execution_count": 648,
   "metadata": {},
   "outputs": [],
   "source": [
    "turnstiles_df['STATION'] = turnstiles_df['STATION']\\\n",
    ".apply(lambda x:x.replace('46 ST BLISS ST','46 ST'))"
   ]
  },
  {
   "cell_type": "code",
   "execution_count": 645,
   "metadata": {},
   "outputs": [],
   "source": [
    "STATION_NAME_BOROUGH['STATION'] = STATION_NAME_BOROUGH['STATION']\\\n",
    ".apply(lambda x:x.replace('40 ST','40 ST LOWERY ST'))"
   ]
  },
  {
   "cell_type": "code",
   "execution_count": 638,
   "metadata": {},
   "outputs": [],
   "source": [
    "STATION_NAME_BOROUGH['STATION'] = STATION_NAME_BOROUGH['STATION']\\\n",
    ".apply(lambda x:x.replace('34 ST-PENN STATION','34 ST-PENN STA'))"
   ]
  },
  {
   "cell_type": "code",
   "execution_count": 635,
   "metadata": {},
   "outputs": [],
   "source": [
    "STATION_NAME_BOROUGH['STATION'] = STATION_NAME_BOROUGH['STATION']\\\n",
    ".apply(lambda x:x.replace('WTC CORTLANDT','WTC-CORTLANDT'))"
   ]
  },
  {
   "cell_type": "code",
   "execution_count": 740,
   "metadata": {},
   "outputs": [],
   "source": [
    "STATION_NAME_BOROUGH['STATION'] = STATION_NAME_BOROUGH['STATION']\\\n",
    ".apply(lambda x:x.replace('VAN CORTLANDT PARK-242 ST','V.CORTLANDT PK'))"
   ]
  },
  {
   "cell_type": "code",
   "execution_count": 631,
   "metadata": {},
   "outputs": [],
   "source": [
    "STATION_NAME_BOROUGH['STATION'] = STATION_NAME_BOROUGH['STATION']\\\n",
    ".apply(lambda x:x.replace('42 ST-PORT AUTHORITY BUS TERMINAL','42 ST-PORT AUTH'))"
   ]
  },
  {
   "cell_type": "code",
   "execution_count": 628,
   "metadata": {},
   "outputs": [],
   "source": [
    "STATION_NAME_BOROUGH['STATION'] = STATION_NAME_BOROUGH['STATION']\\\n",
    ".apply(lambda x:x.replace('LEXINGTON AV/59 ST','5 AV/59 ST'))"
   ]
  },
  {
   "cell_type": "code",
   "execution_count": 627,
   "metadata": {},
   "outputs": [],
   "source": [
    "STATION_NAME_BOROUGH['STATION'] = STATION_NAME_BOROUGH['STATION']\\\n",
    ".apply(lambda x:x.replace('59 ST-COLUMBUS CIRCLE','59 ST COLUMBUS'))"
   ]
  },
  {
   "cell_type": "code",
   "execution_count": 623,
   "metadata": {},
   "outputs": [],
   "source": [
    "STATION_NAME_BOROUGH['STATION'] = STATION_NAME_BOROUGH['STATION']\\\n",
    ".apply(lambda x:x.replace('163 ST-AMSTERDAM AV','163 ST-AMSTERDM'))"
   ]
  },
  {
   "cell_type": "code",
   "execution_count": 618,
   "metadata": {},
   "outputs": [],
   "source": [
    "STATION_NAME_BOROUGH['STATION'] = STATION_NAME_BOROUGH['STATION']\\\n",
    ".apply(lambda x:x.replace('FOREST HILLS-71 AV','FOREST HILLS 71'))"
   ]
  },
  {
   "cell_type": "code",
   "execution_count": 619,
   "metadata": {},
   "outputs": [],
   "source": [
    "STATION_NAME_BOROUGH['STATION'] = STATION_NAME_BOROUGH['STATION']\\\n",
    ".apply(lambda x:x.replace('FOREST AV','FOREST AVE'))"
   ]
  },
  {
   "cell_type": "code",
   "execution_count": 614,
   "metadata": {},
   "outputs": [],
   "source": [
    "STATION_NAME_BOROUGH['STATION'] = STATION_NAME_BOROUGH['STATION']\\\n",
    ".apply(lambda x:x.replace('SENECA AV','SENECA AVE'))"
   ]
  },
  {
   "cell_type": "code",
   "execution_count": 615,
   "metadata": {},
   "outputs": [],
   "source": [
    "STATION_NAME_BOROUGH['STATION'] = STATION_NAME_BOROUGH['STATION']\\\n",
    ".apply(lambda x:x.replace('KNICKERBOCKER AV','KNICKERBOCKER'))"
   ]
  },
  {
   "cell_type": "code",
   "execution_count": 604,
   "metadata": {},
   "outputs": [],
   "source": [
    "STATION_NAME_BOROUGH['STATION'] = STATION_NAME_BOROUGH['STATION']\\\n",
    ".apply(lambda x:x.replace('JAMAICA CENTER-PARSONS/ARCHER','JAMAICA CENTER'))"
   ]
  },
  {
   "cell_type": "code",
   "execution_count": 601,
   "metadata": {},
   "outputs": [],
   "source": [
    "STATION_NAME_BOROUGH['STATION'] = STATION_NAME_BOROUGH['STATION']\\\n",
    ".apply(lambda x:x.replace('JAMAICA-179 ST','JAMAICA 179 ST'))"
   ]
  },
  {
   "cell_type": "code",
   "execution_count": 602,
   "metadata": {},
   "outputs": [],
   "source": [
    "STATION_NAME_BOROUGH['STATION'] = STATION_NAME_BOROUGH['STATION']\\\n",
    ".apply(lambda x:x.replace('JAMAICA CENTER-PARSONS/ARCHER','JFK JAMAICA CT1'))"
   ]
  },
  {
   "cell_type": "code",
   "execution_count": 603,
   "metadata": {},
   "outputs": [],
   "source": [
    "STATION_NAME_BOROUGH['STATION'] = STATION_NAME_BOROUGH['STATION']\\\n",
    ".apply(lambda x:x.replace('JAMAICA-VAN WYCK','JAMAICA VAN WK'))"
   ]
  },
  {
   "cell_type": "code",
   "execution_count": 598,
   "metadata": {},
   "outputs": [],
   "source": [
    "STATION_NAME_BOROUGH['STATION'] = STATION_NAME_BOROUGH['STATION']\\\n",
    ".apply(lambda x:x.replace('HOWARD BEACH-JFK AIRPORT','HOWARD BCH JFK'))"
   ]
  },
  {
   "cell_type": "code",
   "execution_count": 595,
   "metadata": {},
   "outputs": [],
   "source": [
    "STATION_NAME_BOROUGH['STATION'] = STATION_NAME_BOROUGH['STATION']\\\n",
    ".apply(lambda x:x.replace('85 ST-FOREST PKWY','85 ST-FOREST PK'))"
   ]
  },
  {
   "cell_type": "code",
   "execution_count": 592,
   "metadata": {},
   "outputs": [],
   "source": [
    "STATION_NAME_BOROUGH['STATION'] = STATION_NAME_BOROUGH['STATION']\\\n",
    ".apply(lambda x:x.replace('75 ST','75 ST-ELDERTS'))"
   ]
  },
  {
   "cell_type": "code",
   "execution_count": 577,
   "metadata": {},
   "outputs": [],
   "source": [
    "STATION_NAME_BOROUGH['STATION'] = STATION_NAME_BOROUGH['STATION']\\\n",
    ".apply(lambda x:x.replace('GRAND ARMY PLAZA','GRAND ARMY PLAZ'))"
   ]
  },
  {
   "cell_type": "code",
   "execution_count": 574,
   "metadata": {},
   "outputs": [],
   "source": [
    "STATION_NAME_BOROUGH['STATION'] = STATION_NAME_BOROUGH['STATION']\\\n",
    ".apply(lambda x:x.replace('FLUSHING-MAIN ST','FLUSHING-MAIN'))"
   ]
  },
  {
   "cell_type": "code",
   "execution_count": 571,
   "metadata": {},
   "outputs": [],
   "source": [
    "STATION_NAME_BOROUGH['STATION'] = STATION_NAME_BOROUGH['STATION']\\\n",
    ".apply(lambda x:x.replace('CANARSIE-ROCKAWAY PKWY','CANARSIE-ROCKAW'))"
   ]
  },
  {
   "cell_type": "code",
   "execution_count": 566,
   "metadata": {},
   "outputs": [],
   "source": [
    "STATION_NAME_BOROUGH['STATION'] = STATION_NAME_BOROUGH['STATION']\\\n",
    ".apply(lambda x:x.replace('NEW LOTS AV','NEW LOTS'))"
   ]
  },
  {
   "cell_type": "code",
   "execution_count": 561,
   "metadata": {},
   "outputs": [],
   "source": [
    "STATION_NAME_BOROUGH['STATION'] = STATION_NAME_BOROUGH['STATION']\\\n",
    ".apply(lambda x:x.replace('BUSHWICK AV-ABERDEEN ST','BUSHWICK AV'))"
   ]
  },
  {
   "cell_type": "code",
   "execution_count": 551,
   "metadata": {},
   "outputs": [],
   "source": [
    "STATION_NAME_BOROUGH['STATION'] = STATION_NAME_BOROUGH['STATION']\\\n",
    ".apply(lambda x:x.replace('SUTTER AV-RUTLAND RD','SUTTER AV-RUTLD'))"
   ]
  },
  {
   "cell_type": "code",
   "execution_count": 548,
   "metadata": {},
   "outputs": [],
   "source": [
    "STATION_NAME_BOROUGH['STATION'] = STATION_NAME_BOROUGH['STATION']\\\n",
    ".apply(lambda x:x.replace('CROWN HTS-UTICA AV','CROWN HTS-UTICA'))"
   ]
  },
  {
   "cell_type": "code",
   "execution_count": 545,
   "metadata": {},
   "outputs": [],
   "source": [
    "STATION_NAME_BOROUGH['STATION'] = STATION_NAME_BOROUGH['STATION']\\\n",
    ".apply(lambda x:x.replace('EASTERN PKWY-BROOKLYN MUSEUM','EASTN PKWY-MUSM'))"
   ]
  },
  {
   "cell_type": "code",
   "execution_count": 539,
   "metadata": {},
   "outputs": [],
   "source": [
    "STATION_NAME_BOROUGH['STATION'] = STATION_NAME_BOROUGH['STATION']\\\n",
    ".apply(lambda x:x.replace('MYRTLE-WYCKOFF AVS','MYRTLE-WYCKOFF'))"
   ]
  },
  {
   "cell_type": "code",
   "execution_count": 536,
   "metadata": {},
   "outputs": [],
   "source": [
    "STATION_NAME_BOROUGH['STATION'] = STATION_NAME_BOROUGH['STATION']\\\n",
    ".apply(lambda x:x.replace('W 8 ST-NY AQUARIUM','W 8 ST-AQUARIUM'))"
   ]
  },
  {
   "cell_type": "code",
   "execution_count": 533,
   "metadata": {},
   "outputs": [],
   "source": [
    "STATION_NAME_BOROUGH['STATION'] = STATION_NAME_BOROUGH['STATION']\\\n",
    ".apply(lambda x:x.replace('CONEY ISLAND-STILLWELL AV','CONEY IS-STILLW'))"
   ]
  },
  {
   "cell_type": "code",
   "execution_count": 529,
   "metadata": {},
   "outputs": [],
   "source": [
    "STATION_NAME_BOROUGH['STATION'] = STATION_NAME_BOROUGH['STATION']\\\n",
    ".apply(lambda x:x.replace('FORT HAMILTON PKWY','FT HAMILTON PKY'))"
   ]
  },
  {
   "cell_type": "code",
   "execution_count": 514,
   "metadata": {},
   "outputs": [],
   "source": [
    "STATION_NAME_BOROUGH['STATION'] = STATION_NAME_BOROUGH['STATION']\\\n",
    ".apply(lambda x:x.replace('ST GEORGE','ST. GEORGE'))"
   ]
  },
  {
   "cell_type": "code",
   "execution_count": 506,
   "metadata": {},
   "outputs": [],
   "source": [
    "STATION_NAME_BOROUGH['STATION'] = STATION_NAME_BOROUGH['STATION']\\\n",
    ".apply(lambda x:x.replace('FLATBUSH AV-BROOKLYN COLLEGE','FLATBUSH AV-B.C'))"
   ]
  },
  {
   "cell_type": "code",
   "execution_count": 511,
   "metadata": {},
   "outputs": [],
   "source": [
    "STATION_NAME_BOROUGH['STATION'] = STATION_NAME_BOROUGH['STATION']\\\n",
    ".apply(lambda x:x.replace('EASTCHESTER-DYRE AV','EASTCHSTER/DYRE'))"
   ]
  },
  {
   "cell_type": "code",
   "execution_count": 503,
   "metadata": {},
   "outputs": [],
   "source": [
    "STATION_NAME_BOROUGH['STATION'] = STATION_NAME_BOROUGH['STATION']\\\n",
    ".apply(lambda x:x.replace('ATLANTIC AV-BARCLAYS CTR','ATL AV-BARCLAY'))"
   ]
  },
  {
   "cell_type": "code",
   "execution_count": 500,
   "metadata": {},
   "outputs": [],
   "source": [
    "STATION_NAME_BOROUGH['STATION'] = STATION_NAME_BOROUGH['STATION']\\\n",
    ".apply(lambda x:x.replace('BEVERLEY RD','BEVERLEY ROAD'))"
   ]
  },
  {
   "cell_type": "code",
   "execution_count": 494,
   "metadata": {},
   "outputs": [],
   "source": [
    "STATION_NAME_BOROUGH['STATION'] = STATION_NAME_BOROUGH['STATION']\\\n",
    ".apply(lambda x:x.replace('DELANCEY ST','DELANCEY/ESSEX'))"
   ]
  },
  {
   "cell_type": "code",
   "execution_count": 497,
   "metadata": {},
   "outputs": [],
   "source": [
    "STATION_NAME_BOROUGH['STATION'] = STATION_NAME_BOROUGH['STATION']\\\n",
    ".apply(lambda x:x.replace('PARK PL','PARK PLACE'))"
   ]
  },
  {
   "cell_type": "code",
   "execution_count": 491,
   "metadata": {},
   "outputs": [],
   "source": [
    "STATION_NAME_BOROUGH['STATION'] = STATION_NAME_BOROUGH['STATION']\\\n",
    ".apply(lambda x:x.replace('WHITEHALL ST','WHITEHALL S-FRY'))"
   ]
  },
  {
   "cell_type": "code",
   "execution_count": 464,
   "metadata": {},
   "outputs": [],
   "source": [
    "STATION_NAME_BOROUGH['STATION'] = STATION_NAME_BOROUGH['STATION']\\\n",
    ".apply(lambda x:x.replace('103 ST-CORONA PLAZA','103 ST-CORONA'))"
   ]
  },
  {
   "cell_type": "code",
   "execution_count": 477,
   "metadata": {},
   "outputs": [],
   "source": [
    "STATION_NAME_BOROUGH['STATION'] = STATION_NAME_BOROUGH['STATION']\\\n",
    ".apply(lambda x:x.replace('JAY ST-METROTECH','JAY ST-METROTEC'))"
   ]
  },
  {
   "cell_type": "code",
   "execution_count": 380,
   "metadata": {},
   "outputs": [
    {
     "data": {
      "text/plain": [
       "0      ASTORIA-DITMARS BLVD\n",
       "1              ASTORIA BLVD\n",
       "2                     30 AV\n",
       "3                  BROADWAY\n",
       "4                     36 AV\n",
       "               ...         \n",
       "491            PRINCE'S BAY\n",
       "492         PLEASANT PLAINS\n",
       "493         RICHMOND VALLEY\n",
       "494             TOTTENVILLE\n",
       "495             ARTHUR KILL\n",
       "Name: STATION, Length: 496, dtype: object"
      ]
     },
     "execution_count": 380,
     "metadata": {},
     "output_type": "execute_result"
    }
   ],
   "source": [
    "STATION_NAME_BOROUGH['STATION']"
   ]
  },
  {
   "cell_type": "code",
   "execution_count": 1114,
   "metadata": {},
   "outputs": [
    {
     "data": {
      "text/plain": [
       "358"
      ]
     },
     "execution_count": 1114,
     "metadata": {},
     "output_type": "execute_result"
    }
   ],
   "source": [
    "#to see the different station and compare them with population density\n",
    "len(turnstiles_df.STATION.unique())"
   ]
  },
  {
   "cell_type": "code",
   "execution_count": 1115,
   "metadata": {},
   "outputs": [
    {
     "data": {
      "text/html": [
       "<div>\n",
       "<style scoped>\n",
       "    .dataframe tbody tr th:only-of-type {\n",
       "        vertical-align: middle;\n",
       "    }\n",
       "\n",
       "    .dataframe tbody tr th {\n",
       "        vertical-align: top;\n",
       "    }\n",
       "\n",
       "    .dataframe thead th {\n",
       "        text-align: right;\n",
       "    }\n",
       "</style>\n",
       "<table border=\"1\" class=\"dataframe\">\n",
       "  <thead>\n",
       "    <tr style=\"text-align: right;\">\n",
       "      <th></th>\n",
       "      <th>0</th>\n",
       "    </tr>\n",
       "  </thead>\n",
       "  <tbody>\n",
       "    <tr>\n",
       "      <th>0</th>\n",
       "      <td>ASTORIA DITMARS</td>\n",
       "    </tr>\n",
       "    <tr>\n",
       "      <th>1</th>\n",
       "      <td>ASTORIA BLVD</td>\n",
       "    </tr>\n",
       "    <tr>\n",
       "      <th>2</th>\n",
       "      <td>30 AV</td>\n",
       "    </tr>\n",
       "    <tr>\n",
       "      <th>3</th>\n",
       "      <td>BROADWAY</td>\n",
       "    </tr>\n",
       "    <tr>\n",
       "      <th>4</th>\n",
       "      <td>36 AV</td>\n",
       "    </tr>\n",
       "    <tr>\n",
       "      <th>...</th>\n",
       "      <td>...</td>\n",
       "    </tr>\n",
       "    <tr>\n",
       "      <th>369</th>\n",
       "      <td>PRINCE'S BAY</td>\n",
       "    </tr>\n",
       "    <tr>\n",
       "      <th>370</th>\n",
       "      <td>PLEASANT PLAINS</td>\n",
       "    </tr>\n",
       "    <tr>\n",
       "      <th>371</th>\n",
       "      <td>RICHMOND VALLEY</td>\n",
       "    </tr>\n",
       "    <tr>\n",
       "      <th>372</th>\n",
       "      <td>TOTTENVILLE</td>\n",
       "    </tr>\n",
       "    <tr>\n",
       "      <th>373</th>\n",
       "      <td>ARTHUR KILL</td>\n",
       "    </tr>\n",
       "  </tbody>\n",
       "</table>\n",
       "<p>374 rows × 1 columns</p>\n",
       "</div>"
      ],
      "text/plain": [
       "                   0\n",
       "0    ASTORIA DITMARS\n",
       "1       ASTORIA BLVD\n",
       "2              30 AV\n",
       "3           BROADWAY\n",
       "4              36 AV\n",
       "..               ...\n",
       "369     PRINCE'S BAY\n",
       "370  PLEASANT PLAINS\n",
       "371  RICHMOND VALLEY\n",
       "372      TOTTENVILLE\n",
       "373      ARTHUR KILL\n",
       "\n",
       "[374 rows x 1 columns]"
      ]
     },
     "execution_count": 1115,
     "metadata": {},
     "output_type": "execute_result"
    }
   ],
   "source": [
    "pd.DataFrame(STATION_NAME_BOROUGH.STATION.unique())"
   ]
  },
  {
   "cell_type": "markdown",
   "metadata": {},
   "source": [
    "In this section, see the matching station that already exist (`STATION_NAME_BOROUGH` & `turnstiles_df`)"
   ]
  },
  {
   "cell_type": "code",
   "execution_count": 1116,
   "metadata": {},
   "outputs": [],
   "source": [
    "station_in_mta = turnstiles_df.STATION.unique()\n",
    "station_in_st = STATION_NAME_BOROUGH.STATION.unique()\n",
    "#c == True_False_df\n",
    "True_False_df = np.in1d(station_in_mta,station_in_st)"
   ]
  },
  {
   "cell_type": "code",
   "execution_count": 314,
   "metadata": {},
   "outputs": [
    {
     "data": {
      "text/plain": [
       "2585366"
      ]
     },
     "execution_count": 314,
     "metadata": {},
     "output_type": "execute_result"
    }
   ],
   "source": [
    "len(True_False_df)"
   ]
  },
  {
   "cell_type": "code",
   "execution_count": 1117,
   "metadata": {},
   "outputs": [],
   "source": [
    "True_False_df= pd.DataFrame(True_False_df)"
   ]
  },
  {
   "cell_type": "code",
   "execution_count": 1118,
   "metadata": {},
   "outputs": [
    {
     "data": {
      "text/html": [
       "<div>\n",
       "<style scoped>\n",
       "    .dataframe tbody tr th:only-of-type {\n",
       "        vertical-align: middle;\n",
       "    }\n",
       "\n",
       "    .dataframe tbody tr th {\n",
       "        vertical-align: top;\n",
       "    }\n",
       "\n",
       "    .dataframe thead th {\n",
       "        text-align: right;\n",
       "    }\n",
       "</style>\n",
       "<table border=\"1\" class=\"dataframe\">\n",
       "  <thead>\n",
       "    <tr style=\"text-align: right;\">\n",
       "      <th></th>\n",
       "      <th>STATION</th>\n",
       "    </tr>\n",
       "  </thead>\n",
       "  <tbody>\n",
       "    <tr>\n",
       "      <th>0</th>\n",
       "      <td>True</td>\n",
       "    </tr>\n",
       "    <tr>\n",
       "      <th>1</th>\n",
       "      <td>True</td>\n",
       "    </tr>\n",
       "    <tr>\n",
       "      <th>2</th>\n",
       "      <td>True</td>\n",
       "    </tr>\n",
       "    <tr>\n",
       "      <th>3</th>\n",
       "      <td>True</td>\n",
       "    </tr>\n",
       "    <tr>\n",
       "      <th>4</th>\n",
       "      <td>True</td>\n",
       "    </tr>\n",
       "  </tbody>\n",
       "</table>\n",
       "</div>"
      ],
      "text/plain": [
       "   STATION\n",
       "0     True\n",
       "1     True\n",
       "2     True\n",
       "3     True\n",
       "4     True"
      ]
     },
     "execution_count": 1118,
     "metadata": {},
     "output_type": "execute_result"
    }
   ],
   "source": [
    "True_False_df.rename(columns={0: 'STATION'}, inplace=True)\n",
    "True_False_df.head()         "
   ]
  },
  {
   "cell_type": "code",
   "execution_count": 1138,
   "metadata": {
    "collapsed": true
   },
   "outputs": [
    {
     "data": {
      "text/html": [
       "<div>\n",
       "<style scoped>\n",
       "    .dataframe tbody tr th:only-of-type {\n",
       "        vertical-align: middle;\n",
       "    }\n",
       "\n",
       "    .dataframe tbody tr th {\n",
       "        vertical-align: top;\n",
       "    }\n",
       "\n",
       "    .dataframe thead th {\n",
       "        text-align: right;\n",
       "    }\n",
       "</style>\n",
       "<table border=\"1\" class=\"dataframe\">\n",
       "  <thead>\n",
       "    <tr style=\"text-align: right;\">\n",
       "      <th></th>\n",
       "      <th>DATE_TIME</th>\n",
       "      <th>C/A</th>\n",
       "      <th>UNIT</th>\n",
       "      <th>SCP</th>\n",
       "      <th>STATION</th>\n",
       "      <th>LINENAME</th>\n",
       "      <th>DIVISION</th>\n",
       "      <th>DATE</th>\n",
       "      <th>TIME</th>\n",
       "      <th>DESC</th>\n",
       "      <th>ENTRIES</th>\n",
       "      <th>EXITS</th>\n",
       "      <th>TURNSTILE</th>\n",
       "      <th>Match_STATION</th>\n",
       "    </tr>\n",
       "  </thead>\n",
       "  <tbody>\n",
       "    <tr>\n",
       "      <th>14062</th>\n",
       "      <td>2018-09-25 09:00:00</td>\n",
       "      <td>B010</td>\n",
       "      <td>R412</td>\n",
       "      <td>00-03-02</td>\n",
       "      <td>BOTANIC GARDEN</td>\n",
       "      <td>S2345</td>\n",
       "      <td>BMT</td>\n",
       "      <td>09/25/2018</td>\n",
       "      <td>09:00:00</td>\n",
       "      <td>REGULAR</td>\n",
       "      <td>93201</td>\n",
       "      <td>558945</td>\n",
       "      <td>B010 R412 00-03-02</td>\n",
       "      <td>False</td>\n",
       "    </tr>\n",
       "    <tr>\n",
       "      <th>14063</th>\n",
       "      <td>2018-09-25 13:00:00</td>\n",
       "      <td>B010</td>\n",
       "      <td>R412</td>\n",
       "      <td>00-03-02</td>\n",
       "      <td>BOTANIC GARDEN</td>\n",
       "      <td>S2345</td>\n",
       "      <td>BMT</td>\n",
       "      <td>09/25/2018</td>\n",
       "      <td>13:00:00</td>\n",
       "      <td>REGULAR</td>\n",
       "      <td>93208</td>\n",
       "      <td>559070</td>\n",
       "      <td>B010 R412 00-03-02</td>\n",
       "      <td>False</td>\n",
       "    </tr>\n",
       "    <tr>\n",
       "      <th>14064</th>\n",
       "      <td>2018-09-25 17:00:00</td>\n",
       "      <td>B010</td>\n",
       "      <td>R412</td>\n",
       "      <td>00-03-02</td>\n",
       "      <td>BOTANIC GARDEN</td>\n",
       "      <td>S2345</td>\n",
       "      <td>BMT</td>\n",
       "      <td>09/25/2018</td>\n",
       "      <td>17:00:00</td>\n",
       "      <td>REGULAR</td>\n",
       "      <td>93232</td>\n",
       "      <td>559156</td>\n",
       "      <td>B010 R412 00-03-02</td>\n",
       "      <td>False</td>\n",
       "    </tr>\n",
       "    <tr>\n",
       "      <th>14065</th>\n",
       "      <td>2018-09-25 21:00:00</td>\n",
       "      <td>B010</td>\n",
       "      <td>R412</td>\n",
       "      <td>00-03-02</td>\n",
       "      <td>BOTANIC GARDEN</td>\n",
       "      <td>S2345</td>\n",
       "      <td>BMT</td>\n",
       "      <td>09/25/2018</td>\n",
       "      <td>21:00:00</td>\n",
       "      <td>REGULAR</td>\n",
       "      <td>93240</td>\n",
       "      <td>559244</td>\n",
       "      <td>B010 R412 00-03-02</td>\n",
       "      <td>False</td>\n",
       "    </tr>\n",
       "    <tr>\n",
       "      <th>14066</th>\n",
       "      <td>2018-09-26 01:00:00</td>\n",
       "      <td>B010</td>\n",
       "      <td>R412</td>\n",
       "      <td>00-03-02</td>\n",
       "      <td>BOTANIC GARDEN</td>\n",
       "      <td>S2345</td>\n",
       "      <td>BMT</td>\n",
       "      <td>09/26/2018</td>\n",
       "      <td>01:00:00</td>\n",
       "      <td>REGULAR</td>\n",
       "      <td>93240</td>\n",
       "      <td>559270</td>\n",
       "      <td>B010 R412 00-03-02</td>\n",
       "      <td>False</td>\n",
       "    </tr>\n",
       "  </tbody>\n",
       "</table>\n",
       "</div>"
      ],
      "text/plain": [
       "                DATE_TIME   C/A  UNIT       SCP         STATION LINENAME  \\\n",
       "14062 2018-09-25 09:00:00  B010  R412  00-03-02  BOTANIC GARDEN    S2345   \n",
       "14063 2018-09-25 13:00:00  B010  R412  00-03-02  BOTANIC GARDEN    S2345   \n",
       "14064 2018-09-25 17:00:00  B010  R412  00-03-02  BOTANIC GARDEN    S2345   \n",
       "14065 2018-09-25 21:00:00  B010  R412  00-03-02  BOTANIC GARDEN    S2345   \n",
       "14066 2018-09-26 01:00:00  B010  R412  00-03-02  BOTANIC GARDEN    S2345   \n",
       "\n",
       "      DIVISION        DATE      TIME     DESC  ENTRIES   EXITS  \\\n",
       "14062      BMT  09/25/2018  09:00:00  REGULAR    93201  558945   \n",
       "14063      BMT  09/25/2018  13:00:00  REGULAR    93208  559070   \n",
       "14064      BMT  09/25/2018  17:00:00  REGULAR    93232  559156   \n",
       "14065      BMT  09/25/2018  21:00:00  REGULAR    93240  559244   \n",
       "14066      BMT  09/26/2018  01:00:00  REGULAR    93240  559270   \n",
       "\n",
       "                TURNSTILE  Match_STATION  \n",
       "14062  B010 R412 00-03-02          False  \n",
       "14063  B010 R412 00-03-02          False  \n",
       "14064  B010 R412 00-03-02          False  \n",
       "14065  B010 R412 00-03-02          False  \n",
       "14066  B010 R412 00-03-02          False  "
      ]
     },
     "execution_count": 1138,
     "metadata": {},
     "output_type": "execute_result"
    }
   ],
   "source": [
    "turnstiles_df[turnstiles_df['Match_STATION'] == False].head(5)\n"
   ]
  },
  {
   "cell_type": "markdown",
   "metadata": {},
   "source": [
    "The below table was originally have around `200` stations (rows), but after applying the modification above it reach .."
   ]
  },
  {
   "cell_type": "code",
   "execution_count": 1139,
   "metadata": {},
   "outputs": [
    {
     "data": {
      "text/plain": [
       "12"
      ]
     },
     "execution_count": 1139,
     "metadata": {},
     "output_type": "execute_result"
    }
   ],
   "source": [
    "#Station that are not in MTA datase\n",
    "#w == STATION_NOT_in_turnstiles_df\n",
    "\n",
    "STATION_NOT_in_turnstiles_df=pd.DataFrame(turnstiles_df['STATION'].unique())\n",
    "STATION_NOT_in_turnstiles_df.rename(columns={0: 'STATION'}, inplace=True)\n",
    "STATION_NOT_in_turnstiles_df['BOOL']= True_False_df\n",
    "STATION_NOT_in_turnstiles_df[STATION_NOT_in_turnstiles_df.BOOL == False]\n",
    "len(STATION_NOT_in_turnstiles_df[STATION_NOT_in_turnstiles_df.BOOL == False])"
   ]
  },
  {
   "cell_type": "code",
   "execution_count": 1120,
   "metadata": {},
   "outputs": [
    {
     "data": {
      "text/html": [
       "<div>\n",
       "<style scoped>\n",
       "    .dataframe tbody tr th:only-of-type {\n",
       "        vertical-align: middle;\n",
       "    }\n",
       "\n",
       "    .dataframe tbody tr th {\n",
       "        vertical-align: top;\n",
       "    }\n",
       "\n",
       "    .dataframe thead th {\n",
       "        text-align: right;\n",
       "    }\n",
       "</style>\n",
       "<table border=\"1\" class=\"dataframe\">\n",
       "  <thead>\n",
       "    <tr style=\"text-align: right;\">\n",
       "      <th></th>\n",
       "      <th>0</th>\n",
       "    </tr>\n",
       "  </thead>\n",
       "  <tbody>\n",
       "    <tr>\n",
       "      <th>0</th>\n",
       "      <td>EXCHANGE PLACE</td>\n",
       "    </tr>\n",
       "    <tr>\n",
       "      <th>1</th>\n",
       "      <td>GROVE STREET</td>\n",
       "    </tr>\n",
       "    <tr>\n",
       "      <th>2</th>\n",
       "      <td>HARRISON</td>\n",
       "    </tr>\n",
       "    <tr>\n",
       "      <th>3</th>\n",
       "      <td>JOURNAL SQUARE</td>\n",
       "    </tr>\n",
       "    <tr>\n",
       "      <th>4</th>\n",
       "      <td>MORISN AV/SNDVW</td>\n",
       "    </tr>\n",
       "  </tbody>\n",
       "</table>\n",
       "</div>"
      ],
      "text/plain": [
       "                 0\n",
       "0   EXCHANGE PLACE\n",
       "1     GROVE STREET\n",
       "2         HARRISON\n",
       "3   JOURNAL SQUARE\n",
       "4  MORISN AV/SNDVW"
      ]
     },
     "execution_count": 1120,
     "metadata": {},
     "output_type": "execute_result"
    }
   ],
   "source": [
    "#Q = Temp_to_Compare\n",
    "Temp_to_Compare = STATION_NOT_in_turnstiles_df[STATION_NOT_in_turnstiles_df.BOOL == False]\n",
    "pd.DataFrame(Temp_to_Compare.STATION.sort_values().unique()).head(5)"
   ]
  },
  {
   "cell_type": "code",
   "execution_count": 1121,
   "metadata": {},
   "outputs": [
    {
     "data": {
      "text/html": [
       "<div>\n",
       "<style scoped>\n",
       "    .dataframe tbody tr th:only-of-type {\n",
       "        vertical-align: middle;\n",
       "    }\n",
       "\n",
       "    .dataframe tbody tr th {\n",
       "        vertical-align: top;\n",
       "    }\n",
       "\n",
       "    .dataframe thead th {\n",
       "        text-align: right;\n",
       "    }\n",
       "</style>\n",
       "<table border=\"1\" class=\"dataframe\">\n",
       "  <thead>\n",
       "    <tr style=\"text-align: right;\">\n",
       "      <th></th>\n",
       "      <th>0</th>\n",
       "    </tr>\n",
       "  </thead>\n",
       "  <tbody>\n",
       "    <tr>\n",
       "      <th>0</th>\n",
       "      <td>1 AV</td>\n",
       "    </tr>\n",
       "    <tr>\n",
       "      <th>1</th>\n",
       "      <td>103 ST</td>\n",
       "    </tr>\n",
       "    <tr>\n",
       "      <th>2</th>\n",
       "      <td>103 ST-CORONA</td>\n",
       "    </tr>\n",
       "    <tr>\n",
       "      <th>3</th>\n",
       "      <td>104 ST</td>\n",
       "    </tr>\n",
       "    <tr>\n",
       "      <th>4</th>\n",
       "      <td>110 ST</td>\n",
       "    </tr>\n",
       "  </tbody>\n",
       "</table>\n",
       "</div>"
      ],
      "text/plain": [
       "               0\n",
       "0           1 AV\n",
       "1         103 ST\n",
       "2  103 ST-CORONA\n",
       "3         104 ST\n",
       "4         110 ST"
      ]
     },
     "execution_count": 1121,
     "metadata": {},
     "output_type": "execute_result"
    }
   ],
   "source": [
    "pd.DataFrame(STATION_NAME_BOROUGH.STATION.sort_values().unique()).head(5)\n",
    "\n",
    "#57 ST-7 AV, 8 ST-NYU, RIT-ROOSEVELT\n",
    "#We need to modify the STATION_NAME_BOROUGH.STATION"
   ]
  },
  {
   "cell_type": "code",
   "execution_count": 474,
   "metadata": {
    "collapsed": true
   },
   "outputs": [
    {
     "data": {
      "text/plain": [
       "array(['116 ST-COLUMBIA', '137 ST CITY COL', '138/GRAND CONC',\n",
       "       '149/GRAND CONC', '14TH STREET', '15 ST-PROSPECT',\n",
       "       '161/YANKEE STAD', '163 ST-AMSTERDM', '21 ST-QNSBRIDGE',\n",
       "       '3 AV 138 ST', '33 ST-RAWSON ST', '34 ST-HUDSON YD',\n",
       "       '34 ST-PENN STA', '4 AV-9 ST', '40 ST LOWERY ST',\n",
       "       '42 ST-PORT AUTH', '46 ST BLISS ST', '47-50 STS ROCK', '4AV-9 ST',\n",
       "       '5 AVE', '59 ST COLUMBUS', '61 ST WOODSIDE', '66 ST-LINCOLN',\n",
       "       '68ST-HUNTER CO', '72 ST-2 AVE', '75 ST-ELDERTS',\n",
       "       '82 ST-JACKSON H', '85 ST-FOREST PK', '86 ST-2 AVE',\n",
       "       '90 ST-ELMHURST', '96 ST-2 AVE', '9TH STREET', 'AQUEDUCT N.COND',\n",
       "       'AQUEDUCT RACETR', 'ASTORIA DITMARS', 'ATL AV-BARCLAY',\n",
       "       \"B'WAY-LAFAYETTE\", 'BEDFORD PK BLVD', 'BEDFORD-NOSTRAN',\n",
       "       'BEVERLEY ROAD', 'BRIARWOOD', 'BROOKLYN BRIDGE', 'BUSHWICK AV',\n",
       "       'CANARSIE-ROCKAW', 'CENTRAL PK N110', 'CHRISTOPHER ST',\n",
       "       'CITY / BUS', 'CLINTON-WASH AV', 'CONEY IS-STILLW',\n",
       "       'COURT SQ-23 ST', 'CROWN HTS-UTICA', 'DELANCEY/ESSEX',\n",
       "       \"E 143/ST MARY'S\", 'EAST 105 ST', 'EASTCHSTER/DYRE',\n",
       "       'EASTN PKWY-MUSM', 'EXCHANGE PLACE', 'FAR ROCKAWAY',\n",
       "       'FLATBUSH AV-B.C', 'FLUSHING-MAIN', 'FOREST AVE',\n",
       "       'FOREST HILLS 71', 'FT HAMILTON PKY', 'GRAND ARMY PLAZ',\n",
       "       'GRAND-NEWTOWN', 'GRD CNTRL-42 ST', 'GROVE STREET',\n",
       "       'HARLEM 148 ST', 'HARRISON', 'HOWARD BCH JFK', 'HOYT-SCHER',\n",
       "       'HUNTERS PT AV', 'JAMAICA 179 ST', 'JAMAICA CENTER',\n",
       "       'JAMAICA VAN WK', 'JAY ST-METROTEC', 'JFK JAMAICA CT1',\n",
       "       'JKSN HT-ROOSVLT', 'JOURNAL SQUARE', 'KEW GARDENS',\n",
       "       'KINGSTON-THROOP', 'KNICKERBOCKER', 'LACKAWANNA',\n",
       "       'LEXINGTON AV/53', 'LEXINGTON AV/63', 'MARBLE HILL-225',\n",
       "       'METS-WILLETS PT', 'MORISN AV/SNDVW', 'MYRTLE-WILLOUGH',\n",
       "       'MYRTLE-WYCKOFF', 'NEW LOTS', 'NEWARK BM BW', 'NEWARK C',\n",
       "       'NEWARK HM HE', 'NEWARK HW BMEBE', 'NORWOOD 205 ST',\n",
       "       'ORCHARD BEACH', 'OZONE PK LEFFRT', 'PARK PLACE', 'PATH NEW WTC',\n",
       "       'PATH WTC 2', 'PAVONIA/NEWPORT', 'QUEENSBORO PLZ', 'RIT-MANHATTAN',\n",
       "       'RIT-ROOSEVELT', 'ROCKAWAY PARK B', 'ROOSEVELT ISLND',\n",
       "       'SENECA AVE', 'SMITH-9 ST', 'ST. GEORGE', 'SUTPHIN-ARCHER',\n",
       "       'SUTTER AV-RUTLD', 'THIRTY ST', 'THIRTY THIRD ST',\n",
       "       'TWENTY THIRD ST', 'V.CORTLANDT PK', 'VAN SICLEN AVE',\n",
       "       'VERNON-JACKSON', 'W 4 ST-WASH SQ', 'W 8 ST-AQUARIUM',\n",
       "       'WAKEFIELD/241', 'WEST FARMS SQ', 'WESTCHESTER SQ',\n",
       "       'WHITEHALL S-FRY', 'WORLD TRADE CTR', 'WTC-CORTLANDT'],\n",
       "      dtype=object)"
      ]
     },
     "execution_count": 474,
     "metadata": {},
     "output_type": "execute_result"
    }
   ],
   "source": [
    "Temp_to_Compare.STATION.sort_values().unique()"
   ]
  },
  {
   "cell_type": "code",
   "execution_count": 318,
   "metadata": {
    "collapsed": true
   },
   "outputs": [
    {
     "data": {
      "text/html": [
       "<div>\n",
       "<style scoped>\n",
       "    .dataframe tbody tr th:only-of-type {\n",
       "        vertical-align: middle;\n",
       "    }\n",
       "\n",
       "    .dataframe tbody tr th {\n",
       "        vertical-align: top;\n",
       "    }\n",
       "\n",
       "    .dataframe thead th {\n",
       "        text-align: right;\n",
       "    }\n",
       "</style>\n",
       "<table border=\"1\" class=\"dataframe\">\n",
       "  <thead>\n",
       "    <tr style=\"text-align: right;\">\n",
       "      <th></th>\n",
       "      <th>DATE_TIME</th>\n",
       "      <th>C/A</th>\n",
       "      <th>UNIT</th>\n",
       "      <th>SCP</th>\n",
       "      <th>STATION</th>\n",
       "      <th>LINENAME</th>\n",
       "      <th>DIVISION</th>\n",
       "      <th>DATE</th>\n",
       "      <th>TIME</th>\n",
       "      <th>DESC</th>\n",
       "      <th>ENTRIES</th>\n",
       "      <th>EXITS</th>\n",
       "      <th>TURNSTILE</th>\n",
       "      <th>Match_STATION</th>\n",
       "    </tr>\n",
       "  </thead>\n",
       "  <tbody>\n",
       "    <tr>\n",
       "      <th>0</th>\n",
       "      <td>2018-08-25 00:00:00</td>\n",
       "      <td>A002</td>\n",
       "      <td>R051</td>\n",
       "      <td>02-00-00</td>\n",
       "      <td>59 ST</td>\n",
       "      <td>NQR456W</td>\n",
       "      <td>BMT</td>\n",
       "      <td>08/25/2018</td>\n",
       "      <td>00:00:00</td>\n",
       "      <td>REGULAR</td>\n",
       "      <td>6736067</td>\n",
       "      <td>2283184</td>\n",
       "      <td>A002 R051 02-00-00</td>\n",
       "      <td>True</td>\n",
       "    </tr>\n",
       "    <tr>\n",
       "      <th>1</th>\n",
       "      <td>2018-08-25 04:00:00</td>\n",
       "      <td>A002</td>\n",
       "      <td>R051</td>\n",
       "      <td>02-00-00</td>\n",
       "      <td>59 ST</td>\n",
       "      <td>NQR456W</td>\n",
       "      <td>BMT</td>\n",
       "      <td>08/25/2018</td>\n",
       "      <td>04:00:00</td>\n",
       "      <td>REGULAR</td>\n",
       "      <td>6736087</td>\n",
       "      <td>2283188</td>\n",
       "      <td>A002 R051 02-00-00</td>\n",
       "      <td>True</td>\n",
       "    </tr>\n",
       "    <tr>\n",
       "      <th>2</th>\n",
       "      <td>2018-08-25 08:00:00</td>\n",
       "      <td>A002</td>\n",
       "      <td>R051</td>\n",
       "      <td>02-00-00</td>\n",
       "      <td>59 ST</td>\n",
       "      <td>NQR456W</td>\n",
       "      <td>BMT</td>\n",
       "      <td>08/25/2018</td>\n",
       "      <td>08:00:00</td>\n",
       "      <td>REGULAR</td>\n",
       "      <td>6736105</td>\n",
       "      <td>2283229</td>\n",
       "      <td>A002 R051 02-00-00</td>\n",
       "      <td>True</td>\n",
       "    </tr>\n",
       "    <tr>\n",
       "      <th>3</th>\n",
       "      <td>2018-08-25 12:00:00</td>\n",
       "      <td>A002</td>\n",
       "      <td>R051</td>\n",
       "      <td>02-00-00</td>\n",
       "      <td>59 ST</td>\n",
       "      <td>NQR456W</td>\n",
       "      <td>BMT</td>\n",
       "      <td>08/25/2018</td>\n",
       "      <td>12:00:00</td>\n",
       "      <td>REGULAR</td>\n",
       "      <td>6736180</td>\n",
       "      <td>2283314</td>\n",
       "      <td>A002 R051 02-00-00</td>\n",
       "      <td>True</td>\n",
       "    </tr>\n",
       "    <tr>\n",
       "      <th>4</th>\n",
       "      <td>2018-08-25 16:00:00</td>\n",
       "      <td>A002</td>\n",
       "      <td>R051</td>\n",
       "      <td>02-00-00</td>\n",
       "      <td>59 ST</td>\n",
       "      <td>NQR456W</td>\n",
       "      <td>BMT</td>\n",
       "      <td>08/25/2018</td>\n",
       "      <td>16:00:00</td>\n",
       "      <td>REGULAR</td>\n",
       "      <td>6736349</td>\n",
       "      <td>2283384</td>\n",
       "      <td>A002 R051 02-00-00</td>\n",
       "      <td>True</td>\n",
       "    </tr>\n",
       "  </tbody>\n",
       "</table>\n",
       "</div>"
      ],
      "text/plain": [
       "            DATE_TIME   C/A  UNIT       SCP STATION LINENAME DIVISION  \\\n",
       "0 2018-08-25 00:00:00  A002  R051  02-00-00   59 ST  NQR456W      BMT   \n",
       "1 2018-08-25 04:00:00  A002  R051  02-00-00   59 ST  NQR456W      BMT   \n",
       "2 2018-08-25 08:00:00  A002  R051  02-00-00   59 ST  NQR456W      BMT   \n",
       "3 2018-08-25 12:00:00  A002  R051  02-00-00   59 ST  NQR456W      BMT   \n",
       "4 2018-08-25 16:00:00  A002  R051  02-00-00   59 ST  NQR456W      BMT   \n",
       "\n",
       "         DATE      TIME     DESC  ENTRIES    EXITS           TURNSTILE  \\\n",
       "0  08/25/2018  00:00:00  REGULAR  6736067  2283184  A002 R051 02-00-00   \n",
       "1  08/25/2018  04:00:00  REGULAR  6736087  2283188  A002 R051 02-00-00   \n",
       "2  08/25/2018  08:00:00  REGULAR  6736105  2283229  A002 R051 02-00-00   \n",
       "3  08/25/2018  12:00:00  REGULAR  6736180  2283314  A002 R051 02-00-00   \n",
       "4  08/25/2018  16:00:00  REGULAR  6736349  2283384  A002 R051 02-00-00   \n",
       "\n",
       "   Match_STATION  \n",
       "0           True  \n",
       "1           True  \n",
       "2           True  \n",
       "3           True  \n",
       "4           True  "
      ]
     },
     "execution_count": 318,
     "metadata": {},
     "output_type": "execute_result"
    }
   ],
   "source": [
    "turnstiles_df.head()"
   ]
  },
  {
   "cell_type": "code",
   "execution_count": 978,
   "metadata": {
    "collapsed": true
   },
   "outputs": [
    {
     "data": {
      "text/plain": [
       "array(['1 AV', '103 ST', '103 ST-CORONA', '104 ST', '110 ST', '111 ST',\n",
       "       '116 ST', '116 ST-COLUMBIA', '121 ST', '125 ST', '135 ST',\n",
       "       '137 ST CITY COL', '138/GRAND CONC', '14 ST', '14 ST-UNION SQ',\n",
       "       '145 ST', '149/GRAND CONC', '15 ST-PROSPECT PARK', '155 ST',\n",
       "       '157 ST', '161 ST-YANKEE STADIUM', '163 ST-AMSTERDM', '167 ST',\n",
       "       '168 ST', '168 ST-WASHINGTON HTS', '169 ST', '170 ST', '174 ST',\n",
       "       '174-175 STS', '175 ST', '176 ST', '18 AV', '18 ST', '181 ST',\n",
       "       '182-183 STS', '183 ST', '190 ST', '191 ST', '2 AV', '20 AV',\n",
       "       '207 ST', '21 ST', '21 ST-QUEENSBRIDGE', '215 ST', '219 ST',\n",
       "       '225 ST', '23 ST', '231 ST', '233 ST', '238 ST', '25 AVE', '25 ST',\n",
       "       '28 ST', '3 AV', '3 AV-138 ST', '3 AV-149 ST', '30 AV', '33 ST',\n",
       "       '34 ST-HERALD SQ', '34 ST-HUDSON YD', '34 ST-PENN STA', '36 AV',\n",
       "       '36 ST', '39 AV', '4 AV', '40 ST LOWERY ST', '42 ST-BRYANT PK',\n",
       "       '42 ST-PORT AUTH', '45 ST', '46 ST', '47-50 STS-ROCKEFELLER CTR',\n",
       "       '49 ST', '5 AV/59 ST', '5 AVE', '5 AVE/53 ST', '50 ST', '51 ST',\n",
       "       '52 ST', '53 ST', '55 ST', '57 ST', '57 ST-7 AV', '59 ST',\n",
       "       '59 ST COLUMBUS', '6 AV', '61 ST WOODSIDE', '62 ST',\n",
       "       '63 DR-REGO PARK', '65 ST', '66 ST-LINCOLN', '67 AV',\n",
       "       '68ST-HUNTER COE', '69 ST', '7 AV', '71 ST', '72 ST',\n",
       "       '74 ST-BROADWAY', '75 AV', '75 ST-ELDERTS', '77 ST', '79 ST',\n",
       "       '8 AV', '8 ST-NYU', '80 ST', '81 ST-MUSEUM', '82 ST-JACKSON H',\n",
       "       '85 ST-FOREST PK', '86 ST', '88 ST', '9 AV', '9 ST',\n",
       "       '90 ST-ELMHURST', '96 ST', 'ALABAMA AV', 'ALLERTON AV', 'ANNADALE',\n",
       "       'AQUEDUCT N.COND', 'AQUEDUCT RACETR', 'ARTHUR KILL', 'ASTOR PL',\n",
       "       'ASTORIA BLVD', 'ASTORIA DITMARS', 'ATL AV-BARCLAY', 'ATLANTIC AV',\n",
       "       'AVENUE H', 'AVENUE I', 'AVENUE J', 'AVENUE M', 'AVENUE N',\n",
       "       'AVENUE P', 'AVENUE U', 'AVENUE X', \"B'WAY-LAFAYETTE\", 'BAY 50 ST',\n",
       "       'BAY PKWY', 'BAY RIDGE AV', 'BAY RIDGE-95 ST', 'BAY TERRACE',\n",
       "       'BAYCHESTER AV', 'BEACH 105 ST', 'BEACH 25 ST', 'BEACH 36 ST',\n",
       "       'BEACH 44 ST', 'BEACH 60 ST', 'BEACH 67 ST', 'BEACH 90 ST',\n",
       "       'BEACH 98 ST', 'BEDFORD AV', 'BEDFORD PK BLVD', 'BEDFORD-NOSTRAN',\n",
       "       'BERGEN ST', 'BEVERLEY ROAD', 'BEVERLY RD', 'BLEECKER ST',\n",
       "       'BOROUGH HALL', 'BOTANIC GARDEN', 'BOWERY', 'BOWLING GREEN',\n",
       "       'BRIARWOOD', 'BRIGHTON BEACH', 'BROAD CHANNEL', 'BROAD ST',\n",
       "       'BROADWAY', 'BROADWAY JCT', 'BRONX PARK EAST', 'BROOK AV',\n",
       "       'BROOKLYN BRIDGE', 'BUHRE AV', 'BURKE AV', 'BURNSIDE AV',\n",
       "       'BUSHWICK AV', 'CANAL ST', 'CANARSIE-ROCKAW', 'CARROLL ST',\n",
       "       'CASTLE HILL AV', 'CATHEDRAL PKWY', 'CATHEDRAL PKWY (110 ST)',\n",
       "       'CENTRAL AV', 'CENTRAL PK N110', 'CHAMBERS ST', 'CHAUNCEY ST',\n",
       "       'CHRISTOPHER ST', 'CHURCH AV', 'CITY HALL', 'CLARK ST',\n",
       "       'CLASSON AV', 'CLEVELAND ST', 'CLIFTON', 'CLINTON-WASHINGTON AVS',\n",
       "       'CONEY IS-STILLW', 'CORTELYOU RD', 'CORTLANDT ST', 'COURT SQ',\n",
       "       'COURT SQ-23 ST', 'CRESCENT ST', 'CROWN HTS-UTICA', 'CYPRESS AV',\n",
       "       'CYPRESS HILLS', 'DEKALB AV', 'DELANCEY/ESSEX', 'DITMAS AV',\n",
       "       'DONGAN HILLS', 'DYCKMAN ST', 'E 105 ST', \"E 143/ST MARY'S\",\n",
       "       'E 149 ST', 'E 180 ST', 'EAST BROADWAY', 'EASTCHSTER/DYRE',\n",
       "       'EASTN PKWY-MUSM', 'ELDER AV', 'ELMHURST AV', 'ELTINGVILLE',\n",
       "       'ESSEX ST', 'EUCLID AV', 'FAR ROCKAWAY', 'FLATBUSH AV-B.C',\n",
       "       'FLUSHING AV', 'FLUSHING-MAIN', 'FORDHAM RD', 'FOREST AVE',\n",
       "       'FOREST HILLS 71', 'FRANKLIN AV', 'FRANKLIN ST', 'FREEMAN ST',\n",
       "       'FRESH POND RD', 'FT HAMILTON PKY', 'FULTON ST', 'GATES AV',\n",
       "       'GRAHAM AV', 'GRAND ARMY PLAZ', 'GRAND ST', 'GRAND-NEWTOWN',\n",
       "       'GRANT AV', 'GRANT CITY', 'GRASMERE', 'GRD CNTRL-42 ST',\n",
       "       'GREAT KILLS', 'GREENPOINT AV', 'GUN HILL RD', 'HALSEY ST',\n",
       "       'HARLEM 148 ST', 'HEWES ST', 'HIGH ST', 'HOUSTON ST',\n",
       "       'HOWARD BCH JFK', 'HOYT ST', 'HOYT-SCHER', 'HUGUENOT',\n",
       "       'HUNTERS PT AV', 'HUNTS POINT AV', 'INTERVALE AV', 'INWOOD-207 ST',\n",
       "       'JACKSON AV', 'JAMAICA 179 ST', 'JAMAICA VAN WK',\n",
       "       'JAY ST-METROTEC', 'JEFFERSON AV', 'JEFFERSON ST',\n",
       "       'JFK JAMAICA CT1', 'JKSN HT-ROOSVLT', 'JUNCTION BLVD', 'JUNIUS ST',\n",
       "       'KEW GARDENS', 'KINGS HWY', 'KINGSBRIDGE RD', 'KINGSTON AV',\n",
       "       'KINGSTON-THROOP AVS', 'KNICKERBOCKER', 'KOSCIUSZKO ST',\n",
       "       'LAFAYETTE AV', 'LEXINGTON AV/53 ST', 'LEXINGTON AV/63 ST',\n",
       "       'LIBERTY AV', 'LIVONIA AV', 'LONGWOOD AV', 'LORIMER ST',\n",
       "       'MARBLE HILL-225', 'MARCY AV', 'METROPOLITAN AV',\n",
       "       'METS-WILLETS PT', 'MIDDLE VILLAGE-METROPOLITAN AV',\n",
       "       'MIDDLETOWN RD', 'MONTROSE AV', 'MORGAN AV', 'MORRIS PARK',\n",
       "       'MORRISON AV- SOUND VIEW', 'MOSHOLU PKWY', 'MT EDEN AV',\n",
       "       'MYRTLE AV', 'MYRTLE-WILLOUGH', 'MYRTLE-WYCKOFF', 'NASSAU AV',\n",
       "       'NECK RD', 'NEPTUNE AV', 'NEREID AV', 'NEVINS ST', 'NEW DORP',\n",
       "       'NEW LOTS AV', 'NEW UTRECHT AV', 'NEWKIRK AV', 'NEWKIRK PLAZA',\n",
       "       'NORTHERN BLVD', 'NORWOOD 205 ST', 'NORWOOD AV', 'NOSTRAND AV',\n",
       "       'OAKWOOD HEIGHTS', 'OCEAN PKWY', 'OLD TOWN', 'ORCHARD BEACH',\n",
       "       'OZONE PK LEFFRT', 'PARK PLACE', 'PARKCHESTER', 'PARKSIDE AV',\n",
       "       'PARSONS BLVD', 'PELHAM BAY PARK', 'PELHAM PKWY',\n",
       "       'PENNSYLVANIA AV', 'PLEASANT PLAINS', 'PRESIDENT ST', 'PRINCE ST',\n",
       "       \"PRINCE'S BAY\", 'PROSPECT AV', 'PROSPECT PARK', 'QUEENS PLAZA',\n",
       "       'QUEENSBORO PLZ', 'RALPH AV', 'RECTOR ST', 'RICHMOND VALLEY',\n",
       "       'ROCKAWAY AV', 'ROCKAWAY BLVD', 'ROOSEVELT ISLND', 'SARATOGA AV',\n",
       "       'SENECA AVE', 'SHEEPSHEAD BAY', 'SHEPHERD AV', 'SIMPSON ST',\n",
       "       'SMITH-9 ST', 'SOUTH FERRY', 'SPRING ST', 'ST LAWRENCE AV',\n",
       "       'ST. GEORGE', 'STAPLETON', 'STEINWAY ST', 'STERLING ST',\n",
       "       'SUTPHIN BLVD', 'SUTPHIN-ARCHER', 'SUTTER AV', 'SUTTER AV-RUTLD',\n",
       "       'TIMES SQ-42 ST', 'TOMPKINSVILLE', 'TOTTENVILLE', 'TREMONT AV',\n",
       "       'UNION SQ-14 ST', 'UNION ST', 'UTICA AV', 'V.CORTLANDT PK',\n",
       "       'VAN SICLEN AV', 'VERNON-JACKSON', 'W 4 ST', 'W 8 ST-AQUARIUM',\n",
       "       'WAKEFIELD/241', 'WALL ST', 'WEST FARMS SQ', 'WESTCHESTER SQ',\n",
       "       'WHITEHALL S-FRY', 'WHITLOCK AV', 'WILSON AV', 'WINTHROP ST',\n",
       "       'WOODHAVEN BLVD', 'WOODLAWN', 'WORLD TRADE CENTER',\n",
       "       'WTC-CORTLANDT', 'YORK ST', 'ZEREGA AV'], dtype=object)"
      ]
     },
     "execution_count": 978,
     "metadata": {},
     "output_type": "execute_result"
    }
   ],
   "source": [
    "STATION_NAME_BOROUGH.STATION.sort_values().unique()"
   ]
  },
  {
   "cell_type": "code",
   "execution_count": 310,
   "metadata": {},
   "outputs": [
    {
     "data": {
      "text/html": [
       "<div>\n",
       "<style scoped>\n",
       "    .dataframe tbody tr th:only-of-type {\n",
       "        vertical-align: middle;\n",
       "    }\n",
       "\n",
       "    .dataframe tbody tr th {\n",
       "        vertical-align: top;\n",
       "    }\n",
       "\n",
       "    .dataframe thead th {\n",
       "        text-align: right;\n",
       "    }\n",
       "</style>\n",
       "<table border=\"1\" class=\"dataframe\">\n",
       "  <thead>\n",
       "    <tr style=\"text-align: right;\">\n",
       "      <th></th>\n",
       "      <th>DATE_TIME</th>\n",
       "      <th>C/A</th>\n",
       "      <th>UNIT</th>\n",
       "      <th>SCP</th>\n",
       "      <th>STATION</th>\n",
       "      <th>LINENAME</th>\n",
       "      <th>DIVISION</th>\n",
       "      <th>DATE</th>\n",
       "      <th>TIME</th>\n",
       "      <th>DESC</th>\n",
       "      <th>ENTRIES</th>\n",
       "      <th>EXITS</th>\n",
       "      <th>TURNSTILE</th>\n",
       "    </tr>\n",
       "  </thead>\n",
       "  <tbody>\n",
       "  </tbody>\n",
       "</table>\n",
       "</div>"
      ],
      "text/plain": [
       "Empty DataFrame\n",
       "Columns: [DATE_TIME, C/A, UNIT, SCP, STATION, LINENAME, DIVISION, DATE, TIME, DESC, ENTRIES, EXITS, TURNSTILE]\n",
       "Index: []"
      ]
     },
     "execution_count": 310,
     "metadata": {},
     "output_type": "execute_result"
    }
   ],
   "source": [
    "pd.merge(turnstiles_df, True_False_df, on = 'STATION')"
   ]
  },
  {
   "cell_type": "code",
   "execution_count": 285,
   "metadata": {},
   "outputs": [
    {
     "name": "stderr",
     "output_type": "stream",
     "text": [
      "<ipython-input-285-cb5575e2b343>:1: DeprecationWarning: elementwise comparison failed; this will raise an error in the future.\n",
      "  np.where(station_in_mta == station_in_st)\n"
     ]
    },
    {
     "data": {
      "text/plain": [
       "(array([], dtype=int64),)"
      ]
     },
     "execution_count": 285,
     "metadata": {},
     "output_type": "execute_result"
    }
   ],
   "source": [
    "np.where(station_in_mta == station_in_st)"
   ]
  },
  {
   "cell_type": "code",
   "execution_count": 295,
   "metadata": {},
   "outputs": [
    {
     "data": {
      "text/plain": [
       "237"
      ]
     },
     "execution_count": 295,
     "metadata": {},
     "output_type": "execute_result"
    }
   ],
   "source": [
    "len(pd.merge(STATION_NAME_BOROUGH,turnstiles_df, on='STATION').STATION.unique())"
   ]
  },
  {
   "cell_type": "code",
   "execution_count": 297,
   "metadata": {},
   "outputs": [],
   "source": [
    "djfkgslkjgs =pd.DataFrame(pd.merge(STATION_NAME_BOROUGH,turnstiles_df, on='STATION').STATION.unique())"
   ]
  },
  {
   "cell_type": "code",
   "execution_count": 299,
   "metadata": {},
   "outputs": [],
   "source": [
    "djfkgslkjgs.rename(columns={0: 'STATION'}, inplace=True)"
   ]
  },
  {
   "cell_type": "code",
   "execution_count": 1125,
   "metadata": {},
   "outputs": [
    {
     "data": {
      "text/html": [
       "<div>\n",
       "<style scoped>\n",
       "    .dataframe tbody tr th:only-of-type {\n",
       "        vertical-align: middle;\n",
       "    }\n",
       "\n",
       "    .dataframe tbody tr th {\n",
       "        vertical-align: top;\n",
       "    }\n",
       "\n",
       "    .dataframe thead th {\n",
       "        text-align: right;\n",
       "    }\n",
       "</style>\n",
       "<table border=\"1\" class=\"dataframe\">\n",
       "  <thead>\n",
       "    <tr style=\"text-align: right;\">\n",
       "      <th></th>\n",
       "      <th>STATION</th>\n",
       "      <th>BOROUGH</th>\n",
       "      <th>BOROUGH_FULL_NAME</th>\n",
       "    </tr>\n",
       "  </thead>\n",
       "  <tbody>\n",
       "    <tr>\n",
       "      <th>0</th>\n",
       "      <td>ASTORIA DITMARS</td>\n",
       "      <td>Q</td>\n",
       "      <td>QUEENS</td>\n",
       "    </tr>\n",
       "    <tr>\n",
       "      <th>1</th>\n",
       "      <td>ASTORIA BLVD</td>\n",
       "      <td>Q</td>\n",
       "      <td>QUEENS</td>\n",
       "    </tr>\n",
       "    <tr>\n",
       "      <th>2</th>\n",
       "      <td>30 AV</td>\n",
       "      <td>Q</td>\n",
       "      <td>QUEENS</td>\n",
       "    </tr>\n",
       "    <tr>\n",
       "      <th>3</th>\n",
       "      <td>BROADWAY</td>\n",
       "      <td>Q</td>\n",
       "      <td>QUEENS</td>\n",
       "    </tr>\n",
       "    <tr>\n",
       "      <th>4</th>\n",
       "      <td>36 AV</td>\n",
       "      <td>Q</td>\n",
       "      <td>QUEENS</td>\n",
       "    </tr>\n",
       "  </tbody>\n",
       "</table>\n",
       "</div>"
      ],
      "text/plain": [
       "           STATION BOROUGH BOROUGH_FULL_NAME\n",
       "0  ASTORIA DITMARS       Q            QUEENS\n",
       "1     ASTORIA BLVD       Q            QUEENS\n",
       "2            30 AV       Q            QUEENS\n",
       "3         BROADWAY       Q            QUEENS\n",
       "4            36 AV       Q            QUEENS"
      ]
     },
     "execution_count": 1125,
     "metadata": {},
     "output_type": "execute_result"
    }
   ],
   "source": [
    "STATION_NAME_BOROUGH.drop('DIVISION', axis = 1, inplace= True)\n",
    "STATION_NAME_BOROUGH.head()"
   ]
  },
  {
   "cell_type": "markdown",
   "metadata": {},
   "source": [
    "At this point we did most of the data cleaning, so here we start to get some useful insights from the data.\n",
    "\n",
    "Starting by crating new colunm called `DAILY_ENTRIES`"
   ]
  },
  {
   "cell_type": "code",
   "execution_count": 1141,
   "metadata": {
    "collapsed": true
   },
   "outputs": [
    {
     "name": "stderr",
     "output_type": "stream",
     "text": [
      "<ipython-input-1141-3a945374269e>:1: FutureWarning: Indexing with multiple keys (implicitly converted to a tuple of keys) will be deprecated, use a list instead.\n",
      "  turnstiles_daily[[\"PREV_DATE\", \"PREV_ENTRIES\"]] = (turnstiles_daily\n"
     ]
    }
   ],
   "source": [
    "turnstiles_daily[[\"PREV_DATE\", \"PREV_ENTRIES\"]] = (turnstiles_daily\n",
    "                                                       .groupby([\"C/A\", \"UNIT\", \"SCP\", \"STATION\"])[\"DATE\", \"ENTRIES\"]\n",
    "                                                       .apply(lambda grp: grp.shift(1)))"
   ]
  },
  {
   "cell_type": "code",
   "execution_count": 1142,
   "metadata": {},
   "outputs": [
    {
     "data": {
      "text/html": [
       "<div>\n",
       "<style scoped>\n",
       "    .dataframe tbody tr th:only-of-type {\n",
       "        vertical-align: middle;\n",
       "    }\n",
       "\n",
       "    .dataframe tbody tr th {\n",
       "        vertical-align: top;\n",
       "    }\n",
       "\n",
       "    .dataframe thead th {\n",
       "        text-align: right;\n",
       "    }\n",
       "</style>\n",
       "<table border=\"1\" class=\"dataframe\">\n",
       "  <thead>\n",
       "    <tr style=\"text-align: right;\">\n",
       "      <th></th>\n",
       "      <th>C/A</th>\n",
       "      <th>UNIT</th>\n",
       "      <th>SCP</th>\n",
       "      <th>STATION</th>\n",
       "      <th>DATE</th>\n",
       "      <th>ENTRIES</th>\n",
       "      <th>PREV_DATE</th>\n",
       "      <th>PREV_ENTRIES</th>\n",
       "    </tr>\n",
       "  </thead>\n",
       "  <tbody>\n",
       "    <tr>\n",
       "      <th>0</th>\n",
       "      <td>A002</td>\n",
       "      <td>R051</td>\n",
       "      <td>02-00-00</td>\n",
       "      <td>59 ST</td>\n",
       "      <td>08/25/2018</td>\n",
       "      <td>6736067</td>\n",
       "      <td>NaN</td>\n",
       "      <td>NaN</td>\n",
       "    </tr>\n",
       "    <tr>\n",
       "      <th>1</th>\n",
       "      <td>A002</td>\n",
       "      <td>R051</td>\n",
       "      <td>02-00-00</td>\n",
       "      <td>59 ST</td>\n",
       "      <td>08/26/2018</td>\n",
       "      <td>6736683</td>\n",
       "      <td>08/25/2018</td>\n",
       "      <td>6736067.0</td>\n",
       "    </tr>\n",
       "    <tr>\n",
       "      <th>2</th>\n",
       "      <td>A002</td>\n",
       "      <td>R051</td>\n",
       "      <td>02-00-00</td>\n",
       "      <td>59 ST</td>\n",
       "      <td>08/27/2018</td>\n",
       "      <td>6737136</td>\n",
       "      <td>08/26/2018</td>\n",
       "      <td>6736683.0</td>\n",
       "    </tr>\n",
       "    <tr>\n",
       "      <th>3</th>\n",
       "      <td>A002</td>\n",
       "      <td>R051</td>\n",
       "      <td>02-00-00</td>\n",
       "      <td>59 ST</td>\n",
       "      <td>08/28/2018</td>\n",
       "      <td>6738430</td>\n",
       "      <td>08/27/2018</td>\n",
       "      <td>6737136.0</td>\n",
       "    </tr>\n",
       "    <tr>\n",
       "      <th>4</th>\n",
       "      <td>A002</td>\n",
       "      <td>R051</td>\n",
       "      <td>02-00-00</td>\n",
       "      <td>59 ST</td>\n",
       "      <td>08/29/2018</td>\n",
       "      <td>6739804</td>\n",
       "      <td>08/28/2018</td>\n",
       "      <td>6738430.0</td>\n",
       "    </tr>\n",
       "  </tbody>\n",
       "</table>\n",
       "</div>"
      ],
      "text/plain": [
       "    C/A  UNIT       SCP STATION        DATE  ENTRIES   PREV_DATE  PREV_ENTRIES\n",
       "0  A002  R051  02-00-00   59 ST  08/25/2018  6736067         NaN           NaN\n",
       "1  A002  R051  02-00-00   59 ST  08/26/2018  6736683  08/25/2018     6736067.0\n",
       "2  A002  R051  02-00-00   59 ST  08/27/2018  6737136  08/26/2018     6736683.0\n",
       "3  A002  R051  02-00-00   59 ST  08/28/2018  6738430  08/27/2018     6737136.0\n",
       "4  A002  R051  02-00-00   59 ST  08/29/2018  6739804  08/28/2018     6738430.0"
      ]
     },
     "execution_count": 1142,
     "metadata": {},
     "output_type": "execute_result"
    }
   ],
   "source": [
    "turnstiles_daily.head()"
   ]
  },
  {
   "cell_type": "code",
   "execution_count": 1143,
   "metadata": {},
   "outputs": [],
   "source": [
    "turnstiles_daily.dropna(subset=[\"PREV_DATE\"], axis=0, inplace=True)"
   ]
  },
  {
   "cell_type": "code",
   "execution_count": 1144,
   "metadata": {},
   "outputs": [
    {
     "data": {
      "text/html": [
       "<div>\n",
       "<style scoped>\n",
       "    .dataframe tbody tr th:only-of-type {\n",
       "        vertical-align: middle;\n",
       "    }\n",
       "\n",
       "    .dataframe tbody tr th {\n",
       "        vertical-align: top;\n",
       "    }\n",
       "\n",
       "    .dataframe thead th {\n",
       "        text-align: right;\n",
       "    }\n",
       "</style>\n",
       "<table border=\"1\" class=\"dataframe\">\n",
       "  <thead>\n",
       "    <tr style=\"text-align: right;\">\n",
       "      <th></th>\n",
       "      <th>C/A</th>\n",
       "      <th>UNIT</th>\n",
       "      <th>SCP</th>\n",
       "      <th>STATION</th>\n",
       "      <th>DATE</th>\n",
       "      <th>ENTRIES</th>\n",
       "      <th>PREV_DATE</th>\n",
       "      <th>PREV_ENTRIES</th>\n",
       "    </tr>\n",
       "  </thead>\n",
       "  <tbody>\n",
       "    <tr>\n",
       "      <th>1</th>\n",
       "      <td>A002</td>\n",
       "      <td>R051</td>\n",
       "      <td>02-00-00</td>\n",
       "      <td>59 ST</td>\n",
       "      <td>08/26/2018</td>\n",
       "      <td>6736683</td>\n",
       "      <td>08/25/2018</td>\n",
       "      <td>6736067.0</td>\n",
       "    </tr>\n",
       "    <tr>\n",
       "      <th>2</th>\n",
       "      <td>A002</td>\n",
       "      <td>R051</td>\n",
       "      <td>02-00-00</td>\n",
       "      <td>59 ST</td>\n",
       "      <td>08/27/2018</td>\n",
       "      <td>6737136</td>\n",
       "      <td>08/26/2018</td>\n",
       "      <td>6736683.0</td>\n",
       "    </tr>\n",
       "    <tr>\n",
       "      <th>3</th>\n",
       "      <td>A002</td>\n",
       "      <td>R051</td>\n",
       "      <td>02-00-00</td>\n",
       "      <td>59 ST</td>\n",
       "      <td>08/28/2018</td>\n",
       "      <td>6738430</td>\n",
       "      <td>08/27/2018</td>\n",
       "      <td>6737136.0</td>\n",
       "    </tr>\n",
       "    <tr>\n",
       "      <th>4</th>\n",
       "      <td>A002</td>\n",
       "      <td>R051</td>\n",
       "      <td>02-00-00</td>\n",
       "      <td>59 ST</td>\n",
       "      <td>08/29/2018</td>\n",
       "      <td>6739804</td>\n",
       "      <td>08/28/2018</td>\n",
       "      <td>6738430.0</td>\n",
       "    </tr>\n",
       "    <tr>\n",
       "      <th>5</th>\n",
       "      <td>A002</td>\n",
       "      <td>R051</td>\n",
       "      <td>02-00-00</td>\n",
       "      <td>59 ST</td>\n",
       "      <td>08/30/2018</td>\n",
       "      <td>6741065</td>\n",
       "      <td>08/29/2018</td>\n",
       "      <td>6739804.0</td>\n",
       "    </tr>\n",
       "  </tbody>\n",
       "</table>\n",
       "</div>"
      ],
      "text/plain": [
       "    C/A  UNIT       SCP STATION        DATE  ENTRIES   PREV_DATE  PREV_ENTRIES\n",
       "1  A002  R051  02-00-00   59 ST  08/26/2018  6736683  08/25/2018     6736067.0\n",
       "2  A002  R051  02-00-00   59 ST  08/27/2018  6737136  08/26/2018     6736683.0\n",
       "3  A002  R051  02-00-00   59 ST  08/28/2018  6738430  08/27/2018     6737136.0\n",
       "4  A002  R051  02-00-00   59 ST  08/29/2018  6739804  08/28/2018     6738430.0\n",
       "5  A002  R051  02-00-00   59 ST  08/30/2018  6741065  08/29/2018     6739804.0"
      ]
     },
     "execution_count": 1144,
     "metadata": {},
     "output_type": "execute_result"
    }
   ],
   "source": [
    "turnstiles_daily.head()"
   ]
  },
  {
   "cell_type": "code",
   "execution_count": 1145,
   "metadata": {
    "collapsed": true
   },
   "outputs": [
    {
     "name": "stdout",
     "output_type": "stream",
     "text": [
      "68 7705413.0\n",
      "336 15255717.0\n",
      "458806 3408576.0\n",
      "262209 67148711.0\n",
      "62 1553987560.0\n",
      "1525 15832652.0\n",
      "148 5412830.0\n",
      "117441024 2306185.0\n",
      "458754 67109013.0\n",
      "1864238 67952524.0\n",
      "881471 117756217.0\n",
      "89 15071100.0\n",
      "70 5741006.0\n",
      "459482 6300572.0\n",
      "675 6456919.0\n",
      "525054 3346426.0\n",
      "13 2183820.0\n",
      "6 8203336.0\n",
      "460550 119257511.0\n",
      "745 706535159.0\n",
      "5599854 13155.0\n",
      "135 5212062.0\n",
      "1476232479 44615524.0\n",
      "0 5877814.0\n",
      "458917 3120390.0\n",
      "3759588 6551502.0\n",
      "300220487 3861100.0\n",
      "262371 1581423.0\n",
      "41 1100378.0\n",
      "85 1632278.0\n",
      "685 1512945.0\n",
      "579 1511819.0\n",
      "4383 1090904.0\n",
      "1099462 4796.0\n",
      "5577 1099462.0\n",
      "1106646 5952.0\n",
      "6364 1107838.0\n",
      "1112083 6364.0\n",
      "7082 1112083.0\n",
      "1131407 8912.0\n",
      "11154 1144357.0\n",
      "1155130 12593.0\n",
      "12894 1155130.0\n",
      "1180046 15790.0\n",
      "0 1569503.0\n",
      "796 2794719.0\n",
      "13 1727525.0\n",
      "98487246 15767.0\n",
      "25723 9594918.0\n",
      "30370 1502539.0\n",
      "29977 1569166011.0\n",
      "98500244 2215020.0\n",
      "24 1813837.0\n",
      "258 5600689.0\n",
      "1376535 6739639.0\n",
      "1686 4236897.0\n",
      "657794 71631946.0\n",
      "2796 501616392.0\n",
      "32375149 157468.0\n",
      "1029 4753353.0\n",
      "1124116745 4393186.0\n",
      "7 1124142239.0\n",
      "22 704675433.0\n",
      "456 839608705.0\n",
      "84383479 117795461.0\n",
      "769 3049316.0\n",
      "134 4274293.0\n",
      "518 5613893.0\n",
      "13 1795209.0\n",
      "59493687 1962733405.0\n",
      "78 3308167.0\n",
      "0 2062000.0\n",
      "268477006 1088045.0\n",
      "19457 839126675.0\n",
      "783 14024931.0\n",
      "408 36191900.0\n",
      "440 3159530.0\n",
      "940 6525436.0\n",
      "101 7906766.0\n",
      "436212809 1715218.0\n",
      "45 1305789.0\n",
      "21 7442951.0\n",
      "138 1934996.0\n"
     ]
    }
   ],
   "source": [
    "def get_daily_counts(row, max_counter):\n",
    "    counter = row[\"ENTRIES\"] - row[\"PREV_ENTRIES\"]\n",
    "    if counter < 0:\n",
    "        # Maybe counter is reversed?\n",
    "        counter = -counter\n",
    "    if counter > max_counter:\n",
    "        # Maybe counter was reset to 0? \n",
    "        print(row[\"ENTRIES\"], row[\"PREV_ENTRIES\"])\n",
    "        counter = min(row[\"ENTRIES\"], row[\"PREV_ENTRIES\"])\n",
    "    if counter > max_counter:\n",
    "        # Check it again to make sure we're not still giving a counter that's too big\n",
    "        return 0\n",
    "    return counter\n",
    "\n",
    "# If counter is > 1Million, then the counter might have been reset.  \n",
    "# Just set it to zero as different counters have different cycle limits\n",
    "# It'd probably be a good idea to use a number even significantly smaller than 1 million as the limit!\n",
    "turnstiles_daily[\"DAILY_ENTRIES\"] = turnstiles_daily.apply(get_daily_counts, axis=1, max_counter=1000000)"
   ]
  },
  {
   "cell_type": "code",
   "execution_count": 1146,
   "metadata": {},
   "outputs": [
    {
     "data": {
      "text/html": [
       "<div>\n",
       "<style scoped>\n",
       "    .dataframe tbody tr th:only-of-type {\n",
       "        vertical-align: middle;\n",
       "    }\n",
       "\n",
       "    .dataframe tbody tr th {\n",
       "        vertical-align: top;\n",
       "    }\n",
       "\n",
       "    .dataframe thead th {\n",
       "        text-align: right;\n",
       "    }\n",
       "</style>\n",
       "<table border=\"1\" class=\"dataframe\">\n",
       "  <thead>\n",
       "    <tr style=\"text-align: right;\">\n",
       "      <th></th>\n",
       "      <th>C/A</th>\n",
       "      <th>UNIT</th>\n",
       "      <th>STATION</th>\n",
       "      <th>DATE</th>\n",
       "      <th>DAILY_ENTRIES</th>\n",
       "    </tr>\n",
       "  </thead>\n",
       "  <tbody>\n",
       "    <tr>\n",
       "      <th>0</th>\n",
       "      <td>A002</td>\n",
       "      <td>R051</td>\n",
       "      <td>59 ST</td>\n",
       "      <td>08/26/2018</td>\n",
       "      <td>7244.0</td>\n",
       "    </tr>\n",
       "    <tr>\n",
       "      <th>1</th>\n",
       "      <td>A002</td>\n",
       "      <td>R051</td>\n",
       "      <td>59 ST</td>\n",
       "      <td>08/27/2018</td>\n",
       "      <td>5573.0</td>\n",
       "    </tr>\n",
       "    <tr>\n",
       "      <th>2</th>\n",
       "      <td>A002</td>\n",
       "      <td>R051</td>\n",
       "      <td>59 ST</td>\n",
       "      <td>08/28/2018</td>\n",
       "      <td>11891.0</td>\n",
       "    </tr>\n",
       "    <tr>\n",
       "      <th>3</th>\n",
       "      <td>A002</td>\n",
       "      <td>R051</td>\n",
       "      <td>59 ST</td>\n",
       "      <td>08/29/2018</td>\n",
       "      <td>12191.0</td>\n",
       "    </tr>\n",
       "    <tr>\n",
       "      <th>4</th>\n",
       "      <td>A002</td>\n",
       "      <td>R051</td>\n",
       "      <td>59 ST</td>\n",
       "      <td>08/30/2018</td>\n",
       "      <td>12388.0</td>\n",
       "    </tr>\n",
       "  </tbody>\n",
       "</table>\n",
       "</div>"
      ],
      "text/plain": [
       "    C/A  UNIT STATION        DATE  DAILY_ENTRIES\n",
       "0  A002  R051   59 ST  08/26/2018         7244.0\n",
       "1  A002  R051   59 ST  08/27/2018         5573.0\n",
       "2  A002  R051   59 ST  08/28/2018        11891.0\n",
       "3  A002  R051   59 ST  08/29/2018        12191.0\n",
       "4  A002  R051   59 ST  08/30/2018        12388.0"
      ]
     },
     "execution_count": 1146,
     "metadata": {},
     "output_type": "execute_result"
    }
   ],
   "source": [
    "#turnstiles that fall within the same ControlArea/Unit/Station combo\n",
    "ca_unit_station_daily = turnstiles_daily.groupby([\"C/A\", \"UNIT\", \"STATION\", \"DATE\"])[['DAILY_ENTRIES']].sum().reset_index()\n",
    "ca_unit_station_daily.head()"
   ]
  },
  {
   "cell_type": "code",
   "execution_count": 1147,
   "metadata": {},
   "outputs": [
    {
     "data": {
      "text/html": [
       "<div>\n",
       "<style scoped>\n",
       "    .dataframe tbody tr th:only-of-type {\n",
       "        vertical-align: middle;\n",
       "    }\n",
       "\n",
       "    .dataframe tbody tr th {\n",
       "        vertical-align: top;\n",
       "    }\n",
       "\n",
       "    .dataframe thead th {\n",
       "        text-align: right;\n",
       "    }\n",
       "</style>\n",
       "<table border=\"1\" class=\"dataframe\">\n",
       "  <thead>\n",
       "    <tr style=\"text-align: right;\">\n",
       "      <th></th>\n",
       "      <th>STATION</th>\n",
       "      <th>DATE</th>\n",
       "      <th>DAILY_ENTRIES</th>\n",
       "    </tr>\n",
       "  </thead>\n",
       "  <tbody>\n",
       "    <tr>\n",
       "      <th>0</th>\n",
       "      <td>1 AV</td>\n",
       "      <td>08/26/2018</td>\n",
       "      <td>14533.0</td>\n",
       "    </tr>\n",
       "    <tr>\n",
       "      <th>1</th>\n",
       "      <td>1 AV</td>\n",
       "      <td>08/27/2018</td>\n",
       "      <td>12019.0</td>\n",
       "    </tr>\n",
       "    <tr>\n",
       "      <th>2</th>\n",
       "      <td>1 AV</td>\n",
       "      <td>08/28/2018</td>\n",
       "      <td>17354.0</td>\n",
       "    </tr>\n",
       "    <tr>\n",
       "      <th>3</th>\n",
       "      <td>1 AV</td>\n",
       "      <td>08/29/2018</td>\n",
       "      <td>17946.0</td>\n",
       "    </tr>\n",
       "    <tr>\n",
       "      <th>4</th>\n",
       "      <td>1 AV</td>\n",
       "      <td>08/30/2018</td>\n",
       "      <td>18479.0</td>\n",
       "    </tr>\n",
       "  </tbody>\n",
       "</table>\n",
       "</div>"
      ],
      "text/plain": [
       "  STATION        DATE  DAILY_ENTRIES\n",
       "0    1 AV  08/26/2018        14533.0\n",
       "1    1 AV  08/27/2018        12019.0\n",
       "2    1 AV  08/28/2018        17354.0\n",
       "3    1 AV  08/29/2018        17946.0\n",
       "4    1 AV  08/30/2018        18479.0"
      ]
     },
     "execution_count": 1147,
     "metadata": {},
     "output_type": "execute_result"
    }
   ],
   "source": [
    "#daily time series for each STATION\n",
    "station_daily = turnstiles_daily.groupby([\"STATION\", \"DATE\"])[['DAILY_ENTRIES']].sum().reset_index()\n",
    "station_daily.head()"
   ]
  },
  {
   "cell_type": "code",
   "execution_count": 1148,
   "metadata": {},
   "outputs": [
    {
     "data": {
      "text/plain": [
       "32078"
      ]
     },
     "execution_count": 1148,
     "metadata": {},
     "output_type": "execute_result"
    }
   ],
   "source": [
    "len(station_daily)"
   ]
  },
  {
   "cell_type": "code",
   "execution_count": 1150,
   "metadata": {},
   "outputs": [
    {
     "data": {
      "text/html": [
       "<div>\n",
       "<style scoped>\n",
       "    .dataframe tbody tr th:only-of-type {\n",
       "        vertical-align: middle;\n",
       "    }\n",
       "\n",
       "    .dataframe tbody tr th {\n",
       "        vertical-align: top;\n",
       "    }\n",
       "\n",
       "    .dataframe thead th {\n",
       "        text-align: right;\n",
       "    }\n",
       "</style>\n",
       "<table border=\"1\" class=\"dataframe\">\n",
       "  <thead>\n",
       "    <tr style=\"text-align: right;\">\n",
       "      <th></th>\n",
       "      <th>STATION</th>\n",
       "      <th>BOROUGH</th>\n",
       "      <th>BOROUGH_FULL_NAME</th>\n",
       "    </tr>\n",
       "  </thead>\n",
       "  <tbody>\n",
       "    <tr>\n",
       "      <th>0</th>\n",
       "      <td>ASTORIA DITMARS</td>\n",
       "      <td>Q</td>\n",
       "      <td>QUEENS</td>\n",
       "    </tr>\n",
       "    <tr>\n",
       "      <th>1</th>\n",
       "      <td>ASTORIA BLVD</td>\n",
       "      <td>Q</td>\n",
       "      <td>QUEENS</td>\n",
       "    </tr>\n",
       "    <tr>\n",
       "      <th>2</th>\n",
       "      <td>30 AV</td>\n",
       "      <td>Q</td>\n",
       "      <td>QUEENS</td>\n",
       "    </tr>\n",
       "    <tr>\n",
       "      <th>3</th>\n",
       "      <td>BROADWAY</td>\n",
       "      <td>Q</td>\n",
       "      <td>QUEENS</td>\n",
       "    </tr>\n",
       "    <tr>\n",
       "      <th>4</th>\n",
       "      <td>36 AV</td>\n",
       "      <td>Q</td>\n",
       "      <td>QUEENS</td>\n",
       "    </tr>\n",
       "  </tbody>\n",
       "</table>\n",
       "</div>"
      ],
      "text/plain": [
       "           STATION BOROUGH BOROUGH_FULL_NAME\n",
       "0  ASTORIA DITMARS       Q            QUEENS\n",
       "1     ASTORIA BLVD       Q            QUEENS\n",
       "2            30 AV       Q            QUEENS\n",
       "3         BROADWAY       Q            QUEENS\n",
       "4            36 AV       Q            QUEENS"
      ]
     },
     "execution_count": 1150,
     "metadata": {},
     "output_type": "execute_result"
    }
   ],
   "source": [
    "STATION_NAME_BOROUGH.head()"
   ]
  },
  {
   "cell_type": "code",
   "execution_count": 1158,
   "metadata": {},
   "outputs": [
    {
     "data": {
      "text/html": [
       "<div>\n",
       "<style scoped>\n",
       "    .dataframe tbody tr th:only-of-type {\n",
       "        vertical-align: middle;\n",
       "    }\n",
       "\n",
       "    .dataframe tbody tr th {\n",
       "        vertical-align: top;\n",
       "    }\n",
       "\n",
       "    .dataframe thead th {\n",
       "        text-align: right;\n",
       "    }\n",
       "</style>\n",
       "<table border=\"1\" class=\"dataframe\">\n",
       "  <thead>\n",
       "    <tr style=\"text-align: right;\">\n",
       "      <th></th>\n",
       "      <th>STATION</th>\n",
       "      <th>DATE</th>\n",
       "      <th>DAILY_ENTRIES</th>\n",
       "      <th>BOROUGH</th>\n",
       "      <th>BOROUGH_FULL_NAME</th>\n",
       "    </tr>\n",
       "  </thead>\n",
       "  <tbody>\n",
       "    <tr>\n",
       "      <th>0</th>\n",
       "      <td>1 AV</td>\n",
       "      <td>08/26/2018</td>\n",
       "      <td>14533.0</td>\n",
       "      <td>M</td>\n",
       "      <td>MANHATTAN</td>\n",
       "    </tr>\n",
       "    <tr>\n",
       "      <th>1</th>\n",
       "      <td>1 AV</td>\n",
       "      <td>08/27/2018</td>\n",
       "      <td>12019.0</td>\n",
       "      <td>M</td>\n",
       "      <td>MANHATTAN</td>\n",
       "    </tr>\n",
       "    <tr>\n",
       "      <th>2</th>\n",
       "      <td>1 AV</td>\n",
       "      <td>08/28/2018</td>\n",
       "      <td>17354.0</td>\n",
       "      <td>M</td>\n",
       "      <td>MANHATTAN</td>\n",
       "    </tr>\n",
       "    <tr>\n",
       "      <th>3</th>\n",
       "      <td>1 AV</td>\n",
       "      <td>08/29/2018</td>\n",
       "      <td>17946.0</td>\n",
       "      <td>M</td>\n",
       "      <td>MANHATTAN</td>\n",
       "    </tr>\n",
       "    <tr>\n",
       "      <th>4</th>\n",
       "      <td>1 AV</td>\n",
       "      <td>08/30/2018</td>\n",
       "      <td>18479.0</td>\n",
       "      <td>M</td>\n",
       "      <td>MANHATTAN</td>\n",
       "    </tr>\n",
       "  </tbody>\n",
       "</table>\n",
       "</div>"
      ],
      "text/plain": [
       "  STATION        DATE  DAILY_ENTRIES BOROUGH BOROUGH_FULL_NAME\n",
       "0    1 AV  08/26/2018        14533.0       M         MANHATTAN\n",
       "1    1 AV  08/27/2018        12019.0       M         MANHATTAN\n",
       "2    1 AV  08/28/2018        17354.0       M         MANHATTAN\n",
       "3    1 AV  08/29/2018        17946.0       M         MANHATTAN\n",
       "4    1 AV  08/30/2018        18479.0       M         MANHATTAN"
      ]
     },
     "execution_count": 1158,
     "metadata": {},
     "output_type": "execute_result"
    }
   ],
   "source": [
    "borough_station_daily = pd.merge(station_daily,STATION_NAME_BOROUGH, on= \"STATION\" )\n",
    "borough_station_daily.head()"
   ]
  },
  {
   "cell_type": "code",
   "execution_count": 1243,
   "metadata": {},
   "outputs": [
    {
     "data": {
      "text/plain": [
       "STATION              0\n",
       "DATE                 0\n",
       "DAILY_ENTRIES        0\n",
       "BOROUGH              0\n",
       "BOROUGH_FULL_NAME    0\n",
       "dtype: int64"
      ]
     },
     "execution_count": 1243,
     "metadata": {},
     "output_type": "execute_result"
    }
   ],
   "source": [
    "borough_station_daily.isna().sum()"
   ]
  },
  {
   "cell_type": "code",
   "execution_count": 1157,
   "metadata": {},
   "outputs": [
    {
     "data": {
      "text/plain": [
       "41978"
      ]
     },
     "execution_count": 1157,
     "metadata": {},
     "output_type": "execute_result"
    }
   ],
   "source": [
    "len(borough_station_daily)"
   ]
  },
  {
   "cell_type": "code",
   "execution_count": 103,
   "metadata": {},
   "outputs": [
    {
     "data": {
      "text/html": [
       "<div>\n",
       "<style scoped>\n",
       "    .dataframe tbody tr th:only-of-type {\n",
       "        vertical-align: middle;\n",
       "    }\n",
       "\n",
       "    .dataframe tbody tr th {\n",
       "        vertical-align: top;\n",
       "    }\n",
       "\n",
       "    .dataframe thead th {\n",
       "        text-align: right;\n",
       "    }\n",
       "</style>\n",
       "<table border=\"1\" class=\"dataframe\">\n",
       "  <thead>\n",
       "    <tr style=\"text-align: right;\">\n",
       "      <th></th>\n",
       "      <th>STATION</th>\n",
       "      <th>DAILY_ENTRIES</th>\n",
       "    </tr>\n",
       "  </thead>\n",
       "  <tbody>\n",
       "    <tr>\n",
       "      <th>0</th>\n",
       "      <td>34 ST-PENN STA</td>\n",
       "      <td>14400910.0</td>\n",
       "    </tr>\n",
       "    <tr>\n",
       "      <th>1</th>\n",
       "      <td>GRD CNTRL-42 ST</td>\n",
       "      <td>12244089.0</td>\n",
       "    </tr>\n",
       "    <tr>\n",
       "      <th>2</th>\n",
       "      <td>34 ST-HERALD SQ</td>\n",
       "      <td>10228849.0</td>\n",
       "    </tr>\n",
       "    <tr>\n",
       "      <th>3</th>\n",
       "      <td>14 ST-UNION SQ</td>\n",
       "      <td>9644671.0</td>\n",
       "    </tr>\n",
       "    <tr>\n",
       "      <th>4</th>\n",
       "      <td>PATH NEW WTC</td>\n",
       "      <td>9240847.0</td>\n",
       "    </tr>\n",
       "  </tbody>\n",
       "</table>\n",
       "</div>"
      ],
      "text/plain": [
       "           STATION  DAILY_ENTRIES\n",
       "0   34 ST-PENN STA     14400910.0\n",
       "1  GRD CNTRL-42 ST     12244089.0\n",
       "2  34 ST-HERALD SQ     10228849.0\n",
       "3   14 ST-UNION SQ      9644671.0\n",
       "4     PATH NEW WTC      9240847.0"
      ]
     },
     "execution_count": 103,
     "metadata": {},
     "output_type": "execute_result"
    }
   ],
   "source": [
    "#total ridership for each station, find out the stations with the highest traffic during the time you investigate\n",
    "station_totals = station_daily.groupby('STATION').sum().sort_values('DAILY_ENTRIES', ascending=False).reset_index()\n",
    "station_totals.head()"
   ]
  },
  {
   "cell_type": "markdown",
   "metadata": {},
   "source": [
    "Total ridership for each station and it location"
   ]
  },
  {
   "cell_type": "code",
   "execution_count": 1167,
   "metadata": {},
   "outputs": [
    {
     "data": {
      "text/html": [
       "<div>\n",
       "<style scoped>\n",
       "    .dataframe tbody tr th:only-of-type {\n",
       "        vertical-align: middle;\n",
       "    }\n",
       "\n",
       "    .dataframe tbody tr th {\n",
       "        vertical-align: top;\n",
       "    }\n",
       "\n",
       "    .dataframe thead th {\n",
       "        text-align: right;\n",
       "    }\n",
       "</style>\n",
       "<table border=\"1\" class=\"dataframe\">\n",
       "  <thead>\n",
       "    <tr style=\"text-align: right;\">\n",
       "      <th></th>\n",
       "      <th>STATION</th>\n",
       "      <th>BOROUGH_FULL_NAME</th>\n",
       "      <th>DAILY_ENTRIES</th>\n",
       "    </tr>\n",
       "  </thead>\n",
       "  <tbody>\n",
       "    <tr>\n",
       "      <th>356</th>\n",
       "      <td>BEACH 44 ST</td>\n",
       "      <td>QUEENS</td>\n",
       "      <td>58415.0</td>\n",
       "    </tr>\n",
       "    <tr>\n",
       "      <th>357</th>\n",
       "      <td>BEACH 98 ST</td>\n",
       "      <td>QUEENS</td>\n",
       "      <td>42407.0</td>\n",
       "    </tr>\n",
       "    <tr>\n",
       "      <th>358</th>\n",
       "      <td>BEACH 105 ST</td>\n",
       "      <td>QUEENS</td>\n",
       "      <td>24053.0</td>\n",
       "    </tr>\n",
       "    <tr>\n",
       "      <th>359</th>\n",
       "      <td>BROAD CHANNEL</td>\n",
       "      <td>QUEENS</td>\n",
       "      <td>21992.0</td>\n",
       "    </tr>\n",
       "    <tr>\n",
       "      <th>360</th>\n",
       "      <td>ORCHARD BEACH</td>\n",
       "      <td>QUEENS</td>\n",
       "      <td>1010.0</td>\n",
       "    </tr>\n",
       "  </tbody>\n",
       "</table>\n",
       "</div>"
      ],
      "text/plain": [
       "           STATION BOROUGH_FULL_NAME  DAILY_ENTRIES\n",
       "356    BEACH 44 ST            QUEENS        58415.0\n",
       "357    BEACH 98 ST            QUEENS        42407.0\n",
       "358   BEACH 105 ST            QUEENS        24053.0\n",
       "359  BROAD CHANNEL            QUEENS        21992.0\n",
       "360  ORCHARD BEACH            QUEENS         1010.0"
      ]
     },
     "execution_count": 1167,
     "metadata": {},
     "output_type": "execute_result"
    }
   ],
   "source": [
    "totals_borough_station_daily = borough_station_daily.groupby(['STATION', 'BOROUGH_FULL_NAME'])\\\n",
    ".sum().sort_values('DAILY_ENTRIES', ascending=False).reset_index()\n",
    "totals_borough_station_daily.tail()"
   ]
  },
  {
   "cell_type": "code",
   "execution_count": 1244,
   "metadata": {},
   "outputs": [
    {
     "data": {
      "text/plain": [
       "STATION              0\n",
       "BOROUGH_FULL_NAME    0\n",
       "DAILY_ENTRIES        0\n",
       "dtype: int64"
      ]
     },
     "execution_count": 1244,
     "metadata": {},
     "output_type": "execute_result"
    }
   ],
   "source": [
    "totals_borough_station_daily.isna().sum()"
   ]
  },
  {
   "cell_type": "code",
   "execution_count": 1173,
   "metadata": {},
   "outputs": [
    {
     "data": {
      "text/plain": [
       "1129480.698630137"
      ]
     },
     "execution_count": 1173,
     "metadata": {},
     "output_type": "execute_result"
    }
   ],
   "source": [
    "#The mean daily entries in Queens\n",
    "totals_borough_station_daily[totals_borough_station_daily.BOROUGH_FULL_NAME == 'QUEENS'].DAILY_ENTRIES.mean()"
   ]
  },
  {
   "cell_type": "code",
   "execution_count": 1211,
   "metadata": {},
   "outputs": [
    {
     "data": {
      "text/html": [
       "<div>\n",
       "<style scoped>\n",
       "    .dataframe tbody tr th:only-of-type {\n",
       "        vertical-align: middle;\n",
       "    }\n",
       "\n",
       "    .dataframe tbody tr th {\n",
       "        vertical-align: top;\n",
       "    }\n",
       "\n",
       "    .dataframe thead th {\n",
       "        text-align: right;\n",
       "    }\n",
       "</style>\n",
       "<table border=\"1\" class=\"dataframe\">\n",
       "  <thead>\n",
       "    <tr style=\"text-align: right;\">\n",
       "      <th></th>\n",
       "      <th>BOROUGH_FULL_NAME</th>\n",
       "      <th>DAILY_ENTRIES</th>\n",
       "    </tr>\n",
       "  </thead>\n",
       "  <tbody>\n",
       "    <tr>\n",
       "      <th>3</th>\n",
       "      <td>STATEN ISLAND</td>\n",
       "      <td>5.445500e+05</td>\n",
       "    </tr>\n",
       "    <tr>\n",
       "      <th>4</th>\n",
       "      <td>THE BRONX</td>\n",
       "      <td>8.572513e+05</td>\n",
       "    </tr>\n",
       "    <tr>\n",
       "      <th>2</th>\n",
       "      <td>QUEENS</td>\n",
       "      <td>1.129481e+06</td>\n",
       "    </tr>\n",
       "    <tr>\n",
       "      <th>0</th>\n",
       "      <td>BROOKLYN</td>\n",
       "      <td>1.474081e+06</td>\n",
       "    </tr>\n",
       "    <tr>\n",
       "      <th>1</th>\n",
       "      <td>MANHATTAN</td>\n",
       "      <td>6.412577e+06</td>\n",
       "    </tr>\n",
       "  </tbody>\n",
       "</table>\n",
       "</div>"
      ],
      "text/plain": [
       "  BOROUGH_FULL_NAME  DAILY_ENTRIES\n",
       "3     STATEN ISLAND   5.445500e+05\n",
       "4         THE BRONX   8.572513e+05\n",
       "2            QUEENS   1.129481e+06\n",
       "0          BROOKLYN   1.474081e+06\n",
       "1         MANHATTAN   6.412577e+06"
      ]
     },
     "execution_count": 1211,
     "metadata": {},
     "output_type": "execute_result"
    }
   ],
   "source": [
    "mean_daily_entries_per_borough = (totals_borough_station_daily.groupby('BOROUGH_FULL_NAME').DAILY_ENTRIES.mean()).reset_index()\n",
    "plot_mean_borough = mean_daily_entries_per_borough.sort_values('DAILY_ENTRIES',ascending=True)\n",
    "plot_mean_borough.head()"
   ]
  },
  {
   "cell_type": "code",
   "execution_count": 104,
   "metadata": {
    "collapsed": true
   },
   "outputs": [
    {
     "data": {
      "text/html": [
       "<div>\n",
       "<style scoped>\n",
       "    .dataframe tbody tr th:only-of-type {\n",
       "        vertical-align: middle;\n",
       "    }\n",
       "\n",
       "    .dataframe tbody tr th {\n",
       "        vertical-align: top;\n",
       "    }\n",
       "\n",
       "    .dataframe thead th {\n",
       "        text-align: right;\n",
       "    }\n",
       "</style>\n",
       "<table border=\"1\" class=\"dataframe\">\n",
       "  <thead>\n",
       "    <tr style=\"text-align: right;\">\n",
       "      <th></th>\n",
       "      <th>C/A</th>\n",
       "      <th>UNIT</th>\n",
       "      <th>SCP</th>\n",
       "      <th>STATION</th>\n",
       "      <th>DATE</th>\n",
       "      <th>ENTRIES</th>\n",
       "      <th>PREV_DATE</th>\n",
       "      <th>PREV_ENTRIES</th>\n",
       "      <th>DAILY_ENTRIES</th>\n",
       "    </tr>\n",
       "  </thead>\n",
       "  <tbody>\n",
       "    <tr>\n",
       "      <th>3069</th>\n",
       "      <td>A011</td>\n",
       "      <td>R080</td>\n",
       "      <td>01-00-00</td>\n",
       "      <td>57 ST-7 AV</td>\n",
       "      <td>08/26/2018</td>\n",
       "      <td>885883727</td>\n",
       "      <td>08/25/2018</td>\n",
       "      <td>885883893.0</td>\n",
       "      <td>166.0</td>\n",
       "    </tr>\n",
       "    <tr>\n",
       "      <th>3070</th>\n",
       "      <td>A011</td>\n",
       "      <td>R080</td>\n",
       "      <td>01-00-00</td>\n",
       "      <td>57 ST-7 AV</td>\n",
       "      <td>08/27/2018</td>\n",
       "      <td>885883595</td>\n",
       "      <td>08/26/2018</td>\n",
       "      <td>885883727.0</td>\n",
       "      <td>132.0</td>\n",
       "    </tr>\n",
       "    <tr>\n",
       "      <th>3071</th>\n",
       "      <td>A011</td>\n",
       "      <td>R080</td>\n",
       "      <td>01-00-00</td>\n",
       "      <td>57 ST-7 AV</td>\n",
       "      <td>08/28/2018</td>\n",
       "      <td>885883250</td>\n",
       "      <td>08/27/2018</td>\n",
       "      <td>885883595.0</td>\n",
       "      <td>345.0</td>\n",
       "    </tr>\n",
       "    <tr>\n",
       "      <th>3072</th>\n",
       "      <td>A011</td>\n",
       "      <td>R080</td>\n",
       "      <td>01-00-00</td>\n",
       "      <td>57 ST-7 AV</td>\n",
       "      <td>08/29/2018</td>\n",
       "      <td>885882937</td>\n",
       "      <td>08/28/2018</td>\n",
       "      <td>885883250.0</td>\n",
       "      <td>313.0</td>\n",
       "    </tr>\n",
       "    <tr>\n",
       "      <th>3073</th>\n",
       "      <td>A011</td>\n",
       "      <td>R080</td>\n",
       "      <td>01-00-00</td>\n",
       "      <td>57 ST-7 AV</td>\n",
       "      <td>08/30/2018</td>\n",
       "      <td>885882586</td>\n",
       "      <td>08/29/2018</td>\n",
       "      <td>885882937.0</td>\n",
       "      <td>351.0</td>\n",
       "    </tr>\n",
       "  </tbody>\n",
       "</table>\n",
       "</div>"
      ],
      "text/plain": [
       "       C/A  UNIT       SCP     STATION        DATE    ENTRIES   PREV_DATE  \\\n",
       "3069  A011  R080  01-00-00  57 ST-7 AV  08/26/2018  885883727  08/25/2018   \n",
       "3070  A011  R080  01-00-00  57 ST-7 AV  08/27/2018  885883595  08/26/2018   \n",
       "3071  A011  R080  01-00-00  57 ST-7 AV  08/28/2018  885883250  08/27/2018   \n",
       "3072  A011  R080  01-00-00  57 ST-7 AV  08/29/2018  885882937  08/28/2018   \n",
       "3073  A011  R080  01-00-00  57 ST-7 AV  08/30/2018  885882586  08/29/2018   \n",
       "\n",
       "      PREV_ENTRIES  DAILY_ENTRIES  \n",
       "3069   885883893.0          166.0  \n",
       "3070   885883727.0          132.0  \n",
       "3071   885883595.0          345.0  \n",
       "3072   885883250.0          313.0  \n",
       "3073   885882937.0          351.0  "
      ]
     },
     "execution_count": 104,
     "metadata": {},
     "output_type": "execute_result"
    }
   ],
   "source": [
    "single_turnstile = turnstiles_daily[(turnstiles_daily[\"C/A\"] == \"A011\") & \n",
    "(turnstiles_daily[\"UNIT\"] == \"R080\") & \n",
    "(turnstiles_daily[\"SCP\"] == \"01-00-00\") & \n",
    "(turnstiles_daily[\"STATION\"] == \"57 ST-7 AV\")]\n",
    "\n",
    "\n",
    "single_turnstile.head()"
   ]
  },
  {
   "cell_type": "code",
   "execution_count": 1444,
   "metadata": {},
   "outputs": [
    {
     "data": {
      "text/plain": [
       "0    60247\n",
       "1    86516\n",
       "2    14897\n",
       "3    39098\n",
       "4     3360\n",
       "Name: Change in Number - 2030-2040 , dtype: int64"
      ]
     },
     "execution_count": 1444,
     "metadata": {},
     "output_type": "execute_result"
    }
   ],
   "source": [
    "Projected_Population_sql['Change in Number - 2030-2040 ']"
   ]
  },
  {
   "cell_type": "code",
   "execution_count": 1452,
   "metadata": {},
   "outputs": [
    {
     "data": {
      "image/png": "[encoded data removed]",
      "text/plain": [
       "<Figure size 432x288 with 1 Axes>"
      ]
     },
     "metadata": {
      "needs_background": "light"
     },
     "output_type": "display_data"
    }
   ],
   "source": [
    "\n",
    "sns.barplot(y = 'Borough' , x = 'Change in Number - 2020-2030 ' ,data=Projected_Population_sql)\\\n",
    ".set_title('Increase Population for Each Borough');\n"
   ]
  },
  {
   "cell_type": "code",
   "execution_count": 1453,
   "metadata": {},
   "outputs": [
    {
     "data": {
      "image/png": "[encoded data removed]",
      "text/plain": [
       "<Figure size 432x288 with 1 Axes>"
      ]
     },
     "metadata": {
      "needs_background": "light"
     },
     "output_type": "display_data"
    }
   ],
   "source": [
    "sns.barplot(y = 'Borough' , x = 'Change in Number - 2030-2040 ' ,data=Projected_Population_sql)\\\n",
    ".set_title('Increase Population for Each Borough');"
   ]
  },
  {
   "cell_type": "code",
   "execution_count": 1439,
   "metadata": {
    "scrolled": true
   },
   "outputs": [
    {
     "data": {
      "image/png": "[encoded data removed]",
      "text/plain": [
       "<Figure size 432x288 with 1 Axes>"
      ]
     },
     "metadata": {
      "needs_background": "light"
     },
     "output_type": "display_data"
    }
   ],
   "source": [
    "#plt.figure(figsize=(6,6))\n",
    "sns.barplot(y = 'BOROUGH_FULL_NAME' , x = 'DAILY_ENTRIES' ,data=plot_mean_borough)\\\n",
    ".set_title('Mean Daily Entries for Each District');"
   ]
  },
  {
   "cell_type": "code",
   "execution_count": 1247,
   "metadata": {
    "scrolled": false
   },
   "outputs": [
    {
     "data": {
      "image/png": "[encoded data removed]",
      "text/plain": [
       "<Figure size 432x432 with 3 Axes>"
      ]
     },
     "metadata": {
      "needs_background": "light"
     },
     "output_type": "display_data"
    }
   ],
   "source": [
    "sns.jointplot(x=totals_borough_station_daily[\"BOROUGH_FULL_NAME\"][25:50],\\\n",
    "              y=totals_borough_station_daily[\"STATION\"][25:50],\\\n",
    "              data = totals_borough_station_daily);"
   ]
  },
  {
   "cell_type": "code",
   "execution_count": 1224,
   "metadata": {},
   "outputs": [
    {
     "data": {
      "text/plain": [
       "Text(0.5, 1.0, 'Mean Daily Entries for Stations Group by Each District')"
      ]
     },
     "execution_count": 1224,
     "metadata": {},
     "output_type": "execute_result"
    },
    {
     "data": {
      "image/png": "[encoded data removed]",
      "text/plain": [
       "<Figure size 576x576 with 1 Axes>"
      ]
     },
     "metadata": {
      "needs_background": "light"
     },
     "output_type": "display_data"
    }
   ],
   "source": [
    "plt.figure(figsize=(8,8))\n",
    "plt.bar(x=plot_mean_borough['BOROUGH_FULL_NAME'], height=plot_mean_borough['DAILY_ENTRIES'], width= 0.9)\n",
    "plt.ylabel('Mean Daily Entries')\n",
    "plt.xlabel('BOROUGH (District)')\n",
    "plt.xticks(rotation=45)\n",
    "plt.title('Mean Daily Entries for Stations Group by Each District')\n"
   ]
  },
  {
   "cell_type": "code",
   "execution_count": 1269,
   "metadata": {},
   "outputs": [
    {
     "data": {
      "text/plain": [
       "[180, 6119, 7223, 15118, 13338]"
      ]
     },
     "execution_count": 1269,
     "metadata": {},
     "output_type": "execute_result"
    }
   ],
   "source": [
    "num_station_in_borough = []\n",
    "num_station_in_borough.append(borough_station_daily[borough_station_daily.BOROUGH_FULL_NAME == 'STATEN ISLAND'].STATION.count())\n",
    "num_station_in_borough.append(borough_station_daily[borough_station_daily.BOROUGH_FULL_NAME == 'THE BRONX'].STATION.count())\n",
    "num_station_in_borough.append(borough_station_daily[borough_station_daily.BOROUGH_FULL_NAME == 'QUEENS'].STATION.count())\n",
    "num_station_in_borough.append(borough_station_daily[borough_station_daily.BOROUGH_FULL_NAME == 'BROOKLYN'].STATION.count())\n",
    "num_station_in_borough.append(borough_station_daily[borough_station_daily.BOROUGH_FULL_NAME == 'MANHATTAN'].STATION.count())\n",
    "num_station_in_borough"
   ]
  },
  {
   "cell_type": "code",
   "execution_count": 1275,
   "metadata": {},
   "outputs": [
    {
     "data": {
      "image/png": "[encoded data removed]",
      "text/plain": [
       "<Figure size 432x288 with 1 Axes>"
      ]
     },
     "metadata": {},
     "output_type": "display_data"
    }
   ],
   "source": [
    "plt.pie(num_station_in_borough,labels=['STATEN ISLAND','THE BRONX','QUEENS','BROOKLYN','MANHATTAN'], explode = [0.1,0.1,0.1,0.1,0.1]);"
   ]
  },
  {
   "cell_type": "code",
   "execution_count": 105,
   "metadata": {},
   "outputs": [
    {
     "data": {
      "text/plain": [
       "Text(0.5, 1.0, 'Daily Entries for Turnstile A011/R080/01-00-00 at 57 ST-7 AV Station')"
      ]
     },
     "execution_count": 105,
     "metadata": {},
     "output_type": "execute_result"
    },
    {
     "data": {
      "image/png": "[encoded data removed]",
      "text/plain": [
       "<Figure size 1080x360 with 1 Axes>"
      ]
     },
     "metadata": {
      "needs_background": "light"
     },
     "output_type": "display_data"
    }
   ],
   "source": [
    "plt.figure(figsize=(15,5))\n",
    "plt.plot(single_turnstile['DATE'], single_turnstile['DAILY_ENTRIES'])\n",
    "plt.ylabel('# of Entries')\n",
    "plt.xlabel('Date')\n",
    "plt.xticks(rotation=45)\n",
    "plt.title('Daily Entries for Turnstile A011/R080/01-00-00 at 57 ST-7 AV Station')"
   ]
  },
  {
   "cell_type": "code",
   "execution_count": 106,
   "metadata": {},
   "outputs": [
    {
     "data": {
      "text/html": [
       "<div>\n",
       "<style scoped>\n",
       "    .dataframe tbody tr th:only-of-type {\n",
       "        vertical-align: middle;\n",
       "    }\n",
       "\n",
       "    .dataframe tbody tr th {\n",
       "        vertical-align: top;\n",
       "    }\n",
       "\n",
       "    .dataframe thead th {\n",
       "        text-align: right;\n",
       "    }\n",
       "</style>\n",
       "<table border=\"1\" class=\"dataframe\">\n",
       "  <thead>\n",
       "    <tr style=\"text-align: right;\">\n",
       "      <th></th>\n",
       "      <th>STATION</th>\n",
       "      <th>DATE</th>\n",
       "      <th>DAILY_ENTRIES</th>\n",
       "    </tr>\n",
       "  </thead>\n",
       "  <tbody>\n",
       "    <tr>\n",
       "      <th>7252</th>\n",
       "      <td>57 ST-7 AV</td>\n",
       "      <td>08/26/2018</td>\n",
       "      <td>21261.0</td>\n",
       "    </tr>\n",
       "    <tr>\n",
       "      <th>7253</th>\n",
       "      <td>57 ST-7 AV</td>\n",
       "      <td>08/27/2018</td>\n",
       "      <td>18335.0</td>\n",
       "    </tr>\n",
       "    <tr>\n",
       "      <th>7254</th>\n",
       "      <td>57 ST-7 AV</td>\n",
       "      <td>08/28/2018</td>\n",
       "      <td>35529.0</td>\n",
       "    </tr>\n",
       "    <tr>\n",
       "      <th>7255</th>\n",
       "      <td>57 ST-7 AV</td>\n",
       "      <td>08/29/2018</td>\n",
       "      <td>37681.0</td>\n",
       "    </tr>\n",
       "    <tr>\n",
       "      <th>7256</th>\n",
       "      <td>57 ST-7 AV</td>\n",
       "      <td>08/30/2018</td>\n",
       "      <td>37844.0</td>\n",
       "    </tr>\n",
       "  </tbody>\n",
       "</table>\n",
       "</div>"
      ],
      "text/plain": [
       "         STATION        DATE  DAILY_ENTRIES\n",
       "7252  57 ST-7 AV  08/26/2018        21261.0\n",
       "7253  57 ST-7 AV  08/27/2018        18335.0\n",
       "7254  57 ST-7 AV  08/28/2018        35529.0\n",
       "7255  57 ST-7 AV  08/29/2018        37681.0\n",
       "7256  57 ST-7 AV  08/30/2018        37844.0"
      ]
     },
     "execution_count": 106,
     "metadata": {},
     "output_type": "execute_result"
    }
   ],
   "source": [
    "station_daily_57_av = station_daily[station_daily['STATION'] == '57 ST-7 AV']\n",
    "station_daily_57_av.head()"
   ]
  },
  {
   "cell_type": "code",
   "execution_count": 107,
   "metadata": {},
   "outputs": [
    {
     "data": {
      "text/plain": [
       "Text(0.5, 1.0, 'Daily Entries for 57 ST-7 AV Station')"
      ]
     },
     "execution_count": 107,
     "metadata": {},
     "output_type": "execute_result"
    },
    {
     "data": {
      "image/png": "[encoded data removed]",
      "text/plain": [
       "<Figure size 1080x360 with 1 Axes>"
      ]
     },
     "metadata": {
      "needs_background": "light"
     },
     "output_type": "display_data"
    }
   ],
   "source": [
    "plt.figure(figsize=(15,5))\n",
    "plt.plot(station_daily_57_av['DATE'], station_daily_57_av['DAILY_ENTRIES'])\n",
    "plt.ylabel('# of Entries')\n",
    "plt.xlabel('Date')\n",
    "plt.xticks(rotation=45)\n",
    "plt.title('Daily Entries for 57 ST-7 AV Station')"
   ]
  },
  {
   "cell_type": "code",
   "execution_count": 108,
   "metadata": {},
   "outputs": [
    {
     "name": "stderr",
     "output_type": "stream",
     "text": [
      "<ipython-input-108-43a113d8b32f>:1: SettingWithCopyWarning: \n",
      "A value is trying to be set on a copy of a slice from a DataFrame.\n",
      "Try using .loc[row_indexer,col_indexer] = value instead\n",
      "\n",
      "See the caveats in the documentation: https://pandas.pydata.org/pandas-docs/stable/user_guide/indexing.html#returning-a-view-versus-a-copy\n",
      "  station_daily_57_av['DAY_OF_WEEK_NUM'] = pd.to_datetime(station_daily_57_av['DATE']).dt.dayofweek\n",
      "<ipython-input-108-43a113d8b32f>:2: FutureWarning: Series.dt.weekofyear and Series.dt.week have been deprecated.  Please use Series.dt.isocalendar().week instead.\n",
      "  station_daily_57_av['WEEK_OF_YEAR'] = pd.to_datetime(station_daily_57_av['DATE']).dt.week\n",
      "<ipython-input-108-43a113d8b32f>:2: SettingWithCopyWarning: \n",
      "A value is trying to be set on a copy of a slice from a DataFrame.\n",
      "Try using .loc[row_indexer,col_indexer] = value instead\n",
      "\n",
      "See the caveats in the documentation: https://pandas.pydata.org/pandas-docs/stable/user_guide/indexing.html#returning-a-view-versus-a-copy\n",
      "  station_daily_57_av['WEEK_OF_YEAR'] = pd.to_datetime(station_daily_57_av['DATE']).dt.week\n"
     ]
    },
    {
     "data": {
      "text/html": [
       "<div>\n",
       "<style scoped>\n",
       "    .dataframe tbody tr th:only-of-type {\n",
       "        vertical-align: middle;\n",
       "    }\n",
       "\n",
       "    .dataframe tbody tr th {\n",
       "        vertical-align: top;\n",
       "    }\n",
       "\n",
       "    .dataframe thead th {\n",
       "        text-align: right;\n",
       "    }\n",
       "</style>\n",
       "<table border=\"1\" class=\"dataframe\">\n",
       "  <thead>\n",
       "    <tr style=\"text-align: right;\">\n",
       "      <th></th>\n",
       "      <th>STATION</th>\n",
       "      <th>DATE</th>\n",
       "      <th>DAILY_ENTRIES</th>\n",
       "      <th>DAY_OF_WEEK_NUM</th>\n",
       "      <th>WEEK_OF_YEAR</th>\n",
       "    </tr>\n",
       "  </thead>\n",
       "  <tbody>\n",
       "    <tr>\n",
       "      <th>7252</th>\n",
       "      <td>57 ST-7 AV</td>\n",
       "      <td>08/26/2018</td>\n",
       "      <td>21261.0</td>\n",
       "      <td>6</td>\n",
       "      <td>34</td>\n",
       "    </tr>\n",
       "    <tr>\n",
       "      <th>7253</th>\n",
       "      <td>57 ST-7 AV</td>\n",
       "      <td>08/27/2018</td>\n",
       "      <td>18335.0</td>\n",
       "      <td>0</td>\n",
       "      <td>35</td>\n",
       "    </tr>\n",
       "    <tr>\n",
       "      <th>7254</th>\n",
       "      <td>57 ST-7 AV</td>\n",
       "      <td>08/28/2018</td>\n",
       "      <td>35529.0</td>\n",
       "      <td>1</td>\n",
       "      <td>35</td>\n",
       "    </tr>\n",
       "    <tr>\n",
       "      <th>7255</th>\n",
       "      <td>57 ST-7 AV</td>\n",
       "      <td>08/29/2018</td>\n",
       "      <td>37681.0</td>\n",
       "      <td>2</td>\n",
       "      <td>35</td>\n",
       "    </tr>\n",
       "    <tr>\n",
       "      <th>7256</th>\n",
       "      <td>57 ST-7 AV</td>\n",
       "      <td>08/30/2018</td>\n",
       "      <td>37844.0</td>\n",
       "      <td>3</td>\n",
       "      <td>35</td>\n",
       "    </tr>\n",
       "    <tr>\n",
       "      <th>...</th>\n",
       "      <td>...</td>\n",
       "      <td>...</td>\n",
       "      <td>...</td>\n",
       "      <td>...</td>\n",
       "      <td>...</td>\n",
       "    </tr>\n",
       "    <tr>\n",
       "      <th>7337</th>\n",
       "      <td>57 ST-7 AV</td>\n",
       "      <td>11/19/2018</td>\n",
       "      <td>15772.0</td>\n",
       "      <td>0</td>\n",
       "      <td>47</td>\n",
       "    </tr>\n",
       "    <tr>\n",
       "      <th>7338</th>\n",
       "      <td>57 ST-7 AV</td>\n",
       "      <td>11/20/2018</td>\n",
       "      <td>41379.0</td>\n",
       "      <td>1</td>\n",
       "      <td>47</td>\n",
       "    </tr>\n",
       "    <tr>\n",
       "      <th>7339</th>\n",
       "      <td>57 ST-7 AV</td>\n",
       "      <td>11/21/2018</td>\n",
       "      <td>41241.0</td>\n",
       "      <td>2</td>\n",
       "      <td>47</td>\n",
       "    </tr>\n",
       "    <tr>\n",
       "      <th>7340</th>\n",
       "      <td>57 ST-7 AV</td>\n",
       "      <td>11/22/2018</td>\n",
       "      <td>34599.0</td>\n",
       "      <td>3</td>\n",
       "      <td>47</td>\n",
       "    </tr>\n",
       "    <tr>\n",
       "      <th>7341</th>\n",
       "      <td>57 ST-7 AV</td>\n",
       "      <td>11/23/2018</td>\n",
       "      <td>18361.0</td>\n",
       "      <td>4</td>\n",
       "      <td>47</td>\n",
       "    </tr>\n",
       "  </tbody>\n",
       "</table>\n",
       "<p>90 rows × 5 columns</p>\n",
       "</div>"
      ],
      "text/plain": [
       "         STATION        DATE  DAILY_ENTRIES  DAY_OF_WEEK_NUM  WEEK_OF_YEAR\n",
       "7252  57 ST-7 AV  08/26/2018        21261.0                6            34\n",
       "7253  57 ST-7 AV  08/27/2018        18335.0                0            35\n",
       "7254  57 ST-7 AV  08/28/2018        35529.0                1            35\n",
       "7255  57 ST-7 AV  08/29/2018        37681.0                2            35\n",
       "7256  57 ST-7 AV  08/30/2018        37844.0                3            35\n",
       "...          ...         ...            ...              ...           ...\n",
       "7337  57 ST-7 AV  11/19/2018        15772.0                0            47\n",
       "7338  57 ST-7 AV  11/20/2018        41379.0                1            47\n",
       "7339  57 ST-7 AV  11/21/2018        41241.0                2            47\n",
       "7340  57 ST-7 AV  11/22/2018        34599.0                3            47\n",
       "7341  57 ST-7 AV  11/23/2018        18361.0                4            47\n",
       "\n",
       "[90 rows x 5 columns]"
      ]
     },
     "execution_count": 108,
     "metadata": {},
     "output_type": "execute_result"
    }
   ],
   "source": [
    "station_daily_57_av['DAY_OF_WEEK_NUM'] = pd.to_datetime(station_daily_57_av['DATE']).dt.dayofweek\n",
    "station_daily_57_av['WEEK_OF_YEAR'] = pd.to_datetime(station_daily_57_av['DATE']).dt.week\n",
    "station_daily_57_av"
   ]
  },
  {
   "cell_type": "code",
   "execution_count": 109,
   "metadata": {},
   "outputs": [
    {
     "data": {
      "text/plain": [
       "Text(0.5, 1.0, 'Ridership per day for 57 ST-7 AV station')"
      ]
     },
     "execution_count": 109,
     "metadata": {},
     "output_type": "execute_result"
    },
    {
     "data": {
      "image/png": "[encoded data removed]",
      "text/plain": [
       "<Figure size 432x288 with 1 Axes>"
      ]
     },
     "metadata": {
      "needs_background": "light"
     },
     "output_type": "display_data"
    }
   ],
   "source": [
    "#each line is one week for one station(ex. Week 34)\n",
    "for i, group in station_daily_57_av.groupby('WEEK_OF_YEAR'):\n",
    "    plt.plot(group['DAY_OF_WEEK_NUM'], group['DAILY_ENTRIES'])\n",
    "    \n",
    "plt.xlabel('Day of the week')\n",
    "plt.ylabel('Number of turnstile entries')\n",
    "plt.legend\n",
    "plt.xticks(np.arange(7),['Mo','Tu','We','Th','Fr','St','Sn'])\n",
    "plt.title('Ridership per day for 57 ST-7 AV station')"
   ]
  },
  {
   "cell_type": "code",
   "execution_count": 110,
   "metadata": {},
   "outputs": [
    {
     "data": {
      "image/png": "[encoded data removed]",
      "text/plain": [
       "<Figure size 432x288 with 1 Axes>"
      ]
     },
     "metadata": {
      "needs_background": "light"
     },
     "output_type": "display_data"
    }
   ],
   "source": [
    "plt.hist(station_totals['DAILY_ENTRIES']);"
   ]
  },
  {
   "cell_type": "code",
   "execution_count": 111,
   "metadata": {},
   "outputs": [
    {
     "data": {
      "image/png": "[encoded data removed]",
      "text/plain": [
       "<Figure size 432x288 with 1 Axes>"
      ]
     },
     "metadata": {
      "needs_background": "light"
     },
     "output_type": "display_data"
    }
   ],
   "source": [
    "#top ten stations\n",
    "plt.bar(x=station_totals['STATION'][:10], height=station_totals['DAILY_ENTRIES'][:10])\n",
    "plt.xticks(rotation=90);"
   ]
  },
  {
   "cell_type": "code",
   "execution_count": null,
   "metadata": {},
   "outputs": [],
   "source": [
    "STATION_NAME_BOROUGH[STATION_NAME_BOROUGH.STATION == '125 ST']\n"
   ]
  },
  {
   "cell_type": "code",
   "execution_count": null,
   "metadata": {},
   "outputs": [],
   "source": []
  }
 ],
 "metadata": {
  "kernelspec": {
   "display_name": "Python 3",
   "language": "python",
   "name": "python3"
  },
  "language_info": {
   "codemirror_mode": {
    "name": "ipython",
    "version": 3
   },
   "file_extension": ".py",
   "mimetype": "text/x-python",
   "name": "python",
   "nbconvert_exporter": "python",
   "pygments_lexer": "ipython3",
   "version": "3.8.5"
  }
 },
 "nbformat": 4,
 "nbformat_minor": 4
}
